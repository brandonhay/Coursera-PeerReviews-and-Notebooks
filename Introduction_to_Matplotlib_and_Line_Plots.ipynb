{
 "cells": [
  {
   "cell_type": "markdown",
   "metadata": {
    "button": false,
    "deletable": true,
    "new_sheet": false,
    "run_control": {
     "read_only": false
    }
   },
   "source": [
    "<a href=\"https://cognitiveclass.ai\"><img src = \"https://ibm.box.com/shared/static/9gegpsmnsoo25ikkbl4qzlvlyjbgxs5x.png\" width = 400> </a>\n",
    "\n",
    "<h1 align=center><font size = 5>Introduction to Matplotlib and Line Plots</font></h1>"
   ]
  },
  {
   "cell_type": "markdown",
   "metadata": {
    "button": false,
    "deletable": true,
    "new_sheet": false,
    "run_control": {
     "read_only": false
    }
   },
   "source": [
    "## Introduction\n",
    "\n",
    "The aim of these labs is to introduce you to data visualization with Python as concrete and as consistent as possible. \n",
    "Speaking of consistency, because there is no *best* data visualization library avaiblable for Python - up to creating these labs - we have to introduce different libraries and show their benefits when we are discussing new visualization concepts. Doing so, we hope to make students well-rounded with visualization libraries and concepts so that they are able to judge and decide on the best visualitzation technique and tool for a given problem _and_ audience.\n",
    "\n",
    "Please make sure that you have completed the prerequisites for this course, namely <a href='http://cocl.us/PY0101EN_DV0101EN_LAB1_Coursera'>**Python for Data Science**</a> and <a href='http://cocl.us/DA0101EN_DV0101EN_LAB1_Coursera'>**Data Analysis with Python**</a>, which are part of this specialization. \n",
    "\n",
    "**Note**: The majority of the plots and visualizations will be generated using data stored in *pandas* dataframes. Therefore, in this lab, we provide a brief crash course on *pandas*. However, if you are interested in learning more about the *pandas* library, detailed description and explanation of how to use it and how to clean, munge, and process data stored in a *pandas* dataframe are provided in our course <a href='http://cocl.us/DA0101EN_DV0101EN_LAB1_Coursera'>**Data Analysis with Python**</a>, which is also part of this specialization. \n",
    "\n",
    "------------"
   ]
  },
  {
   "cell_type": "markdown",
   "metadata": {
    "button": false,
    "deletable": true,
    "new_sheet": false,
    "run_control": {
     "read_only": false
    }
   },
   "source": [
    "## Table of Contents\n",
    "\n",
    "<div class=\"alert alert-block alert-info\" style=\"margin-top: 20px\">\n",
    "\n",
    "1. [Exploring Datasets with *pandas*](#0)<br>\n",
    "1.1 [The Dataset: Immigration to Canada from 1980 to 2013](#2)<br>\n",
    "1.2 [*pandas* Basics](#4) <br>\n",
    "1.3 [*pandas* Intermediate: Indexing and Selection](#6) <br>\n",
    "2. [Visualizing Data using Matplotlib](#8) <br>\n",
    "2.1 [Matplotlib: Standard Python Visualization Library](#10) <br>\n",
    "3. [Line Plots](#12)\n",
    "</div>\n",
    "<hr>"
   ]
  },
  {
   "cell_type": "markdown",
   "metadata": {
    "button": false,
    "deletable": true,
    "new_sheet": false,
    "run_control": {
     "read_only": false
    }
   },
   "\n"
   "source": [
    "# Exploring Datasets with *pandas* <a id=\"0\"></a>\n",
    "\n",
    "*pandas* is an essential data analysis toolkit for Python. From their [website](http://pandas.pydata.org/):\n",
    ">*pandas* is a Python package providing fast, flexible, and expressive data structures designed to make working with “relational” or “labeled” data both easy and intuitive. It aims to be the fundamental high-level building block for doing practical, **real world** data analysis in Python.\n",
    "\n",
    "The course heavily relies on *pandas* for data wrangling, analysis, and visualization. We encourage you to spend some time and  familizare yourself with the *pandas* API Reference: http://pandas.pydata.org/pandas-docs/stable/api.html."
   ]
  },
  {
   "cell_type": "markdown",
   "metadata": {
    "button": false,
    "deletable": true,
    "new_sheet": false,
    "run_control": {
     "read_only": false
    }
   },
   "source": [
    "## The Dataset: Immigration to Canada from 1980 to 2013 <a id=\"2\"></a>"
   ]
  },
  {
   "cell_type": "markdown",
   "metadata": {
    "button": false,
    "deletable": true,
    "new_sheet": false,
    "run_control": {
     "read_only": false
    }
   },
   "source": [
    "Dataset Source: [International migration flows to and from selected countries - The 2015 revision](http://www.un.org/en/development/desa/population/migration/data/empirical2/migrationflows.shtml).\n",
    "\n",
    "The dataset contains annual data on the flows of international immigrants as recorded by the countries of destination. The data presents both inflows and outflows according to the place of birth, citizenship or place of previous / next residence both for foreigners and nationals. The current version presents data pertaining to 45 countries.\n",
    "\n",
    "In this lab, we will focus on the Canadian immigration data.\n",
    "\n",
    "<img src = \"https://s3-api.us-geo.objectstorage.softlayer.net/cf-courses-data/CognitiveClass/DV0101EN/labs/Images/Mod1Fig1-Dataset.png\" align=\"center\" width=900>\n",
    "\n",
    "For sake of simplicity, Canada's immigration data has been extracted and uploaded to one of IBM servers. You can fetch the data from [here](https://ibm.box.com/shared/static/lw190pt9zpy5bd1ptyg2aw15awomz9pu.xlsx).\n",
    "\n",
    "---"
   ]
  },
  {
   "cell_type": "markdown",
   "metadata": {
    "button": false,
    "deletable": true,
    "new_sheet": false,
    "run_control": {
     "read_only": false
    }
   },
   "source": [
    "## *pandas* Basics<a id=\"4\"></a>"
   ]
  },
  {
   "cell_type": "markdown",
   "metadata": {
    "button": false,
    "deletable": true,
    "new_sheet": false,
    "run_control": {
     "read_only": false
    }
   },
   "source": [
    "The first thing we'll do is import two key data analysis modules: *pandas* and **Numpy**."
   ]
  },
  {
   "cell_type": "code",
   "execution_count": 1,
   "metadata": {
    "button": false,
    "deletable": true,
    "new_sheet": false,
    "run_control": {
     "read_only": false
    }
   },
   "outputs": [],
   "source": [
    "import numpy as np  # useful for many scientific computing in Python\n",
    "import pandas as pd # primary data structure library"
   ]
  },
  {
   "cell_type": "markdown",
   "metadata": {
    "button": false,
    "deletable": true,
    "new_sheet": false,
    "run_control": {
     "read_only": false
    }
   },
   "source": [
    "Let's download and import our primary Canadian Immigration dataset using *pandas* `read_excel()` method. Normally, before we can do that, we would need to download a module which *pandas* requires to read in excel files. This module is **xlrd**. For your convenience, we have pre-installed this module, so you would not have to worry about that. Otherwise, you would need to run the following line of code to install the **xlrd** module:\n",
    "```\n",
    "!conda install -c anaconda xlrd --yes\n",
    "```"
   ]
  },
  {
   "cell_type": "markdown",
   "metadata": {
    "button": false,
    "deletable": true,
    "new_sheet": false,
    "run_control": {
     "read_only": false
    }
   },
   "source": [
    "Now we are ready to read in our data."
   ]
  },
  {
   "cell_type": "code",
   "execution_count": 2,
   "metadata": {
    "button": false,
    "collapsed": false,
    "deletable": true,
    "jupyter": {
     "outputs_hidden": false
    },
    "new_sheet": false,
    "run_control": {
     "read_only": false
    }
   },
   "outputs": [
    {
     "name": "stdout",
     "output_type": "stream",
     "text": [
      "Data read into a pandas dataframe!\n"
     ]
    }
   ],
   "source": [
    "df_can = pd.read_excel('https://s3-api.us-geo.objectstorage.softlayer.net/cf-courses-data/CognitiveClass/DV0101EN/labs/Data_Files/Canada.xlsx',\n",
    "                       sheet_name='Canada by Citizenship',\n",
    "                       skiprows=range(20),\n",
    "                       skipfooter=2)\n",
    "\n",
    "print ('Data read into a pandas dataframe!')"
   ]
  },
  {
   "cell_type": "markdown",
   "metadata": {
    "button": false,
    "deletable": true,
    "new_sheet": false,
    "run_control": {
     "read_only": false
    }
   },
   "source": [
    "Let's view the top 5 rows of the dataset using the `head()` function."
   ]
  },
  {
   "cell_type": "code",
   "execution_count": 16,
   "metadata": {
    "button": false,
    "collapsed": false,
    "deletable": true,
    "jupyter": {
     "outputs_hidden": false
    },
    "new_sheet": false,
    "run_control": {
     "read_only": false
    }
   },
   "outputs": [
    {
     "data": {
      "text/html": [
       "<div>\n",
       "<style scoped>\n",
       "    .dataframe tbody tr th:only-of-type {\n",
       "        vertical-align: middle;\n",
       "    }\n",
       "\n",
       "    .dataframe tbody tr th {\n",
       "        vertical-align: top;\n",
       "    }\n",
       "\n",
       "    .dataframe thead th {\n",
       "        text-align: right;\n",
       "    }\n",
       "</style>\n",
       "<table border=\"1\" class=\"dataframe\">\n",
       "  <thead>\n",
       "    <tr style=\"text-align: right;\">\n",
       "      <th></th>\n",
       "      <th>Type</th>\n",
       "      <th>Coverage</th>\n",
       "      <th>OdName</th>\n",
       "      <th>AREA</th>\n",
       "      <th>AreaName</th>\n",
       "      <th>REG</th>\n",
       "      <th>RegName</th>\n",
       "      <th>DEV</th>\n",
       "      <th>DevName</th>\n",
       "      <th>1980</th>\n",
       "      <th>...</th>\n",
       "      <th>2004</th>\n",
       "      <th>2005</th>\n",
       "      <th>2006</th>\n",
       "      <th>2007</th>\n",
       "      <th>2008</th>\n",
       "      <th>2009</th>\n",
       "      <th>2010</th>\n",
       "      <th>2011</th>\n",
       "      <th>2012</th>\n",
       "      <th>2013</th>\n",
       "    </tr>\n",
       "  </thead>\n",
       "  <tbody>\n",
       "    <tr>\n",
       "      <th>0</th>\n",
       "      <td>Immigrants</td>\n",
       "      <td>Foreigners</td>\n",
       "      <td>Afghanistan</td>\n",
       "      <td>935</td>\n",
       "      <td>Asia</td>\n",
       "      <td>5501</td>\n",
       "      <td>Southern Asia</td>\n",
       "      <td>902</td>\n",
       "      <td>Developing regions</td>\n",
       "      <td>16</td>\n",
       "      <td>...</td>\n",
       "      <td>2978</td>\n",
       "      <td>3436</td>\n",
       "      <td>3009</td>\n",
       "      <td>2652</td>\n",
       "      <td>2111</td>\n",
       "      <td>1746</td>\n",
       "      <td>1758</td>\n",
       "      <td>2203</td>\n",
       "      <td>2635</td>\n",
       "      <td>2004</td>\n",
       "    </tr>\n",
       "    <tr>\n",
       "      <th>1</th>\n",
       "      <td>Immigrants</td>\n",
       "      <td>Foreigners</td>\n",
       "      <td>Albania</td>\n",
       "      <td>908</td>\n",
       "      <td>Europe</td>\n",
       "      <td>925</td>\n",
       "      <td>Southern Europe</td>\n",
       "      <td>901</td>\n",
       "      <td>Developed regions</td>\n",
       "      <td>1</td>\n",
       "      <td>...</td>\n",
       "      <td>1450</td>\n",
       "      <td>1223</td>\n",
       "      <td>856</td>\n",
       "      <td>702</td>\n",
       "      <td>560</td>\n",
       "      <td>716</td>\n",
       "      <td>561</td>\n",
       "      <td>539</td>\n",
       "      <td>620</td>\n",
       "      <td>603</td>\n",
       "    </tr>\n",
       "    <tr>\n",
       "      <th>2</th>\n",
       "      <td>Immigrants</td>\n",
       "      <td>Foreigners</td>\n",
       "      <td>Algeria</td>\n",
       "      <td>903</td>\n",
       "      <td>Africa</td>\n",
       "      <td>912</td>\n",
       "      <td>Northern Africa</td>\n",
       "      <td>902</td>\n",
       "      <td>Developing regions</td>\n",
       "      <td>80</td>\n",
       "      <td>...</td>\n",
       "      <td>3616</td>\n",
       "      <td>3626</td>\n",
       "      <td>4807</td>\n",
       "      <td>3623</td>\n",
       "      <td>4005</td>\n",
       "      <td>5393</td>\n",
       "      <td>4752</td>\n",
       "      <td>4325</td>\n",
       "      <td>3774</td>\n",
       "      <td>4331</td>\n",
       "    </tr>\n",
       "    <tr>\n",
       "      <th>3</th>\n",
       "      <td>Immigrants</td>\n",
       "      <td>Foreigners</td>\n",
       "      <td>American Samoa</td>\n",
       "      <td>909</td>\n",
       "      <td>Oceania</td>\n",
       "      <td>957</td>\n",
       "      <td>Polynesia</td>\n",
       "      <td>902</td>\n",
       "      <td>Developing regions</td>\n",
       "      <td>0</td>\n",
       "      <td>...</td>\n",
       "      <td>0</td>\n",
       "      <td>0</td>\n",
       "      <td>1</td>\n",
       "      <td>0</td>\n",
       "      <td>0</td>\n",
       "      <td>0</td>\n",
       "      <td>0</td>\n",
       "      <td>0</td>\n",
       "      <td>0</td>\n",
       "      <td>0</td>\n",
       "    </tr>\n",
       "    <tr>\n",
       "      <th>4</th>\n",
       "      <td>Immigrants</td>\n",
       "      <td>Foreigners</td>\n",
       "      <td>Andorra</td>\n",
       "      <td>908</td>\n",
       "      <td>Europe</td>\n",
       "      <td>925</td>\n",
       "      <td>Southern Europe</td>\n",
       "      <td>901</td>\n",
       "      <td>Developed regions</td>\n",
       "      <td>0</td>\n",
       "      <td>...</td>\n",
       "      <td>0</td>\n",
       "      <td>0</td>\n",
       "      <td>1</td>\n",
       "      <td>1</td>\n",
       "      <td>0</td>\n",
       "      <td>0</td>\n",
       "      <td>0</td>\n",
       "      <td>0</td>\n",
       "      <td>1</td>\n",
       "      <td>1</td>\n",
       "    </tr>\n",
       "  </tbody>\n",
       "</table>\n",
       "<p>5 rows × 43 columns</p>\n",
       "</div>"
      ],
      "text/plain": [
       "         Type    Coverage          OdName  AREA AreaName   REG  \\\n",
       "0  Immigrants  Foreigners     Afghanistan   935     Asia  5501   \n",
       "1  Immigrants  Foreigners         Albania   908   Europe   925   \n",
       "2  Immigrants  Foreigners         Algeria   903   Africa   912   \n",
       "3  Immigrants  Foreigners  American Samoa   909  Oceania   957   \n",
       "4  Immigrants  Foreigners         Andorra   908   Europe   925   \n",
       "\n",
       "           RegName  DEV             DevName  1980  ...  2004  2005  2006  \\\n",
       "0    Southern Asia  902  Developing regions    16  ...  2978  3436  3009   \n",
       "1  Southern Europe  901   Developed regions     1  ...  1450  1223   856   \n",
       "2  Northern Africa  902  Developing regions    80  ...  3616  3626  4807   \n",
       "3        Polynesia  902  Developing regions     0  ...     0     0     1   \n",
       "4  Southern Europe  901   Developed regions     0  ...     0     0     1   \n",
       "\n",
       "   2007  2008  2009  2010  2011  2012  2013  \n",
       "0  2652  2111  1746  1758  2203  2635  2004  \n",
       "1   702   560   716   561   539   620   603  \n",
       "2  3623  4005  5393  4752  4325  3774  4331  \n",
       "3     0     0     0     0     0     0     0  \n",
       "4     1     0     0     0     0     1     1  \n",
       "\n",
       "[5 rows x 43 columns]"
      ]
     },
     "execution_count": 16,
     "metadata": {},
     "output_type": "execute_result"
    }
   ],
   "source": [
    "df_can.head()\n",
    "# tip: You can specify the number of rows you'd like to see as follows: df_can.head(10) "
   ]
  },
  {
   "cell_type": "markdown",
   "metadata": {
    "button": false,
    "deletable": true,
    "new_sheet": false,
    "run_control": {
     "read_only": false
    }
   },
   "source": [
    "We can also veiw the bottom 5 rows of the dataset using the `tail()` function."
   ]
  },
  {
   "cell_type": "code",
   "execution_count": 4,
   "metadata": {
    "button": false,
    "collapsed": false,
    "deletable": true,
    "jupyter": {
     "outputs_hidden": false
    },
    "new_sheet": false,
    "run_control": {
     "read_only": false
    }
   },
   "outputs": [
    {
     "data": {
      "text/html": [
       "<div>\n",
       "<style scoped>\n",
       "    .dataframe tbody tr th:only-of-type {\n",
       "        vertical-align: middle;\n",
       "    }\n",
       "\n",
       "    .dataframe tbody tr th {\n",
       "        vertical-align: top;\n",
       "    }\n",
       "\n",
       "    .dataframe thead th {\n",
       "        text-align: right;\n",
       "    }\n",
       "</style>\n",
       "<table border=\"1\" class=\"dataframe\">\n",
       "  <thead>\n",
       "    <tr style=\"text-align: right;\">\n",
       "      <th></th>\n",
       "      <th>Type</th>\n",
       "      <th>Coverage</th>\n",
       "      <th>OdName</th>\n",
       "      <th>AREA</th>\n",
       "      <th>AreaName</th>\n",
       "      <th>REG</th>\n",
       "      <th>RegName</th>\n",
       "      <th>DEV</th>\n",
       "      <th>DevName</th>\n",
       "      <th>1980</th>\n",
       "      <th>...</th>\n",
       "      <th>2004</th>\n",
       "      <th>2005</th>\n",
       "      <th>2006</th>\n",
       "      <th>2007</th>\n",
       "      <th>2008</th>\n",
       "      <th>2009</th>\n",
       "      <th>2010</th>\n",
       "      <th>2011</th>\n",
       "      <th>2012</th>\n",
       "      <th>2013</th>\n",
       "    </tr>\n",
       "  </thead>\n",
       "  <tbody>\n",
       "    <tr>\n",
       "      <th>190</th>\n",
       "      <td>Immigrants</td>\n",
       "      <td>Foreigners</td>\n",
       "      <td>Viet Nam</td>\n",
       "      <td>935</td>\n",
       "      <td>Asia</td>\n",
       "      <td>920</td>\n",
       "      <td>South-Eastern Asia</td>\n",
       "      <td>902</td>\n",
       "      <td>Developing regions</td>\n",
       "      <td>1191</td>\n",
       "      <td>...</td>\n",
       "      <td>1816</td>\n",
       "      <td>1852</td>\n",
       "      <td>3153</td>\n",
       "      <td>2574</td>\n",
       "      <td>1784</td>\n",
       "      <td>2171</td>\n",
       "      <td>1942</td>\n",
       "      <td>1723</td>\n",
       "      <td>1731</td>\n",
       "      <td>2112</td>\n",
       "    </tr>\n",
       "    <tr>\n",
       "      <th>191</th>\n",
       "      <td>Immigrants</td>\n",
       "      <td>Foreigners</td>\n",
       "      <td>Western Sahara</td>\n",
       "      <td>903</td>\n",
       "      <td>Africa</td>\n",
       "      <td>912</td>\n",
       "      <td>Northern Africa</td>\n",
       "      <td>902</td>\n",
       "      <td>Developing regions</td>\n",
       "      <td>0</td>\n",
       "      <td>...</td>\n",
       "      <td>0</td>\n",
       "      <td>0</td>\n",
       "      <td>1</td>\n",
       "      <td>0</td>\n",
       "      <td>0</td>\n",
       "      <td>0</td>\n",
       "      <td>0</td>\n",
       "      <td>0</td>\n",
       "      <td>0</td>\n",
       "      <td>0</td>\n",
       "    </tr>\n",
       "    <tr>\n",
       "      <th>192</th>\n",
       "      <td>Immigrants</td>\n",
       "      <td>Foreigners</td>\n",
       "      <td>Yemen</td>\n",
       "      <td>935</td>\n",
       "      <td>Asia</td>\n",
       "      <td>922</td>\n",
       "      <td>Western Asia</td>\n",
       "      <td>902</td>\n",
       "      <td>Developing regions</td>\n",
       "      <td>1</td>\n",
       "      <td>...</td>\n",
       "      <td>124</td>\n",
       "      <td>161</td>\n",
       "      <td>140</td>\n",
       "      <td>122</td>\n",
       "      <td>133</td>\n",
       "      <td>128</td>\n",
       "      <td>211</td>\n",
       "      <td>160</td>\n",
       "      <td>174</td>\n",
       "      <td>217</td>\n",
       "    </tr>\n",
       "    <tr>\n",
       "      <th>193</th>\n",
       "      <td>Immigrants</td>\n",
       "      <td>Foreigners</td>\n",
       "      <td>Zambia</td>\n",
       "      <td>903</td>\n",
       "      <td>Africa</td>\n",
       "      <td>910</td>\n",
       "      <td>Eastern Africa</td>\n",
       "      <td>902</td>\n",
       "      <td>Developing regions</td>\n",
       "      <td>11</td>\n",
       "      <td>...</td>\n",
       "      <td>56</td>\n",
       "      <td>91</td>\n",
       "      <td>77</td>\n",
       "      <td>71</td>\n",
       "      <td>64</td>\n",
       "      <td>60</td>\n",
       "      <td>102</td>\n",
       "      <td>69</td>\n",
       "      <td>46</td>\n",
       "      <td>59</td>\n",
       "    </tr>\n",
       "    <tr>\n",
       "      <th>194</th>\n",
       "      <td>Immigrants</td>\n",
       "      <td>Foreigners</td>\n",
       "      <td>Zimbabwe</td>\n",
       "      <td>903</td>\n",
       "      <td>Africa</td>\n",
       "      <td>910</td>\n",
       "      <td>Eastern Africa</td>\n",
       "      <td>902</td>\n",
       "      <td>Developing regions</td>\n",
       "      <td>72</td>\n",
       "      <td>...</td>\n",
       "      <td>1450</td>\n",
       "      <td>615</td>\n",
       "      <td>454</td>\n",
       "      <td>663</td>\n",
       "      <td>611</td>\n",
       "      <td>508</td>\n",
       "      <td>494</td>\n",
       "      <td>434</td>\n",
       "      <td>437</td>\n",
       "      <td>407</td>\n",
       "    </tr>\n",
       "  </tbody>\n",
       "</table>\n",
       "<p>5 rows × 43 columns</p>\n",
       "</div>"
      ],
      "text/plain": [
       "           Type    Coverage          OdName  AREA AreaName  REG  \\\n",
       "190  Immigrants  Foreigners        Viet Nam   935     Asia  920   \n",
       "191  Immigrants  Foreigners  Western Sahara   903   Africa  912   \n",
       "192  Immigrants  Foreigners           Yemen   935     Asia  922   \n",
       "193  Immigrants  Foreigners          Zambia   903   Africa  910   \n",
       "194  Immigrants  Foreigners        Zimbabwe   903   Africa  910   \n",
       "\n",
       "                RegName  DEV             DevName  1980  ...  2004  2005  2006  \\\n",
       "190  South-Eastern Asia  902  Developing regions  1191  ...  1816  1852  3153   \n",
       "191     Northern Africa  902  Developing regions     0  ...     0     0     1   \n",
       "192        Western Asia  902  Developing regions     1  ...   124   161   140   \n",
       "193      Eastern Africa  902  Developing regions    11  ...    56    91    77   \n",
       "194      Eastern Africa  902  Developing regions    72  ...  1450   615   454   \n",
       "\n",
       "     2007  2008  2009  2010  2011  2012  2013  \n",
       "190  2574  1784  2171  1942  1723  1731  2112  \n",
       "191     0     0     0     0     0     0     0  \n",
       "192   122   133   128   211   160   174   217  \n",
       "193    71    64    60   102    69    46    59  \n",
       "194   663   611   508   494   434   437   407  \n",
       "\n",
       "[5 rows x 43 columns]"
      ]
     },
     "execution_count": 4,
     "metadata": {},
     "output_type": "execute_result"
    }
   ],
   "source": [
    "df_can.tail()"
   ]
  },
  {
   "cell_type": "markdown",
   "metadata": {
    "button": false,
    "deletable": true,
    "new_sheet": false,
    "run_control": {
     "read_only": false
    }
   },
   "source": [
    "When analyzing a dataset, it's always a good idea to start by getting basic information about your dataframe. We can do this by using the `info()` method."
   ]
  },
  {
   "cell_type": "code",
   "execution_count": 5,
   "metadata": {
    "button": false,
    "collapsed": false,
    "deletable": true,
    "jupyter": {
     "outputs_hidden": false
    },
    "new_sheet": false,
    "run_control": {
     "read_only": false
    },
    "scrolled": true
   },
   "outputs": [
    {
     "name": "stdout",
     "output_type": "stream",
     "text": [
      "<class 'pandas.core.frame.DataFrame'>\n",
      "RangeIndex: 195 entries, 0 to 194\n",
      "Data columns (total 43 columns):\n",
      " #   Column    Non-Null Count  Dtype \n",
      "---  ------    --------------  ----- \n",
      " 0   Type      195 non-null    object\n",
      " 1   Coverage  195 non-null    object\n",
      " 2   OdName    195 non-null    object\n",
      " 3   AREA      195 non-null    int64 \n",
      " 4   AreaName  195 non-null    object\n",
      " 5   REG       195 non-null    int64 \n",
      " 6   RegName   195 non-null    object\n",
      " 7   DEV       195 non-null    int64 \n",
      " 8   DevName   195 non-null    object\n",
      " 9   1980      195 non-null    int64 \n",
      " 10  1981      195 non-null    int64 \n",
      " 11  1982      195 non-null    int64 \n",
      " 12  1983      195 non-null    int64 \n",
      " 13  1984      195 non-null    int64 \n",
      " 14  1985      195 non-null    int64 \n",
      " 15  1986      195 non-null    int64 \n",
      " 16  1987      195 non-null    int64 \n",
      " 17  1988      195 non-null    int64 \n",
      " 18  1989      195 non-null    int64 \n",
      " 19  1990      195 non-null    int64 \n",
      " 20  1991      195 non-null    int64 \n",
      " 21  1992      195 non-null    int64 \n",
      " 22  1993      195 non-null    int64 \n",
      " 23  1994      195 non-null    int64 \n",
      " 24  1995      195 non-null    int64 \n",
      " 25  1996      195 non-null    int64 \n",
      " 26  1997      195 non-null    int64 \n",
      " 27  1998      195 non-null    int64 \n",
      " 28  1999      195 non-null    int64 \n",
      " 29  2000      195 non-null    int64 \n",
      " 30  2001      195 non-null    int64 \n",
      " 31  2002      195 non-null    int64 \n",
      " 32  2003      195 non-null    int64 \n",
      " 33  2004      195 non-null    int64 \n",
      " 34  2005      195 non-null    int64 \n",
      " 35  2006      195 non-null    int64 \n",
      " 36  2007      195 non-null    int64 \n",
      " 37  2008      195 non-null    int64 \n",
      " 38  2009      195 non-null    int64 \n",
      " 39  2010      195 non-null    int64 \n",
      " 40  2011      195 non-null    int64 \n",
      " 41  2012      195 non-null    int64 \n",
      " 42  2013      195 non-null    int64 \n",
      "dtypes: int64(37), object(6)\n",
      "memory usage: 65.6+ KB\n"
     ]
    }
   ],
   "source": [
    "df_can.info()"
   ]
  },
  {
   "cell_type": "markdown",
   "metadata": {
    "button": false,
    "deletable": true,
    "new_sheet": false,
    "run_control": {
     "read_only": false
    }
   },
   "source": [
    "To get the list of column headers we can call upon the dataframe's `.columns` parameter."
   ]
  },
  {
   "cell_type": "code",
   "execution_count": 8,
   "metadata": {
    "button": false,
    "collapsed": false,
    "deletable": true,
    "jupyter": {
     "outputs_hidden": false
    },
    "new_sheet": false,
    "run_control": {
     "read_only": false
    }
   },
   "outputs": [
    {
     "data": {
      "text/plain": [
       "array(['Type', 'Coverage', 'OdName', 'AREA', 'AreaName', 'REG', 'RegName',\n",
       "       'DEV', 'DevName', 1980, 1981, 1982, 1983, 1984, 1985, 1986, 1987,\n",
       "       1988, 1989, 1990, 1991, 1992, 1993, 1994, 1995, 1996, 1997, 1998,\n",
       "       1999, 2000, 2001, 2002, 2003, 2004, 2005, 2006, 2007, 2008, 2009,\n",
       "       2010, 2011, 2012, 2013], dtype=object)"
      ]
     },
     "execution_count": 8,
     "metadata": {},
     "output_type": "execute_result"
    }
   ],
   "source": [
    "df_can.columns.values"
   ]
  },
  {
   "cell_type": "markdown",
   "metadata": {
    "button": false,
    "deletable": true,
    "new_sheet": false,
    "run_control": {
     "read_only": false
    }
   },
   "source": [
    "Similarly, to get the list of indicies we use the `.index` parameter."
   ]
  },
  {
   "cell_type": "code",
   "execution_count": 15,
   "metadata": {
    "button": false,
    "collapsed": false,
    "deletable": true,
    "jupyter": {
     "outputs_hidden": false
    },
    "new_sheet": false,
    "run_control": {
     "read_only": false
    },
    "scrolled": true
   },
   "outputs": [
    {
     "data": {
      "text/plain": [
       "array([  0,   1,   2,   3,   4,   5,   6,   7,   8,   9,  10,  11,  12,\n",
       "        13,  14,  15,  16,  17,  18,  19,  20,  21,  22,  23,  24,  25,\n",
       "        26,  27,  28,  29,  30,  31,  32,  33,  34,  35,  36,  37,  38,\n",
       "        39,  40,  41,  42,  43,  44,  45,  46,  47,  48,  49,  50,  51,\n",
       "        52,  53,  54,  55,  56,  57,  58,  59,  60,  61,  62,  63,  64,\n",
       "        65,  66,  67,  68,  69,  70,  71,  72,  73,  74,  75,  76,  77,\n",
       "        78,  79,  80,  81,  82,  83,  84,  85,  86,  87,  88,  89,  90,\n",
       "        91,  92,  93,  94,  95,  96,  97,  98,  99, 100, 101, 102, 103,\n",
       "       104, 105, 106, 107, 108, 109, 110, 111, 112, 113, 114, 115, 116,\n",
       "       117, 118, 119, 120, 121, 122, 123, 124, 125, 126, 127, 128, 129,\n",
       "       130, 131, 132, 133, 134, 135, 136, 137, 138, 139, 140, 141, 142,\n",
       "       143, 144, 145, 146, 147, 148, 149, 150, 151, 152, 153, 154, 155,\n",
       "       156, 157, 158, 159, 160, 161, 162, 163, 164, 165, 166, 167, 168,\n",
       "       169, 170, 171, 172, 173, 174, 175, 176, 177, 178, 179, 180, 181,\n",
       "       182, 183, 184, 185, 186, 187, 188, 189, 190, 191, 192, 193, 194])"
      ]
     },
     "execution_count": 15,
     "metadata": {},
     "output_type": "execute_result"
    }
   ],
   "source": [
    "df_can.index.values"
   ]
  },
  {
   "cell_type": "markdown",
   "metadata": {
    "button": false,
    "deletable": true,
    "new_sheet": false,
    "run_control": {
     "read_only": false
    }
   },
   "source": [
    "Note: The default type of index and columns is NOT list."
   ]
  },
  {
   "cell_type": "code",
   "execution_count": 10,
   "metadata": {
    "button": false,
    "collapsed": false,
    "deletable": true,
    "jupyter": {
     "outputs_hidden": false
    },
    "new_sheet": false,
    "run_control": {
     "read_only": false
    }
   },
   "outputs": [
    {
     "name": "stdout",
     "output_type": "stream",
     "text": [
      "<class 'pandas.core.indexes.base.Index'>\n",
      "<class 'pandas.core.indexes.range.RangeIndex'>\n"
     ]
    }
   ],
   "source": [
    "print(type(df_can.columns))\n",
    "print(type(df_can.index))"
   ]
  },
  {
   "cell_type": "markdown",
   "metadata": {
    "button": false,
    "deletable": true,
    "new_sheet": false,
    "run_control": {
     "read_only": false
    }
   },
   "source": [
    "To get the index and columns as lists, we can use the `tolist()` method."
   ]
  },
  {
   "cell_type": "code",
   "execution_count": 17,
   "metadata": {
    "button": false,
    "collapsed": false,
    "deletable": true,
    "jupyter": {
     "outputs_hidden": false
    },
    "new_sheet": false,
    "run_control": {
     "read_only": false
    }
   },
   "outputs": [
    {
     "name": "stdout",
     "output_type": "stream",
     "text": [
      "<class 'list'>\n",
      "<class 'list'>\n"
     ]
    }
   ],
   "source": [
    "df_can.columns.tolist()\n",
    "df_can.index.tolist()\n",
    "\n",
    "print (type(df_can.columns.tolist()))\n",
    "print (type(df_can.index.tolist()))"
   ]
  },
  {
   "cell_type": "markdown",
   "metadata": {
    "button": false,
    "deletable": true,
    "new_sheet": false,
    "run_control": {
     "read_only": false
    }
   },
   "source": [
    "To view the dimensions of the dataframe, we use the `.shape` parameter."
   ]
  },
  {
   "cell_type": "code",
   "execution_count": 18,
   "metadata": {
    "button": false,
    "collapsed": false,
    "deletable": true,
    "jupyter": {
     "outputs_hidden": false
    },
    "new_sheet": false,
    "run_control": {
     "read_only": false
    }
   },
   "outputs": [
    {
     "data": {
      "text/plain": [
       "(195, 43)"
      ]
     },
     "execution_count": 18,
     "metadata": {},
     "output_type": "execute_result"
    }
   ],
   "source": [
    "# size of dataframe (rows, columns)\n",
    "df_can.shape    "
   ]
  },
  {
   "cell_type": "markdown",
   "metadata": {
    "button": false,
    "deletable": true,
    "new_sheet": false,
    "run_control": {
     "read_only": false
    }
   },
   "source": [
    "Note: The main types stored in *pandas* objects are *float*, *int*, *bool*, *datetime64[ns]* and *datetime64[ns, tz] (in >= 0.17.0)*, *timedelta[ns]*, *category (in >= 0.15.0)*, and *object* (string). In addition these dtypes have item sizes, e.g. int64 and int32. "
   ]
  },
  {
   "cell_type": "markdown",
   "metadata": {
    "button": false,
    "deletable": true,
    "new_sheet": false,
    "run_control": {
     "read_only": false
    }
   },
   "source": [
    "Let's clean the data set to remove a few unnecessary columns. We can use *pandas* `drop()` method as follows:"
   ]
  },
  {
   "cell_type": "code",
   "execution_count": 19,
   "metadata": {
    "button": false,
    "collapsed": false,
    "deletable": true,
    "jupyter": {
     "outputs_hidden": false
    },
    "new_sheet": false,
    "run_control": {
     "read_only": false
    }
   },
   "outputs": [
    {
     "data": {
      "text/html": [
       "<div>\n",
       "<style scoped>\n",
       "    .dataframe tbody tr th:only-of-type {\n",
       "        vertical-align: middle;\n",
       "    }\n",
       "\n",
       "    .dataframe tbody tr th {\n",
       "        vertical-align: top;\n",
       "    }\n",
       "\n",
       "    .dataframe thead th {\n",
       "        text-align: right;\n",
       "    }\n",
       "</style>\n",
       "<table border=\"1\" class=\"dataframe\">\n",
       "  <thead>\n",
       "    <tr style=\"text-align: right;\">\n",
       "      <th></th>\n",
       "      <th>OdName</th>\n",
       "      <th>AreaName</th>\n",
       "      <th>RegName</th>\n",
       "      <th>DevName</th>\n",
       "      <th>1980</th>\n",
       "      <th>1981</th>\n",
       "      <th>1982</th>\n",
       "      <th>1983</th>\n",
       "      <th>1984</th>\n",
       "      <th>1985</th>\n",
       "      <th>...</th>\n",
       "      <th>2004</th>\n",
       "      <th>2005</th>\n",
       "      <th>2006</th>\n",
       "      <th>2007</th>\n",
       "      <th>2008</th>\n",
       "      <th>2009</th>\n",
       "      <th>2010</th>\n",
       "      <th>2011</th>\n",
       "      <th>2012</th>\n",
       "      <th>2013</th>\n",
       "    </tr>\n",
       "  </thead>\n",
       "  <tbody>\n",
       "    <tr>\n",
       "      <th>0</th>\n",
       "      <td>Afghanistan</td>\n",
       "      <td>Asia</td>\n",
       "      <td>Southern Asia</td>\n",
       "      <td>Developing regions</td>\n",
       "      <td>16</td>\n",
       "      <td>39</td>\n",
       "      <td>39</td>\n",
       "      <td>47</td>\n",
       "      <td>71</td>\n",
       "      <td>340</td>\n",
       "      <td>...</td>\n",
       "      <td>2978</td>\n",
       "      <td>3436</td>\n",
       "      <td>3009</td>\n",
       "      <td>2652</td>\n",
       "      <td>2111</td>\n",
       "      <td>1746</td>\n",
       "      <td>1758</td>\n",
       "      <td>2203</td>\n",
       "      <td>2635</td>\n",
       "      <td>2004</td>\n",
       "    </tr>\n",
       "    <tr>\n",
       "      <th>1</th>\n",
       "      <td>Albania</td>\n",
       "      <td>Europe</td>\n",
       "      <td>Southern Europe</td>\n",
       "      <td>Developed regions</td>\n",
       "      <td>1</td>\n",
       "      <td>0</td>\n",
       "      <td>0</td>\n",
       "      <td>0</td>\n",
       "      <td>0</td>\n",
       "      <td>0</td>\n",
       "      <td>...</td>\n",
       "      <td>1450</td>\n",
       "      <td>1223</td>\n",
       "      <td>856</td>\n",
       "      <td>702</td>\n",
       "      <td>560</td>\n",
       "      <td>716</td>\n",
       "      <td>561</td>\n",
       "      <td>539</td>\n",
       "      <td>620</td>\n",
       "      <td>603</td>\n",
       "    </tr>\n",
       "  </tbody>\n",
       "</table>\n",
       "<p>2 rows × 38 columns</p>\n",
       "</div>"
      ],
      "text/plain": [
       "        OdName AreaName          RegName             DevName  1980  1981  \\\n",
       "0  Afghanistan     Asia    Southern Asia  Developing regions    16    39   \n",
       "1      Albania   Europe  Southern Europe   Developed regions     1     0   \n",
       "\n",
       "   1982  1983  1984  1985  ...  2004  2005  2006  2007  2008  2009  2010  \\\n",
       "0    39    47    71   340  ...  2978  3436  3009  2652  2111  1746  1758   \n",
       "1     0     0     0     0  ...  1450  1223   856   702   560   716   561   \n",
       "\n",
       "   2011  2012  2013  \n",
       "0  2203  2635  2004  \n",
       "1   539   620   603  \n",
       "\n",
       "[2 rows x 38 columns]"
      ]
     },
     "execution_count": 19,
     "metadata": {},
     "output_type": "execute_result"
    }
   ],
   "source": [
    "# in pandas axis=0 represents rows (default) and axis=1 represents columns.\n",
    "df_can.drop(['AREA','REG','DEV','Type','Coverage'], axis=1, inplace=True)\n",
    "df_can.head(2)"
   ]
  },
  {
   "cell_type": "markdown",
   "metadata": {
    "button": false,
    "deletable": true,
    "new_sheet": false,
    "run_control": {
     "read_only": false
    }
   },
   "source": [
    "Let's rename the columns so that they make sense. We can use `rename()` method by passing in a dictionary of old and new names as follows:"
   ]
  },
  {
   "cell_type": "code",
   "execution_count": 22,
   "metadata": {
    "button": false,
    "collapsed": false,
    "deletable": true,
    "jupyter": {
     "outputs_hidden": false
    },
    "new_sheet": false,
    "run_control": {
     "read_only": false
    }
   },
   "outputs": [
    {
     "data": {
      "text/plain": [
       "Index([  'Country', 'Continent',    'Region',   'DevName',        1980,\n",
       "              1981,        1982,        1983,        1984,        1985,\n",
       "              1986,        1987,        1988,        1989,        1990,\n",
       "              1991,        1992,        1993,        1994,        1995,\n",
       "              1996,        1997,        1998,        1999,        2000,\n",
       "              2001,        2002,        2003,        2004,        2005,\n",
       "              2006,        2007,        2008,        2009,        2010,\n",
       "              2011,        2012,        2013],\n",
       "      dtype='object')"
      ]
     },
     "execution_count": 22,
     "metadata": {},
     "output_type": "execute_result"
    }
   ],
   "source": [
    "df_can.rename(columns={'OdName':'Country', 'AreaName':'Continent', 'RegName':'Region'}, inplace=True)\n",
    "df_can.columns"
   ]
  },
  {
   "cell_type": "markdown",
   "metadata": {
    "button": false,
    "deletable": true,
    "new_sheet": false,
    "run_control": {
     "read_only": false
    }
   },
   "source": [
    "We will also add a 'Total' column that sums up the total immigrants by country over the entire period 1980 - 2013, as follows:"
   ]
  },
  {
   "cell_type": "code",
   "execution_count": 23,
   "metadata": {
    "button": false,
    "deletable": true,
    "new_sheet": false,
    "run_control": {
     "read_only": false
    }
   },
   "outputs": [],
   "source": [
    "df_can['Total'] = df_can.sum(axis=1)"
   ]
  },
  {
   "cell_type": "markdown",
   "metadata": {
    "button": false,
    "deletable": true,
    "new_sheet": false,
    "run_control": {
     "read_only": false
    }
   },
   "source": [
    "We can check to see how many null objects we have in the dataset as follows:"
   ]
  },
  {
   "cell_type": "code",
   "execution_count": 24,
   "metadata": {
    "button": false,
    "collapsed": false,
    "deletable": true,
    "jupyter": {
     "outputs_hidden": false
    },
    "new_sheet": false,
    "run_control": {
     "read_only": false
    },
    "scrolled": true
   },
   "outputs": [
    {
     "data": {
      "text/plain": [
       "Country      0\n",
       "Continent    0\n",
       "Region       0\n",
       "DevName      0\n",
       "1980         0\n",
       "1981         0\n",
       "1982         0\n",
       "1983         0\n",
       "1984         0\n",
       "1985         0\n",
       "1986         0\n",
       "1987         0\n",
       "1988         0\n",
       "1989         0\n",
       "1990         0\n",
       "1991         0\n",
       "1992         0\n",
       "1993         0\n",
       "1994         0\n",
       "1995         0\n",
       "1996         0\n",
       "1997         0\n",
       "1998         0\n",
       "1999         0\n",
       "2000         0\n",
       "2001         0\n",
       "2002         0\n",
       "2003         0\n",
       "2004         0\n",
       "2005         0\n",
       "2006         0\n",
       "2007         0\n",
       "2008         0\n",
       "2009         0\n",
       "2010         0\n",
       "2011         0\n",
       "2012         0\n",
       "2013         0\n",
       "Total        0\n",
       "dtype: int64"
      ]
     },
     "execution_count": 24,
     "metadata": {},
     "output_type": "execute_result"
    }
   ],
   "source": [
    "df_can.isnull().sum()"
   ]
  },
  {
   "cell_type": "markdown",
   "metadata": {
    "button": false,
    "deletable": true,
    "new_sheet": false,
    "run_control": {
     "read_only": false
    }
   },
   "source": [
    "Finally, let's view a quick summary of each column in our dataframe using the `describe()` method."
   ]
  },
  {
   "cell_type": "code",
   "execution_count": 25,
   "metadata": {
    "button": false,
    "collapsed": false,
    "deletable": true,
    "jupyter": {
     "outputs_hidden": false
    },
    "new_sheet": false,
    "run_control": {
     "read_only": false
    }
   },
   "outputs": [
    {
     "data": {
      "text/html": [
       "<div>\n",
       "<style scoped>\n",
       "    .dataframe tbody tr th:only-of-type {\n",
       "        vertical-align: middle;\n",
       "    }\n",
       "\n",
       "    .dataframe tbody tr th {\n",
       "        vertical-align: top;\n",
       "    }\n",
       "\n",
       "    .dataframe thead th {\n",
       "        text-align: right;\n",
       "    }\n",
       "</style>\n",
       "<table border=\"1\" class=\"dataframe\">\n",
       "  <thead>\n",
       "    <tr style=\"text-align: right;\">\n",
       "      <th></th>\n",
       "      <th>1980</th>\n",
       "      <th>1981</th>\n",
       "      <th>1982</th>\n",
       "      <th>1983</th>\n",
       "      <th>1984</th>\n",
       "      <th>1985</th>\n",
       "      <th>1986</th>\n",
       "      <th>1987</th>\n",
       "      <th>1988</th>\n",
       "      <th>1989</th>\n",
       "      <th>...</th>\n",
       "      <th>2005</th>\n",
       "      <th>2006</th>\n",
       "      <th>2007</th>\n",
       "      <th>2008</th>\n",
       "      <th>2009</th>\n",
       "      <th>2010</th>\n",
       "      <th>2011</th>\n",
       "      <th>2012</th>\n",
       "      <th>2013</th>\n",
       "      <th>Total</th>\n",
       "    </tr>\n",
       "  </thead>\n",
       "  <tbody>\n",
       "    <tr>\n",
       "      <th>count</th>\n",
       "      <td>195.000000</td>\n",
       "      <td>195.000000</td>\n",
       "      <td>195.000000</td>\n",
       "      <td>195.000000</td>\n",
       "      <td>195.000000</td>\n",
       "      <td>195.000000</td>\n",
       "      <td>195.000000</td>\n",
       "      <td>195.000000</td>\n",
       "      <td>195.000000</td>\n",
       "      <td>195.000000</td>\n",
       "      <td>...</td>\n",
       "      <td>195.000000</td>\n",
       "      <td>195.000000</td>\n",
       "      <td>195.000000</td>\n",
       "      <td>195.000000</td>\n",
       "      <td>195.000000</td>\n",
       "      <td>195.000000</td>\n",
       "      <td>195.000000</td>\n",
       "      <td>195.000000</td>\n",
       "      <td>195.000000</td>\n",
       "      <td>195.000000</td>\n",
       "    </tr>\n",
       "    <tr>\n",
       "      <th>mean</th>\n",
       "      <td>508.394872</td>\n",
       "      <td>566.989744</td>\n",
       "      <td>534.723077</td>\n",
       "      <td>387.435897</td>\n",
       "      <td>376.497436</td>\n",
       "      <td>358.861538</td>\n",
       "      <td>441.271795</td>\n",
       "      <td>691.133333</td>\n",
       "      <td>714.389744</td>\n",
       "      <td>843.241026</td>\n",
       "      <td>...</td>\n",
       "      <td>1320.292308</td>\n",
       "      <td>1266.958974</td>\n",
       "      <td>1191.820513</td>\n",
       "      <td>1246.394872</td>\n",
       "      <td>1275.733333</td>\n",
       "      <td>1420.287179</td>\n",
       "      <td>1262.533333</td>\n",
       "      <td>1313.958974</td>\n",
       "      <td>1320.702564</td>\n",
       "      <td>32867.451282</td>\n",
       "    </tr>\n",
       "    <tr>\n",
       "      <th>std</th>\n",
       "      <td>1949.588546</td>\n",
       "      <td>2152.643752</td>\n",
       "      <td>1866.997511</td>\n",
       "      <td>1204.333597</td>\n",
       "      <td>1198.246371</td>\n",
       "      <td>1079.309600</td>\n",
       "      <td>1225.576630</td>\n",
       "      <td>2109.205607</td>\n",
       "      <td>2443.606788</td>\n",
       "      <td>2555.048874</td>\n",
       "      <td>...</td>\n",
       "      <td>4425.957828</td>\n",
       "      <td>3926.717747</td>\n",
       "      <td>3443.542409</td>\n",
       "      <td>3694.573544</td>\n",
       "      <td>3829.630424</td>\n",
       "      <td>4462.946328</td>\n",
       "      <td>4030.084313</td>\n",
       "      <td>4247.555161</td>\n",
       "      <td>4237.951988</td>\n",
       "      <td>91785.498686</td>\n",
       "    </tr>\n",
       "    <tr>\n",
       "      <th>min</th>\n",
       "      <td>0.000000</td>\n",
       "      <td>0.000000</td>\n",
       "      <td>0.000000</td>\n",
       "      <td>0.000000</td>\n",
       "      <td>0.000000</td>\n",
       "      <td>0.000000</td>\n",
       "      <td>0.000000</td>\n",
       "      <td>0.000000</td>\n",
       "      <td>0.000000</td>\n",
       "      <td>0.000000</td>\n",
       "      <td>...</td>\n",
       "      <td>0.000000</td>\n",
       "      <td>0.000000</td>\n",
       "      <td>0.000000</td>\n",
       "      <td>0.000000</td>\n",
       "      <td>0.000000</td>\n",
       "      <td>0.000000</td>\n",
       "      <td>0.000000</td>\n",
       "      <td>0.000000</td>\n",
       "      <td>0.000000</td>\n",
       "      <td>1.000000</td>\n",
       "    </tr>\n",
       "    <tr>\n",
       "      <th>25%</th>\n",
       "      <td>0.000000</td>\n",
       "      <td>0.000000</td>\n",
       "      <td>0.000000</td>\n",
       "      <td>0.000000</td>\n",
       "      <td>0.000000</td>\n",
       "      <td>0.000000</td>\n",
       "      <td>0.500000</td>\n",
       "      <td>0.500000</td>\n",
       "      <td>1.000000</td>\n",
       "      <td>1.000000</td>\n",
       "      <td>...</td>\n",
       "      <td>28.500000</td>\n",
       "      <td>25.000000</td>\n",
       "      <td>31.000000</td>\n",
       "      <td>31.000000</td>\n",
       "      <td>36.000000</td>\n",
       "      <td>40.500000</td>\n",
       "      <td>37.500000</td>\n",
       "      <td>42.500000</td>\n",
       "      <td>45.000000</td>\n",
       "      <td>952.000000</td>\n",
       "    </tr>\n",
       "    <tr>\n",
       "      <th>50%</th>\n",
       "      <td>13.000000</td>\n",
       "      <td>10.000000</td>\n",
       "      <td>11.000000</td>\n",
       "      <td>12.000000</td>\n",
       "      <td>13.000000</td>\n",
       "      <td>17.000000</td>\n",
       "      <td>18.000000</td>\n",
       "      <td>26.000000</td>\n",
       "      <td>34.000000</td>\n",
       "      <td>44.000000</td>\n",
       "      <td>...</td>\n",
       "      <td>210.000000</td>\n",
       "      <td>218.000000</td>\n",
       "      <td>198.000000</td>\n",
       "      <td>205.000000</td>\n",
       "      <td>214.000000</td>\n",
       "      <td>211.000000</td>\n",
       "      <td>179.000000</td>\n",
       "      <td>233.000000</td>\n",
       "      <td>213.000000</td>\n",
       "      <td>5018.000000</td>\n",
       "    </tr>\n",
       "    <tr>\n",
       "      <th>75%</th>\n",
       "      <td>251.500000</td>\n",
       "      <td>295.500000</td>\n",
       "      <td>275.000000</td>\n",
       "      <td>173.000000</td>\n",
       "      <td>181.000000</td>\n",
       "      <td>197.000000</td>\n",
       "      <td>254.000000</td>\n",
       "      <td>434.000000</td>\n",
       "      <td>409.000000</td>\n",
       "      <td>508.500000</td>\n",
       "      <td>...</td>\n",
       "      <td>832.000000</td>\n",
       "      <td>842.000000</td>\n",
       "      <td>899.000000</td>\n",
       "      <td>934.500000</td>\n",
       "      <td>888.000000</td>\n",
       "      <td>932.000000</td>\n",
       "      <td>772.000000</td>\n",
       "      <td>783.000000</td>\n",
       "      <td>796.000000</td>\n",
       "      <td>22239.500000</td>\n",
       "    </tr>\n",
       "    <tr>\n",
       "      <th>max</th>\n",
       "      <td>22045.000000</td>\n",
       "      <td>24796.000000</td>\n",
       "      <td>20620.000000</td>\n",
       "      <td>10015.000000</td>\n",
       "      <td>10170.000000</td>\n",
       "      <td>9564.000000</td>\n",
       "      <td>9470.000000</td>\n",
       "      <td>21337.000000</td>\n",
       "      <td>27359.000000</td>\n",
       "      <td>23795.000000</td>\n",
       "      <td>...</td>\n",
       "      <td>42584.000000</td>\n",
       "      <td>33848.000000</td>\n",
       "      <td>28742.000000</td>\n",
       "      <td>30037.000000</td>\n",
       "      <td>29622.000000</td>\n",
       "      <td>38617.000000</td>\n",
       "      <td>36765.000000</td>\n",
       "      <td>34315.000000</td>\n",
       "      <td>34129.000000</td>\n",
       "      <td>691904.000000</td>\n",
       "    </tr>\n",
       "  </tbody>\n",
       "</table>\n",
       "<p>8 rows × 35 columns</p>\n",
       "</div>"
      ],
      "text/plain": [
       "               1980          1981          1982          1983          1984  \\\n",
       "count    195.000000    195.000000    195.000000    195.000000    195.000000   \n",
       "mean     508.394872    566.989744    534.723077    387.435897    376.497436   \n",
       "std     1949.588546   2152.643752   1866.997511   1204.333597   1198.246371   \n",
       "min        0.000000      0.000000      0.000000      0.000000      0.000000   \n",
       "25%        0.000000      0.000000      0.000000      0.000000      0.000000   \n",
       "50%       13.000000     10.000000     11.000000     12.000000     13.000000   \n",
       "75%      251.500000    295.500000    275.000000    173.000000    181.000000   \n",
       "max    22045.000000  24796.000000  20620.000000  10015.000000  10170.000000   \n",
       "\n",
       "              1985         1986          1987          1988          1989  \\\n",
       "count   195.000000   195.000000    195.000000    195.000000    195.000000   \n",
       "mean    358.861538   441.271795    691.133333    714.389744    843.241026   \n",
       "std    1079.309600  1225.576630   2109.205607   2443.606788   2555.048874   \n",
       "min       0.000000     0.000000      0.000000      0.000000      0.000000   \n",
       "25%       0.000000     0.500000      0.500000      1.000000      1.000000   \n",
       "50%      17.000000    18.000000     26.000000     34.000000     44.000000   \n",
       "75%     197.000000   254.000000    434.000000    409.000000    508.500000   \n",
       "max    9564.000000  9470.000000  21337.000000  27359.000000  23795.000000   \n",
       "\n",
       "       ...          2005          2006          2007          2008  \\\n",
       "count  ...    195.000000    195.000000    195.000000    195.000000   \n",
       "mean   ...   1320.292308   1266.958974   1191.820513   1246.394872   \n",
       "std    ...   4425.957828   3926.717747   3443.542409   3694.573544   \n",
       "min    ...      0.000000      0.000000      0.000000      0.000000   \n",
       "25%    ...     28.500000     25.000000     31.000000     31.000000   \n",
       "50%    ...    210.000000    218.000000    198.000000    205.000000   \n",
       "75%    ...    832.000000    842.000000    899.000000    934.500000   \n",
       "max    ...  42584.000000  33848.000000  28742.000000  30037.000000   \n",
       "\n",
       "               2009          2010          2011          2012          2013  \\\n",
       "count    195.000000    195.000000    195.000000    195.000000    195.000000   \n",
       "mean    1275.733333   1420.287179   1262.533333   1313.958974   1320.702564   \n",
       "std     3829.630424   4462.946328   4030.084313   4247.555161   4237.951988   \n",
       "min        0.000000      0.000000      0.000000      0.000000      0.000000   \n",
       "25%       36.000000     40.500000     37.500000     42.500000     45.000000   \n",
       "50%      214.000000    211.000000    179.000000    233.000000    213.000000   \n",
       "75%      888.000000    932.000000    772.000000    783.000000    796.000000   \n",
       "max    29622.000000  38617.000000  36765.000000  34315.000000  34129.000000   \n",
       "\n",
       "               Total  \n",
       "count     195.000000  \n",
       "mean    32867.451282  \n",
       "std     91785.498686  \n",
       "min         1.000000  \n",
       "25%       952.000000  \n",
       "50%      5018.000000  \n",
       "75%     22239.500000  \n",
       "max    691904.000000  \n",
       "\n",
       "[8 rows x 35 columns]"
      ]
     },
     "execution_count": 25,
     "metadata": {},
     "output_type": "execute_result"
    }
   ],
   "source": [
    "df_can.describe()"
   ]
  },
  {
   "cell_type": "markdown",
   "metadata": {
    "button": false,
    "deletable": true,
    "new_sheet": false,
    "run_control": {
     "read_only": false
    }
   },
   "source": [
    "---\n",
    "## *pandas* Intermediate: Indexing and Selection (slicing)<a id=\"6\"></a>\n"
   ]
  },
  {
   "cell_type": "markdown",
   "metadata": {
    "button": false,
    "deletable": true,
    "new_sheet": false,
    "run_control": {
     "read_only": false
    }
   },
   "source": [
    "### Select Column\n",
    "**There are two ways to filter on a column name:**\n",
    "\n",
    "Method 1: Quick and easy, but only works if the column name does NOT have spaces or special characters.\n",
    "```python\n",
    "    df.column_name \n",
    "        (returns series)\n",
    "```\n",
    "\n",
    "Method 2: More robust, and can filter on multiple columns.\n",
    "\n",
    "```python\n",
    "    df['column']  \n",
    "        (returns series)\n",
    "```\n",
    "\n",
    "```python \n",
    "    df[['column 1', 'column 2']] \n",
    "        (returns dataframe)\n",
    "```\n",
    "---"
   ]
  },
  {
   "cell_type": "markdown",
   "metadata": {
    "button": false,
    "deletable": true,
    "new_sheet": false,
    "run_control": {
     "read_only": false
    }
   },
   "source": [
    "Example: Let's try filtering on the list of countries ('Country')."
   ]
  },
  {
   "cell_type": "code",
   "execution_count": 33,
   "metadata": {
    "button": false,
    "collapsed": false,
    "deletable": true,
    "jupyter": {
     "outputs_hidden": false
    },
    "new_sheet": false,
    "run_control": {
     "read_only": false
    },
    "scrolled": true
   },
   "outputs": [
    {
     "data": {
      "text/plain": [
       "Index([  'Country', 'Continent',    'Region',   'DevName',        1980,\n",
       "              1981,        1982,        1983,        1984,        1985,\n",
       "              1986,        1987,        1988,        1989,        1990,\n",
       "              1991,        1992,        1993,        1994,        1995,\n",
       "              1996,        1997,        1998,        1999,        2000,\n",
       "              2001,        2002,        2003,        2004,        2005,\n",
       "              2006,        2007,        2008,        2009,        2010,\n",
       "              2011,        2012,        2013,     'Total'],\n",
       "      dtype='object')"
      ]
     },
     "execution_count": 33,
     "metadata": {},
     "output_type": "execute_result"
    }
   ],
   "source": [
    "df_can.columns  # returns a series"
   ]
  },
  {
   "cell_type": "markdown",
   "metadata": {
    "button": false,
    "deletable": true,
    "new_sheet": false,
    "run_control": {
     "read_only": false
    }
   },
   "source": [
    "Let's try filtering on the list of countries ('OdName') and the data for years: 1980 - 1985."
   ]
  },
  {
   "cell_type": "code",
   "execution_count": 31,
   "metadata": {
    "button": false,
    "collapsed": false,
    "deletable": true,
    "jupyter": {
     "outputs_hidden": false
    },
    "new_sheet": false,
    "run_control": {
     "read_only": false
    }
   },
   "outputs": [
    {
     "data": {
      "text/html": [
       "<div>\n",
       "<style scoped>\n",
       "    .dataframe tbody tr th:only-of-type {\n",
       "        vertical-align: middle;\n",
       "    }\n",
       "\n",
       "    .dataframe tbody tr th {\n",
       "        vertical-align: top;\n",
       "    }\n",
       "\n",
       "    .dataframe thead th {\n",
       "        text-align: right;\n",
       "    }\n",
       "</style>\n",
       "<table border=\"1\" class=\"dataframe\">\n",
       "  <thead>\n",
       "    <tr style=\"text-align: right;\">\n",
       "      <th></th>\n",
       "      <th>Country</th>\n",
       "      <th>1980</th>\n",
       "      <th>1981</th>\n",
       "      <th>1982</th>\n",
       "      <th>1983</th>\n",
       "      <th>1984</th>\n",
       "      <th>1985</th>\n",
       "    </tr>\n",
       "  </thead>\n",
       "  <tbody>\n",
       "    <tr>\n",
       "      <th>0</th>\n",
       "      <td>Afghanistan</td>\n",
       "      <td>16</td>\n",
       "      <td>39</td>\n",
       "      <td>39</td>\n",
       "      <td>47</td>\n",
       "      <td>71</td>\n",
       "      <td>340</td>\n",
       "    </tr>\n",
       "    <tr>\n",
       "      <th>1</th>\n",
       "      <td>Albania</td>\n",
       "      <td>1</td>\n",
       "      <td>0</td>\n",
       "      <td>0</td>\n",
       "      <td>0</td>\n",
       "      <td>0</td>\n",
       "      <td>0</td>\n",
       "    </tr>\n",
       "    <tr>\n",
       "      <th>2</th>\n",
       "      <td>Algeria</td>\n",
       "      <td>80</td>\n",
       "      <td>67</td>\n",
       "      <td>71</td>\n",
       "      <td>69</td>\n",
       "      <td>63</td>\n",
       "      <td>44</td>\n",
       "    </tr>\n",
       "    <tr>\n",
       "      <th>3</th>\n",
       "      <td>American Samoa</td>\n",
       "      <td>0</td>\n",
       "      <td>1</td>\n",
       "      <td>0</td>\n",
       "      <td>0</td>\n",
       "      <td>0</td>\n",
       "      <td>0</td>\n",
       "    </tr>\n",
       "    <tr>\n",
       "      <th>4</th>\n",
       "      <td>Andorra</td>\n",
       "      <td>0</td>\n",
       "      <td>0</td>\n",
       "      <td>0</td>\n",
       "      <td>0</td>\n",
       "      <td>0</td>\n",
       "      <td>0</td>\n",
       "    </tr>\n",
       "    <tr>\n",
       "      <th>...</th>\n",
       "      <td>...</td>\n",
       "      <td>...</td>\n",
       "      <td>...</td>\n",
       "      <td>...</td>\n",
       "      <td>...</td>\n",
       "      <td>...</td>\n",
       "      <td>...</td>\n",
       "    </tr>\n",
       "    <tr>\n",
       "      <th>190</th>\n",
       "      <td>Viet Nam</td>\n",
       "      <td>1191</td>\n",
       "      <td>1829</td>\n",
       "      <td>2162</td>\n",
       "      <td>3404</td>\n",
       "      <td>7583</td>\n",
       "      <td>5907</td>\n",
       "    </tr>\n",
       "    <tr>\n",
       "      <th>191</th>\n",
       "      <td>Western Sahara</td>\n",
       "      <td>0</td>\n",
       "      <td>0</td>\n",
       "      <td>0</td>\n",
       "      <td>0</td>\n",
       "      <td>0</td>\n",
       "      <td>0</td>\n",
       "    </tr>\n",
       "    <tr>\n",
       "      <th>192</th>\n",
       "      <td>Yemen</td>\n",
       "      <td>1</td>\n",
       "      <td>2</td>\n",
       "      <td>1</td>\n",
       "      <td>6</td>\n",
       "      <td>0</td>\n",
       "      <td>18</td>\n",
       "    </tr>\n",
       "    <tr>\n",
       "      <th>193</th>\n",
       "      <td>Zambia</td>\n",
       "      <td>11</td>\n",
       "      <td>17</td>\n",
       "      <td>11</td>\n",
       "      <td>7</td>\n",
       "      <td>16</td>\n",
       "      <td>9</td>\n",
       "    </tr>\n",
       "    <tr>\n",
       "      <th>194</th>\n",
       "      <td>Zimbabwe</td>\n",
       "      <td>72</td>\n",
       "      <td>114</td>\n",
       "      <td>102</td>\n",
       "      <td>44</td>\n",
       "      <td>32</td>\n",
       "      <td>29</td>\n",
       "    </tr>\n",
       "  </tbody>\n",
       "</table>\n",
       "<p>195 rows × 7 columns</p>\n",
       "</div>"
      ],
      "text/plain": [
       "            Country  1980  1981  1982  1983  1984  1985\n",
       "0       Afghanistan    16    39    39    47    71   340\n",
       "1           Albania     1     0     0     0     0     0\n",
       "2           Algeria    80    67    71    69    63    44\n",
       "3    American Samoa     0     1     0     0     0     0\n",
       "4           Andorra     0     0     0     0     0     0\n",
       "..              ...   ...   ...   ...   ...   ...   ...\n",
       "190        Viet Nam  1191  1829  2162  3404  7583  5907\n",
       "191  Western Sahara     0     0     0     0     0     0\n",
       "192           Yemen     1     2     1     6     0    18\n",
       "193          Zambia    11    17    11     7    16     9\n",
       "194        Zimbabwe    72   114   102    44    32    29\n",
       "\n",
       "[195 rows x 7 columns]"
      ]
     },
     "execution_count": 31,
     "metadata": {},
     "output_type": "execute_result"
    }
   ],
   "source": [
    "df_can[['Country', 1980, 1981, 1982, 1983, 1984, 1985]] # returns a dataframe\n",
    "# notice that 'Country' is string, and the years are integers. \n",
    "# for the sake of consistency, we will convert all column names to string later on."
   ]
  },
  {
   "cell_type": "markdown",
   "metadata": {
    "button": false,
    "deletable": true,
    "new_sheet": false,
    "run_control": {
     "read_only": false
    }
   },
   "source": [
    "### Select Row\n",
    "\n",
    "There are main 3 ways to select rows:\n",
    "\n",
    "```python\n",
    "    df.loc[label]        \n",
    "        #filters by the labels of the index/column\n",
    "    df.iloc[index]       \n",
    "        #filters by the positions of the index/column\n",
    "```"
   ]
  },
  {
   "cell_type": "markdown",
   "metadata": {
    "button": false,
    "deletable": true,
    "new_sheet": false,
    "run_control": {
     "read_only": false
    }
   },
   "source": [
    "Before we proceed, notice that the defaul index of the dataset is a numeric range from 0 to 194. This makes it very difficult to do a query by a specific country. For example to search for data on Japan, we need to know the corressponding index value.\n",
    "\n",
    "This can be fixed very easily by setting the 'Country' column as the index using `set_index()` method."
   ]
  },
  {
   "cell_type": "code",
   "execution_count": 34,
   "metadata": {
    "button": false,
    "deletable": true,
    "new_sheet": false,
    "run_control": {
     "read_only": false
    },
    "scrolled": true
   },
   "outputs": [],
   "source": [
    "df_can.set_index('Country', inplace=True)\n",
    "# tip: The opposite of set is reset. So to reset the index, we can use df_can.reset_index()"
   ]
  },
  {
   "cell_type": "code",
   "execution_count": 37,
   "metadata": {
    "button": false,
    "collapsed": false,
    "deletable": true,
    "jupyter": {
     "outputs_hidden": false
    },
    "new_sheet": false,
    "run_control": {
     "read_only": false
    }
   },
   "outputs": [
    {
     "data": {
      "text/html": [
       "<div>\n",
       "<style scoped>\n",
       "    .dataframe tbody tr th:only-of-type {\n",
       "        vertical-align: middle;\n",
       "    }\n",
       "\n",
       "    .dataframe tbody tr th {\n",
       "        vertical-align: top;\n",
       "    }\n",
       "\n",
       "    .dataframe thead th {\n",
       "        text-align: right;\n",
       "    }\n",
       "</style>\n",
       "<table border=\"1\" class=\"dataframe\">\n",
       "  <thead>\n",
       "    <tr style=\"text-align: right;\">\n",
       "      <th></th>\n",
       "      <th>Continent</th>\n",
       "      <th>Region</th>\n",
       "      <th>DevName</th>\n",
       "      <th>1980</th>\n",
       "      <th>1981</th>\n",
       "      <th>1982</th>\n",
       "      <th>1983</th>\n",
       "      <th>1984</th>\n",
       "      <th>1985</th>\n",
       "      <th>1986</th>\n",
       "      <th>...</th>\n",
       "      <th>2005</th>\n",
       "      <th>2006</th>\n",
       "      <th>2007</th>\n",
       "      <th>2008</th>\n",
       "      <th>2009</th>\n",
       "      <th>2010</th>\n",
       "      <th>2011</th>\n",
       "      <th>2012</th>\n",
       "      <th>2013</th>\n",
       "      <th>Total</th>\n",
       "    </tr>\n",
       "  </thead>\n",
       "  <tbody>\n",
       "    <tr>\n",
       "      <th>Afghanistan</th>\n",
       "      <td>Asia</td>\n",
       "      <td>Southern Asia</td>\n",
       "      <td>Developing regions</td>\n",
       "      <td>16</td>\n",
       "      <td>39</td>\n",
       "      <td>39</td>\n",
       "      <td>47</td>\n",
       "      <td>71</td>\n",
       "      <td>340</td>\n",
       "      <td>496</td>\n",
       "      <td>...</td>\n",
       "      <td>3436</td>\n",
       "      <td>3009</td>\n",
       "      <td>2652</td>\n",
       "      <td>2111</td>\n",
       "      <td>1746</td>\n",
       "      <td>1758</td>\n",
       "      <td>2203</td>\n",
       "      <td>2635</td>\n",
       "      <td>2004</td>\n",
       "      <td>58639</td>\n",
       "    </tr>\n",
       "    <tr>\n",
       "      <th>Albania</th>\n",
       "      <td>Europe</td>\n",
       "      <td>Southern Europe</td>\n",
       "      <td>Developed regions</td>\n",
       "      <td>1</td>\n",
       "      <td>0</td>\n",
       "      <td>0</td>\n",
       "      <td>0</td>\n",
       "      <td>0</td>\n",
       "      <td>0</td>\n",
       "      <td>1</td>\n",
       "      <td>...</td>\n",
       "      <td>1223</td>\n",
       "      <td>856</td>\n",
       "      <td>702</td>\n",
       "      <td>560</td>\n",
       "      <td>716</td>\n",
       "      <td>561</td>\n",
       "      <td>539</td>\n",
       "      <td>620</td>\n",
       "      <td>603</td>\n",
       "      <td>15699</td>\n",
       "    </tr>\n",
       "    <tr>\n",
       "      <th>Algeria</th>\n",
       "      <td>Africa</td>\n",
       "      <td>Northern Africa</td>\n",
       "      <td>Developing regions</td>\n",
       "      <td>80</td>\n",
       "      <td>67</td>\n",
       "      <td>71</td>\n",
       "      <td>69</td>\n",
       "      <td>63</td>\n",
       "      <td>44</td>\n",
       "      <td>69</td>\n",
       "      <td>...</td>\n",
       "      <td>3626</td>\n",
       "      <td>4807</td>\n",
       "      <td>3623</td>\n",
       "      <td>4005</td>\n",
       "      <td>5393</td>\n",
       "      <td>4752</td>\n",
       "      <td>4325</td>\n",
       "      <td>3774</td>\n",
       "      <td>4331</td>\n",
       "      <td>69439</td>\n",
       "    </tr>\n",
       "  </tbody>\n",
       "</table>\n",
       "<p>3 rows × 38 columns</p>\n",
       "</div>"
      ],
      "text/plain": [
       "            Continent           Region             DevName  1980  1981  1982  \\\n",
       "Afghanistan      Asia    Southern Asia  Developing regions    16    39    39   \n",
       "Albania        Europe  Southern Europe   Developed regions     1     0     0   \n",
       "Algeria        Africa  Northern Africa  Developing regions    80    67    71   \n",
       "\n",
       "             1983  1984  1985  1986  ...  2005  2006  2007  2008  2009  2010  \\\n",
       "Afghanistan    47    71   340   496  ...  3436  3009  2652  2111  1746  1758   \n",
       "Albania         0     0     0     1  ...  1223   856   702   560   716   561   \n",
       "Algeria        69    63    44    69  ...  3626  4807  3623  4005  5393  4752   \n",
       "\n",
       "             2011  2012  2013  Total  \n",
       "Afghanistan  2203  2635  2004  58639  \n",
       "Albania       539   620   603  15699  \n",
       "Algeria      4325  3774  4331  69439  \n",
       "\n",
       "[3 rows x 38 columns]"
      ]
     },
     "execution_count": 37,
     "metadata": {},
     "output_type": "execute_result"
    }
   ],
   "source": [
    "df_can.head(3)"
   ]
  },
  {
   "cell_type": "code",
   "execution_count": 36,
   "metadata": {
    "button": false,
    "deletable": true,
    "new_sheet": false,
    "run_control": {
     "read_only": false
    }
   },
   "outputs": [],
   "source": [
    "# optional: to remove the name of the index\n",
    "df_can.index.name = None"
   ]
  },
  {
   "cell_type": "markdown",
   "metadata": {
    "button": false,
    "deletable": true,
    "new_sheet": false,
    "run_control": {
     "read_only": false
    }
   },
   "source": [
    "Example: Let's view the number of immigrants from Japan (row 87) for the following scenarios:\n",
    "    1. The full row data (all columns)\n",
    "    2. For year 2013\n",
    "    3. For years 1980 to 1985"
   ]
  },
  {
   "cell_type": "code",
   "execution_count": 38,
   "metadata": {
    "button": false,
    "collapsed": false,
    "deletable": true,
    "jupyter": {
     "outputs_hidden": false
    },
    "new_sheet": false,
    "run_control": {
     "read_only": false
    },
    "scrolled": true
   },
   "outputs": [
    {
     "name": "stdout",
     "output_type": "stream",
     "text": [
      "Continent                 Asia\n",
      "Region            Eastern Asia\n",
      "DevName      Developed regions\n",
      "1980                       701\n",
      "1981                       756\n",
      "1982                       598\n",
      "1983                       309\n",
      "1984                       246\n",
      "1985                       198\n",
      "1986                       248\n",
      "1987                       422\n",
      "1988                       324\n",
      "1989                       494\n",
      "1990                       379\n",
      "1991                       506\n",
      "1992                       605\n",
      "1993                       907\n",
      "1994                       956\n",
      "1995                       826\n",
      "1996                       994\n",
      "1997                       924\n",
      "1998                       897\n",
      "1999                      1083\n",
      "2000                      1010\n",
      "2001                      1092\n",
      "2002                       806\n",
      "2003                       817\n",
      "2004                       973\n",
      "2005                      1067\n",
      "2006                      1212\n",
      "2007                      1250\n",
      "2008                      1284\n",
      "2009                      1194\n",
      "2010                      1168\n",
      "2011                      1265\n",
      "2012                      1214\n",
      "2013                       982\n",
      "Total                    27707\n",
      "Name: Japan, dtype: object\n",
      "Continent                 Asia\n",
      "Region            Eastern Asia\n",
      "DevName      Developed regions\n",
      "1980                       701\n",
      "1981                       756\n",
      "1982                       598\n",
      "1983                       309\n",
      "1984                       246\n",
      "1985                       198\n",
      "1986                       248\n",
      "1987                       422\n",
      "1988                       324\n",
      "1989                       494\n",
      "1990                       379\n",
      "1991                       506\n",
      "1992                       605\n",
      "1993                       907\n",
      "1994                       956\n",
      "1995                       826\n",
      "1996                       994\n",
      "1997                       924\n",
      "1998                       897\n",
      "1999                      1083\n",
      "2000                      1010\n",
      "2001                      1092\n",
      "2002                       806\n",
      "2003                       817\n",
      "2004                       973\n",
      "2005                      1067\n",
      "2006                      1212\n",
      "2007                      1250\n",
      "2008                      1284\n",
      "2009                      1194\n",
      "2010                      1168\n",
      "2011                      1265\n",
      "2012                      1214\n",
      "2013                       982\n",
      "Total                    27707\n",
      "Name: Japan, dtype: object\n",
      "Continent                 Asia\n",
      "Region            Eastern Asia\n",
      "DevName      Developed regions\n",
      "1980                       701\n",
      "1981                       756\n",
      "1982                       598\n",
      "1983                       309\n",
      "1984                       246\n",
      "1985                       198\n",
      "1986                       248\n",
      "1987                       422\n",
      "1988                       324\n",
      "1989                       494\n",
      "1990                       379\n",
      "1991                       506\n",
      "1992                       605\n",
      "1993                       907\n",
      "1994                       956\n",
      "1995                       826\n",
      "1996                       994\n",
      "1997                       924\n",
      "1998                       897\n",
      "1999                      1083\n",
      "2000                      1010\n",
      "2001                      1092\n",
      "2002                       806\n",
      "2003                       817\n",
      "2004                       973\n",
      "2005                      1067\n",
      "2006                      1212\n",
      "2007                      1250\n",
      "2008                      1284\n",
      "2009                      1194\n",
      "2010                      1168\n",
      "2011                      1265\n",
      "2012                      1214\n",
      "2013                       982\n",
      "Total                    27707\n",
      "Name: Japan, dtype: object\n"
     ]
    }
   ],
   "source": [
    "# 1. the full row data (all columns)\n",
    "print(df_can.loc['Japan'])\n",
    "\n",
    "# alternate methods\n",
    "print(df_can.iloc[87])\n",
    "print(df_can[df_can.index == 'Japan'].T.squeeze())"
   ]
  },
  {
   "cell_type": "code",
   "execution_count": 39,
   "metadata": {
    "button": false,
    "collapsed": false,
    "deletable": true,
    "jupyter": {
     "outputs_hidden": false
    },
    "new_sheet": false,
    "run_control": {
     "read_only": false
    },
    "scrolled": true
   },
   "outputs": [
    {
     "name": "stdout",
     "output_type": "stream",
     "text": [
      "982\n",
      "982\n"
     ]
    }
   ],
   "source": [
    "# 2. for year 2013\n",
    "print(df_can.loc['Japan', 2013])\n",
    "\n",
    "# alternate method\n",
    "print(df_can.iloc[87, 36]) # year 2013 is the last column, with a positional index of 36"
   ]
  },
  {
   "cell_type": "code",
   "execution_count": 41,
   "metadata": {
    "button": false,
    "collapsed": false,
    "deletable": true,
    "jupyter": {
     "outputs_hidden": false
    },
    "new_sheet": false,
    "run_control": {
     "read_only": false
    }
   },
   "outputs": [
    {
     "name": "stdout",
     "output_type": "stream",
     "text": [
      "1980    701\n",
      "1981    756\n",
      "1982    598\n",
      "1983    309\n",
      "1984    246\n",
      "1985    198\n",
      "Name: Japan, dtype: object\n",
      "1980    701\n",
      "1981    756\n",
      "1982    598\n",
      "1983    309\n",
      "1984    246\n",
      "1985    198\n",
      "Name: Japan, dtype: object\n"
     ]
    }
   ],
   "source": [
    "# 3. for years 1980 to 1985\n",
    "print(df_can.loc['Japan', [1980, 1981, 1982, 1983, 1984, 1985]])\n",
    "print(df_can.iloc[87, [3, 4, 5, 6, 7, 8]])"
   ]
  },
  {
   "cell_type": "markdown",
   "metadata": {
    "button": false,
    "deletable": true,
    "new_sheet": false,
    "run_control": {
     "read_only": false
    }
   },
   "source": [
    "Column names that are integers (such as the years) might introduce some confusion. For example, when we are referencing the year 2013, one might confuse that when the 2013th positional index. \n",
    "\n",
    "To avoid this ambuigity, let's convert the column names into strings: '1980' to '2013'."
   ]
  },
  {
   "cell_type": "code",
   "execution_count": 42,
   "metadata": {
    "button": false,
    "deletable": true,
    "new_sheet": false,
    "run_control": {
     "read_only": false
    }
   },
   "outputs": [],
   "source": [
    "df_can.columns = list(map(str, df_can.columns))\n",
    "# [print (type(x)) for x in df_can.columns.values] #<-- uncomment to check type of column headers"
   ]
  },
  {
   "cell_type": "markdown",
   "metadata": {
    "button": false,
    "deletable": true,
    "new_sheet": false,
    "run_control": {
     "read_only": false
    }
   },
   "source": [
    "Since we converted the years to string, let's declare a variable that will allow us to easily call upon the full range of years:"
   ]
  },
  {
   "cell_type": "code",
   "execution_count": 43,
   "metadata": {
    "button": false,
    "collapsed": false,
    "deletable": true,
    "jupyter": {
     "outputs_hidden": false
    },
    "new_sheet": false,
    "run_control": {
     "read_only": false
    }
   },
   "outputs": [
    {
     "data": {
      "text/plain": [
       "['1980',\n",
       " '1981',\n",
       " '1982',\n",
       " '1983',\n",
       " '1984',\n",
       " '1985',\n",
       " '1986',\n",
       " '1987',\n",
       " '1988',\n",
       " '1989',\n",
       " '1990',\n",
       " '1991',\n",
       " '1992',\n",
       " '1993',\n",
       " '1994',\n",
       " '1995',\n",
       " '1996',\n",
       " '1997',\n",
       " '1998',\n",
       " '1999',\n",
       " '2000',\n",
       " '2001',\n",
       " '2002',\n",
       " '2003',\n",
       " '2004',\n",
       " '2005',\n",
       " '2006',\n",
       " '2007',\n",
       " '2008',\n",
       " '2009',\n",
       " '2010',\n",
       " '2011',\n",
       " '2012',\n",
       " '2013']"
      ]
     },
     "execution_count": 43,
     "metadata": {},
     "output_type": "execute_result"
    }
   ],
   "source": [
    "# useful for plotting later on\n",
    "years = list(map(str, range(1980, 2014)))\n",
    "years"
   ]
  },
  {
   "cell_type": "markdown",
   "metadata": {
    "button": false,
    "deletable": true,
    "new_sheet": false,
    "run_control": {
     "read_only": false
    }
   },
   "source": [
    "### Filtering based on a criteria\n",
    "To filter the dataframe based on a condition, we simply pass the condition as a boolean vector. \n",
    "\n",
    "For example, Let's filter the dataframe to show the data on Asian countries (AreaName = Asia)."
   ]
  },
  {
   "cell_type": "code",
   "execution_count": 44,
   "metadata": {
    "button": false,
    "collapsed": false,
    "deletable": true,
    "jupyter": {
     "outputs_hidden": false
    },
    "new_sheet": false,
    "run_control": {
     "read_only": false
    },
    "scrolled": true
   },
   "outputs": [
    {
     "name": "stdout",
     "output_type": "stream",
     "text": [
      "Afghanistan        True\n",
      "Albania           False\n",
      "Algeria           False\n",
      "American Samoa    False\n",
      "Andorra           False\n",
      "                  ...  \n",
      "Viet Nam           True\n",
      "Western Sahara    False\n",
      "Yemen              True\n",
      "Zambia            False\n",
      "Zimbabwe          False\n",
      "Name: Continent, Length: 195, dtype: bool\n"
     ]
    }
   ],
   "source": [
    "# 1. create the condition boolean series\n",
    "condition = df_can['Continent'] == 'Asia'\n",
    "print(condition)"
   ]
  },
  {
   "cell_type": "code",
   "execution_count": 45,
   "metadata": {
    "button": false,
    "collapsed": false,
    "deletable": true,
    "jupyter": {
     "outputs_hidden": false
    },
    "new_sheet": false,
    "run_control": {
     "read_only": false
    }
   },
   "outputs": [
    {
     "data": {
      "text/html": [
       "<div>\n",
       "<style scoped>\n",
       "    .dataframe tbody tr th:only-of-type {\n",
       "        vertical-align: middle;\n",
       "    }\n",
       "\n",
       "    .dataframe tbody tr th {\n",
       "        vertical-align: top;\n",
       "    }\n",
       "\n",
       "    .dataframe thead th {\n",
       "        text-align: right;\n",
       "    }\n",
       "</style>\n",
       "<table border=\"1\" class=\"dataframe\">\n",
       "  <thead>\n",
       "    <tr style=\"text-align: right;\">\n",
       "      <th></th>\n",
       "      <th>Continent</th>\n",
       "      <th>Region</th>\n",
       "      <th>DevName</th>\n",
       "      <th>1980</th>\n",
       "      <th>1981</th>\n",
       "      <th>1982</th>\n",
       "      <th>1983</th>\n",
       "      <th>1984</th>\n",
       "      <th>1985</th>\n",
       "      <th>1986</th>\n",
       "      <th>...</th>\n",
       "      <th>2005</th>\n",
       "      <th>2006</th>\n",
       "      <th>2007</th>\n",
       "      <th>2008</th>\n",
       "      <th>2009</th>\n",
       "      <th>2010</th>\n",
       "      <th>2011</th>\n",
       "      <th>2012</th>\n",
       "      <th>2013</th>\n",
       "      <th>Total</th>\n",
       "    </tr>\n",
       "  </thead>\n",
       "  <tbody>\n",
       "    <tr>\n",
       "      <th>Afghanistan</th>\n",
       "      <td>Asia</td>\n",
       "      <td>Southern Asia</td>\n",
       "      <td>Developing regions</td>\n",
       "      <td>16</td>\n",
       "      <td>39</td>\n",
       "      <td>39</td>\n",
       "      <td>47</td>\n",
       "      <td>71</td>\n",
       "      <td>340</td>\n",
       "      <td>496</td>\n",
       "      <td>...</td>\n",
       "      <td>3436</td>\n",
       "      <td>3009</td>\n",
       "      <td>2652</td>\n",
       "      <td>2111</td>\n",
       "      <td>1746</td>\n",
       "      <td>1758</td>\n",
       "      <td>2203</td>\n",
       "      <td>2635</td>\n",
       "      <td>2004</td>\n",
       "      <td>58639</td>\n",
       "    </tr>\n",
       "    <tr>\n",
       "      <th>Armenia</th>\n",
       "      <td>Asia</td>\n",
       "      <td>Western Asia</td>\n",
       "      <td>Developing regions</td>\n",
       "      <td>0</td>\n",
       "      <td>0</td>\n",
       "      <td>0</td>\n",
       "      <td>0</td>\n",
       "      <td>0</td>\n",
       "      <td>0</td>\n",
       "      <td>0</td>\n",
       "      <td>...</td>\n",
       "      <td>224</td>\n",
       "      <td>218</td>\n",
       "      <td>198</td>\n",
       "      <td>205</td>\n",
       "      <td>267</td>\n",
       "      <td>252</td>\n",
       "      <td>236</td>\n",
       "      <td>258</td>\n",
       "      <td>207</td>\n",
       "      <td>3310</td>\n",
       "    </tr>\n",
       "    <tr>\n",
       "      <th>Azerbaijan</th>\n",
       "      <td>Asia</td>\n",
       "      <td>Western Asia</td>\n",
       "      <td>Developing regions</td>\n",
       "      <td>0</td>\n",
       "      <td>0</td>\n",
       "      <td>0</td>\n",
       "      <td>0</td>\n",
       "      <td>0</td>\n",
       "      <td>0</td>\n",
       "      <td>0</td>\n",
       "      <td>...</td>\n",
       "      <td>359</td>\n",
       "      <td>236</td>\n",
       "      <td>203</td>\n",
       "      <td>125</td>\n",
       "      <td>165</td>\n",
       "      <td>209</td>\n",
       "      <td>138</td>\n",
       "      <td>161</td>\n",
       "      <td>57</td>\n",
       "      <td>2649</td>\n",
       "    </tr>\n",
       "    <tr>\n",
       "      <th>Bahrain</th>\n",
       "      <td>Asia</td>\n",
       "      <td>Western Asia</td>\n",
       "      <td>Developing regions</td>\n",
       "      <td>0</td>\n",
       "      <td>2</td>\n",
       "      <td>1</td>\n",
       "      <td>1</td>\n",
       "      <td>1</td>\n",
       "      <td>3</td>\n",
       "      <td>0</td>\n",
       "      <td>...</td>\n",
       "      <td>12</td>\n",
       "      <td>12</td>\n",
       "      <td>22</td>\n",
       "      <td>9</td>\n",
       "      <td>35</td>\n",
       "      <td>28</td>\n",
       "      <td>21</td>\n",
       "      <td>39</td>\n",
       "      <td>32</td>\n",
       "      <td>475</td>\n",
       "    </tr>\n",
       "    <tr>\n",
       "      <th>Bangladesh</th>\n",
       "      <td>Asia</td>\n",
       "      <td>Southern Asia</td>\n",
       "      <td>Developing regions</td>\n",
       "      <td>83</td>\n",
       "      <td>84</td>\n",
       "      <td>86</td>\n",
       "      <td>81</td>\n",
       "      <td>98</td>\n",
       "      <td>92</td>\n",
       "      <td>486</td>\n",
       "      <td>...</td>\n",
       "      <td>4171</td>\n",
       "      <td>4014</td>\n",
       "      <td>2897</td>\n",
       "      <td>2939</td>\n",
       "      <td>2104</td>\n",
       "      <td>4721</td>\n",
       "      <td>2694</td>\n",
       "      <td>2640</td>\n",
       "      <td>3789</td>\n",
       "      <td>65568</td>\n",
       "    </tr>\n",
       "    <tr>\n",
       "      <th>Bhutan</th>\n",
       "      <td>Asia</td>\n",
       "      <td>Southern Asia</td>\n",
       "      <td>Developing regions</td>\n",
       "      <td>0</td>\n",
       "      <td>0</td>\n",
       "      <td>0</td>\n",
       "      <td>0</td>\n",
       "      <td>1</td>\n",
       "      <td>0</td>\n",
       "      <td>0</td>\n",
       "      <td>...</td>\n",
       "      <td>5</td>\n",
       "      <td>10</td>\n",
       "      <td>7</td>\n",
       "      <td>36</td>\n",
       "      <td>865</td>\n",
       "      <td>1464</td>\n",
       "      <td>1879</td>\n",
       "      <td>1075</td>\n",
       "      <td>487</td>\n",
       "      <td>5876</td>\n",
       "    </tr>\n",
       "    <tr>\n",
       "      <th>Brunei Darussalam</th>\n",
       "      <td>Asia</td>\n",
       "      <td>South-Eastern Asia</td>\n",
       "      <td>Developing regions</td>\n",
       "      <td>79</td>\n",
       "      <td>6</td>\n",
       "      <td>8</td>\n",
       "      <td>2</td>\n",
       "      <td>2</td>\n",
       "      <td>4</td>\n",
       "      <td>12</td>\n",
       "      <td>...</td>\n",
       "      <td>4</td>\n",
       "      <td>5</td>\n",
       "      <td>11</td>\n",
       "      <td>10</td>\n",
       "      <td>5</td>\n",
       "      <td>12</td>\n",
       "      <td>6</td>\n",
       "      <td>3</td>\n",
       "      <td>6</td>\n",
       "      <td>600</td>\n",
       "    </tr>\n",
       "    <tr>\n",
       "      <th>Cambodia</th>\n",
       "      <td>Asia</td>\n",
       "      <td>South-Eastern Asia</td>\n",
       "      <td>Developing regions</td>\n",
       "      <td>12</td>\n",
       "      <td>19</td>\n",
       "      <td>26</td>\n",
       "      <td>33</td>\n",
       "      <td>10</td>\n",
       "      <td>7</td>\n",
       "      <td>8</td>\n",
       "      <td>...</td>\n",
       "      <td>370</td>\n",
       "      <td>529</td>\n",
       "      <td>460</td>\n",
       "      <td>354</td>\n",
       "      <td>203</td>\n",
       "      <td>200</td>\n",
       "      <td>196</td>\n",
       "      <td>233</td>\n",
       "      <td>288</td>\n",
       "      <td>6538</td>\n",
       "    </tr>\n",
       "    <tr>\n",
       "      <th>China</th>\n",
       "      <td>Asia</td>\n",
       "      <td>Eastern Asia</td>\n",
       "      <td>Developing regions</td>\n",
       "      <td>5123</td>\n",
       "      <td>6682</td>\n",
       "      <td>3308</td>\n",
       "      <td>1863</td>\n",
       "      <td>1527</td>\n",
       "      <td>1816</td>\n",
       "      <td>1960</td>\n",
       "      <td>...</td>\n",
       "      <td>42584</td>\n",
       "      <td>33518</td>\n",
       "      <td>27642</td>\n",
       "      <td>30037</td>\n",
       "      <td>29622</td>\n",
       "      <td>30391</td>\n",
       "      <td>28502</td>\n",
       "      <td>33024</td>\n",
       "      <td>34129</td>\n",
       "      <td>659962</td>\n",
       "    </tr>\n",
       "    <tr>\n",
       "      <th>China, Hong Kong Special Administrative Region</th>\n",
       "      <td>Asia</td>\n",
       "      <td>Eastern Asia</td>\n",
       "      <td>Developing regions</td>\n",
       "      <td>0</td>\n",
       "      <td>0</td>\n",
       "      <td>0</td>\n",
       "      <td>0</td>\n",
       "      <td>0</td>\n",
       "      <td>0</td>\n",
       "      <td>0</td>\n",
       "      <td>...</td>\n",
       "      <td>729</td>\n",
       "      <td>712</td>\n",
       "      <td>674</td>\n",
       "      <td>897</td>\n",
       "      <td>657</td>\n",
       "      <td>623</td>\n",
       "      <td>591</td>\n",
       "      <td>728</td>\n",
       "      <td>774</td>\n",
       "      <td>9327</td>\n",
       "    </tr>\n",
       "    <tr>\n",
       "      <th>China, Macao Special Administrative Region</th>\n",
       "      <td>Asia</td>\n",
       "      <td>Eastern Asia</td>\n",
       "      <td>Developing regions</td>\n",
       "      <td>0</td>\n",
       "      <td>0</td>\n",
       "      <td>0</td>\n",
       "      <td>0</td>\n",
       "      <td>0</td>\n",
       "      <td>0</td>\n",
       "      <td>0</td>\n",
       "      <td>...</td>\n",
       "      <td>21</td>\n",
       "      <td>32</td>\n",
       "      <td>16</td>\n",
       "      <td>12</td>\n",
       "      <td>21</td>\n",
       "      <td>21</td>\n",
       "      <td>13</td>\n",
       "      <td>33</td>\n",
       "      <td>29</td>\n",
       "      <td>284</td>\n",
       "    </tr>\n",
       "    <tr>\n",
       "      <th>Cyprus</th>\n",
       "      <td>Asia</td>\n",
       "      <td>Western Asia</td>\n",
       "      <td>Developing regions</td>\n",
       "      <td>132</td>\n",
       "      <td>128</td>\n",
       "      <td>84</td>\n",
       "      <td>46</td>\n",
       "      <td>46</td>\n",
       "      <td>43</td>\n",
       "      <td>48</td>\n",
       "      <td>...</td>\n",
       "      <td>7</td>\n",
       "      <td>9</td>\n",
       "      <td>4</td>\n",
       "      <td>7</td>\n",
       "      <td>6</td>\n",
       "      <td>18</td>\n",
       "      <td>6</td>\n",
       "      <td>12</td>\n",
       "      <td>16</td>\n",
       "      <td>1126</td>\n",
       "    </tr>\n",
       "    <tr>\n",
       "      <th>Democratic People's Republic of Korea</th>\n",
       "      <td>Asia</td>\n",
       "      <td>Eastern Asia</td>\n",
       "      <td>Developing regions</td>\n",
       "      <td>1</td>\n",
       "      <td>1</td>\n",
       "      <td>3</td>\n",
       "      <td>1</td>\n",
       "      <td>4</td>\n",
       "      <td>3</td>\n",
       "      <td>0</td>\n",
       "      <td>...</td>\n",
       "      <td>14</td>\n",
       "      <td>10</td>\n",
       "      <td>7</td>\n",
       "      <td>19</td>\n",
       "      <td>11</td>\n",
       "      <td>45</td>\n",
       "      <td>97</td>\n",
       "      <td>66</td>\n",
       "      <td>17</td>\n",
       "      <td>388</td>\n",
       "    </tr>\n",
       "    <tr>\n",
       "      <th>Georgia</th>\n",
       "      <td>Asia</td>\n",
       "      <td>Western Asia</td>\n",
       "      <td>Developing regions</td>\n",
       "      <td>0</td>\n",
       "      <td>0</td>\n",
       "      <td>0</td>\n",
       "      <td>0</td>\n",
       "      <td>0</td>\n",
       "      <td>0</td>\n",
       "      <td>0</td>\n",
       "      <td>...</td>\n",
       "      <td>114</td>\n",
       "      <td>125</td>\n",
       "      <td>132</td>\n",
       "      <td>112</td>\n",
       "      <td>128</td>\n",
       "      <td>126</td>\n",
       "      <td>139</td>\n",
       "      <td>147</td>\n",
       "      <td>125</td>\n",
       "      <td>2068</td>\n",
       "    </tr>\n",
       "    <tr>\n",
       "      <th>India</th>\n",
       "      <td>Asia</td>\n",
       "      <td>Southern Asia</td>\n",
       "      <td>Developing regions</td>\n",
       "      <td>8880</td>\n",
       "      <td>8670</td>\n",
       "      <td>8147</td>\n",
       "      <td>7338</td>\n",
       "      <td>5704</td>\n",
       "      <td>4211</td>\n",
       "      <td>7150</td>\n",
       "      <td>...</td>\n",
       "      <td>36210</td>\n",
       "      <td>33848</td>\n",
       "      <td>28742</td>\n",
       "      <td>28261</td>\n",
       "      <td>29456</td>\n",
       "      <td>34235</td>\n",
       "      <td>27509</td>\n",
       "      <td>30933</td>\n",
       "      <td>33087</td>\n",
       "      <td>691904</td>\n",
       "    </tr>\n",
       "    <tr>\n",
       "      <th>Indonesia</th>\n",
       "      <td>Asia</td>\n",
       "      <td>South-Eastern Asia</td>\n",
       "      <td>Developing regions</td>\n",
       "      <td>186</td>\n",
       "      <td>178</td>\n",
       "      <td>252</td>\n",
       "      <td>115</td>\n",
       "      <td>123</td>\n",
       "      <td>100</td>\n",
       "      <td>127</td>\n",
       "      <td>...</td>\n",
       "      <td>632</td>\n",
       "      <td>613</td>\n",
       "      <td>657</td>\n",
       "      <td>661</td>\n",
       "      <td>504</td>\n",
       "      <td>712</td>\n",
       "      <td>390</td>\n",
       "      <td>395</td>\n",
       "      <td>387</td>\n",
       "      <td>13150</td>\n",
       "    </tr>\n",
       "    <tr>\n",
       "      <th>Iran (Islamic Republic of)</th>\n",
       "      <td>Asia</td>\n",
       "      <td>Southern Asia</td>\n",
       "      <td>Developing regions</td>\n",
       "      <td>1172</td>\n",
       "      <td>1429</td>\n",
       "      <td>1822</td>\n",
       "      <td>1592</td>\n",
       "      <td>1977</td>\n",
       "      <td>1648</td>\n",
       "      <td>1794</td>\n",
       "      <td>...</td>\n",
       "      <td>5837</td>\n",
       "      <td>7480</td>\n",
       "      <td>6974</td>\n",
       "      <td>6475</td>\n",
       "      <td>6580</td>\n",
       "      <td>7477</td>\n",
       "      <td>7479</td>\n",
       "      <td>7534</td>\n",
       "      <td>11291</td>\n",
       "      <td>175923</td>\n",
       "    </tr>\n",
       "    <tr>\n",
       "      <th>Iraq</th>\n",
       "      <td>Asia</td>\n",
       "      <td>Western Asia</td>\n",
       "      <td>Developing regions</td>\n",
       "      <td>262</td>\n",
       "      <td>245</td>\n",
       "      <td>260</td>\n",
       "      <td>380</td>\n",
       "      <td>428</td>\n",
       "      <td>231</td>\n",
       "      <td>265</td>\n",
       "      <td>...</td>\n",
       "      <td>2226</td>\n",
       "      <td>1788</td>\n",
       "      <td>2406</td>\n",
       "      <td>3543</td>\n",
       "      <td>5450</td>\n",
       "      <td>5941</td>\n",
       "      <td>6196</td>\n",
       "      <td>4041</td>\n",
       "      <td>4918</td>\n",
       "      <td>69789</td>\n",
       "    </tr>\n",
       "    <tr>\n",
       "      <th>Israel</th>\n",
       "      <td>Asia</td>\n",
       "      <td>Western Asia</td>\n",
       "      <td>Developing regions</td>\n",
       "      <td>1403</td>\n",
       "      <td>1711</td>\n",
       "      <td>1334</td>\n",
       "      <td>541</td>\n",
       "      <td>446</td>\n",
       "      <td>680</td>\n",
       "      <td>1212</td>\n",
       "      <td>...</td>\n",
       "      <td>2446</td>\n",
       "      <td>2625</td>\n",
       "      <td>2401</td>\n",
       "      <td>2562</td>\n",
       "      <td>2316</td>\n",
       "      <td>2755</td>\n",
       "      <td>1970</td>\n",
       "      <td>2134</td>\n",
       "      <td>1945</td>\n",
       "      <td>66508</td>\n",
       "    </tr>\n",
       "    <tr>\n",
       "      <th>Japan</th>\n",
       "      <td>Asia</td>\n",
       "      <td>Eastern Asia</td>\n",
       "      <td>Developed regions</td>\n",
       "      <td>701</td>\n",
       "      <td>756</td>\n",
       "      <td>598</td>\n",
       "      <td>309</td>\n",
       "      <td>246</td>\n",
       "      <td>198</td>\n",
       "      <td>248</td>\n",
       "      <td>...</td>\n",
       "      <td>1067</td>\n",
       "      <td>1212</td>\n",
       "      <td>1250</td>\n",
       "      <td>1284</td>\n",
       "      <td>1194</td>\n",
       "      <td>1168</td>\n",
       "      <td>1265</td>\n",
       "      <td>1214</td>\n",
       "      <td>982</td>\n",
       "      <td>27707</td>\n",
       "    </tr>\n",
       "    <tr>\n",
       "      <th>Jordan</th>\n",
       "      <td>Asia</td>\n",
       "      <td>Western Asia</td>\n",
       "      <td>Developing regions</td>\n",
       "      <td>177</td>\n",
       "      <td>160</td>\n",
       "      <td>155</td>\n",
       "      <td>113</td>\n",
       "      <td>102</td>\n",
       "      <td>179</td>\n",
       "      <td>181</td>\n",
       "      <td>...</td>\n",
       "      <td>1940</td>\n",
       "      <td>1827</td>\n",
       "      <td>1421</td>\n",
       "      <td>1581</td>\n",
       "      <td>1235</td>\n",
       "      <td>1831</td>\n",
       "      <td>1635</td>\n",
       "      <td>1206</td>\n",
       "      <td>1255</td>\n",
       "      <td>35406</td>\n",
       "    </tr>\n",
       "    <tr>\n",
       "      <th>Kazakhstan</th>\n",
       "      <td>Asia</td>\n",
       "      <td>Central Asia</td>\n",
       "      <td>Developing regions</td>\n",
       "      <td>0</td>\n",
       "      <td>0</td>\n",
       "      <td>0</td>\n",
       "      <td>0</td>\n",
       "      <td>0</td>\n",
       "      <td>0</td>\n",
       "      <td>0</td>\n",
       "      <td>...</td>\n",
       "      <td>506</td>\n",
       "      <td>408</td>\n",
       "      <td>436</td>\n",
       "      <td>394</td>\n",
       "      <td>431</td>\n",
       "      <td>377</td>\n",
       "      <td>381</td>\n",
       "      <td>462</td>\n",
       "      <td>348</td>\n",
       "      <td>8490</td>\n",
       "    </tr>\n",
       "    <tr>\n",
       "      <th>Kuwait</th>\n",
       "      <td>Asia</td>\n",
       "      <td>Western Asia</td>\n",
       "      <td>Developing regions</td>\n",
       "      <td>1</td>\n",
       "      <td>0</td>\n",
       "      <td>8</td>\n",
       "      <td>2</td>\n",
       "      <td>1</td>\n",
       "      <td>4</td>\n",
       "      <td>4</td>\n",
       "      <td>...</td>\n",
       "      <td>66</td>\n",
       "      <td>35</td>\n",
       "      <td>62</td>\n",
       "      <td>53</td>\n",
       "      <td>68</td>\n",
       "      <td>67</td>\n",
       "      <td>58</td>\n",
       "      <td>73</td>\n",
       "      <td>48</td>\n",
       "      <td>2025</td>\n",
       "    </tr>\n",
       "    <tr>\n",
       "      <th>Kyrgyzstan</th>\n",
       "      <td>Asia</td>\n",
       "      <td>Central Asia</td>\n",
       "      <td>Developing regions</td>\n",
       "      <td>0</td>\n",
       "      <td>0</td>\n",
       "      <td>0</td>\n",
       "      <td>0</td>\n",
       "      <td>0</td>\n",
       "      <td>0</td>\n",
       "      <td>0</td>\n",
       "      <td>...</td>\n",
       "      <td>173</td>\n",
       "      <td>161</td>\n",
       "      <td>135</td>\n",
       "      <td>168</td>\n",
       "      <td>173</td>\n",
       "      <td>157</td>\n",
       "      <td>159</td>\n",
       "      <td>278</td>\n",
       "      <td>123</td>\n",
       "      <td>2353</td>\n",
       "    </tr>\n",
       "    <tr>\n",
       "      <th>Lao People's Democratic Republic</th>\n",
       "      <td>Asia</td>\n",
       "      <td>South-Eastern Asia</td>\n",
       "      <td>Developing regions</td>\n",
       "      <td>11</td>\n",
       "      <td>6</td>\n",
       "      <td>16</td>\n",
       "      <td>16</td>\n",
       "      <td>7</td>\n",
       "      <td>17</td>\n",
       "      <td>21</td>\n",
       "      <td>...</td>\n",
       "      <td>42</td>\n",
       "      <td>74</td>\n",
       "      <td>53</td>\n",
       "      <td>32</td>\n",
       "      <td>39</td>\n",
       "      <td>54</td>\n",
       "      <td>22</td>\n",
       "      <td>25</td>\n",
       "      <td>15</td>\n",
       "      <td>1089</td>\n",
       "    </tr>\n",
       "    <tr>\n",
       "      <th>Lebanon</th>\n",
       "      <td>Asia</td>\n",
       "      <td>Western Asia</td>\n",
       "      <td>Developing regions</td>\n",
       "      <td>1409</td>\n",
       "      <td>1119</td>\n",
       "      <td>1159</td>\n",
       "      <td>789</td>\n",
       "      <td>1253</td>\n",
       "      <td>1683</td>\n",
       "      <td>2576</td>\n",
       "      <td>...</td>\n",
       "      <td>3709</td>\n",
       "      <td>3802</td>\n",
       "      <td>3467</td>\n",
       "      <td>3566</td>\n",
       "      <td>3077</td>\n",
       "      <td>3432</td>\n",
       "      <td>3072</td>\n",
       "      <td>1614</td>\n",
       "      <td>2172</td>\n",
       "      <td>115359</td>\n",
       "    </tr>\n",
       "    <tr>\n",
       "      <th>Malaysia</th>\n",
       "      <td>Asia</td>\n",
       "      <td>South-Eastern Asia</td>\n",
       "      <td>Developing regions</td>\n",
       "      <td>786</td>\n",
       "      <td>816</td>\n",
       "      <td>813</td>\n",
       "      <td>448</td>\n",
       "      <td>384</td>\n",
       "      <td>374</td>\n",
       "      <td>425</td>\n",
       "      <td>...</td>\n",
       "      <td>593</td>\n",
       "      <td>580</td>\n",
       "      <td>600</td>\n",
       "      <td>658</td>\n",
       "      <td>640</td>\n",
       "      <td>802</td>\n",
       "      <td>409</td>\n",
       "      <td>358</td>\n",
       "      <td>204</td>\n",
       "      <td>24417</td>\n",
       "    </tr>\n",
       "    <tr>\n",
       "      <th>Maldives</th>\n",
       "      <td>Asia</td>\n",
       "      <td>Southern Asia</td>\n",
       "      <td>Developing regions</td>\n",
       "      <td>0</td>\n",
       "      <td>0</td>\n",
       "      <td>0</td>\n",
       "      <td>1</td>\n",
       "      <td>0</td>\n",
       "      <td>0</td>\n",
       "      <td>0</td>\n",
       "      <td>...</td>\n",
       "      <td>0</td>\n",
       "      <td>0</td>\n",
       "      <td>2</td>\n",
       "      <td>1</td>\n",
       "      <td>7</td>\n",
       "      <td>4</td>\n",
       "      <td>3</td>\n",
       "      <td>1</td>\n",
       "      <td>1</td>\n",
       "      <td>30</td>\n",
       "    </tr>\n",
       "    <tr>\n",
       "      <th>Mongolia</th>\n",
       "      <td>Asia</td>\n",
       "      <td>Eastern Asia</td>\n",
       "      <td>Developing regions</td>\n",
       "      <td>0</td>\n",
       "      <td>0</td>\n",
       "      <td>0</td>\n",
       "      <td>0</td>\n",
       "      <td>0</td>\n",
       "      <td>0</td>\n",
       "      <td>0</td>\n",
       "      <td>...</td>\n",
       "      <td>59</td>\n",
       "      <td>64</td>\n",
       "      <td>82</td>\n",
       "      <td>59</td>\n",
       "      <td>118</td>\n",
       "      <td>169</td>\n",
       "      <td>103</td>\n",
       "      <td>68</td>\n",
       "      <td>99</td>\n",
       "      <td>952</td>\n",
       "    </tr>\n",
       "    <tr>\n",
       "      <th>Myanmar</th>\n",
       "      <td>Asia</td>\n",
       "      <td>South-Eastern Asia</td>\n",
       "      <td>Developing regions</td>\n",
       "      <td>80</td>\n",
       "      <td>62</td>\n",
       "      <td>46</td>\n",
       "      <td>31</td>\n",
       "      <td>41</td>\n",
       "      <td>23</td>\n",
       "      <td>18</td>\n",
       "      <td>...</td>\n",
       "      <td>210</td>\n",
       "      <td>953</td>\n",
       "      <td>1887</td>\n",
       "      <td>975</td>\n",
       "      <td>1153</td>\n",
       "      <td>556</td>\n",
       "      <td>368</td>\n",
       "      <td>193</td>\n",
       "      <td>262</td>\n",
       "      <td>9245</td>\n",
       "    </tr>\n",
       "    <tr>\n",
       "      <th>Nepal</th>\n",
       "      <td>Asia</td>\n",
       "      <td>Southern Asia</td>\n",
       "      <td>Developing regions</td>\n",
       "      <td>1</td>\n",
       "      <td>1</td>\n",
       "      <td>6</td>\n",
       "      <td>1</td>\n",
       "      <td>2</td>\n",
       "      <td>4</td>\n",
       "      <td>13</td>\n",
       "      <td>...</td>\n",
       "      <td>607</td>\n",
       "      <td>540</td>\n",
       "      <td>511</td>\n",
       "      <td>581</td>\n",
       "      <td>561</td>\n",
       "      <td>1392</td>\n",
       "      <td>1129</td>\n",
       "      <td>1185</td>\n",
       "      <td>1308</td>\n",
       "      <td>10222</td>\n",
       "    </tr>\n",
       "    <tr>\n",
       "      <th>Oman</th>\n",
       "      <td>Asia</td>\n",
       "      <td>Western Asia</td>\n",
       "      <td>Developing regions</td>\n",
       "      <td>0</td>\n",
       "      <td>0</td>\n",
       "      <td>0</td>\n",
       "      <td>8</td>\n",
       "      <td>0</td>\n",
       "      <td>0</td>\n",
       "      <td>0</td>\n",
       "      <td>...</td>\n",
       "      <td>14</td>\n",
       "      <td>18</td>\n",
       "      <td>16</td>\n",
       "      <td>10</td>\n",
       "      <td>7</td>\n",
       "      <td>14</td>\n",
       "      <td>10</td>\n",
       "      <td>13</td>\n",
       "      <td>11</td>\n",
       "      <td>224</td>\n",
       "    </tr>\n",
       "    <tr>\n",
       "      <th>Pakistan</th>\n",
       "      <td>Asia</td>\n",
       "      <td>Southern Asia</td>\n",
       "      <td>Developing regions</td>\n",
       "      <td>978</td>\n",
       "      <td>972</td>\n",
       "      <td>1201</td>\n",
       "      <td>900</td>\n",
       "      <td>668</td>\n",
       "      <td>514</td>\n",
       "      <td>691</td>\n",
       "      <td>...</td>\n",
       "      <td>14314</td>\n",
       "      <td>13127</td>\n",
       "      <td>10124</td>\n",
       "      <td>8994</td>\n",
       "      <td>7217</td>\n",
       "      <td>6811</td>\n",
       "      <td>7468</td>\n",
       "      <td>11227</td>\n",
       "      <td>12603</td>\n",
       "      <td>241600</td>\n",
       "    </tr>\n",
       "    <tr>\n",
       "      <th>Philippines</th>\n",
       "      <td>Asia</td>\n",
       "      <td>South-Eastern Asia</td>\n",
       "      <td>Developing regions</td>\n",
       "      <td>6051</td>\n",
       "      <td>5921</td>\n",
       "      <td>5249</td>\n",
       "      <td>4562</td>\n",
       "      <td>3801</td>\n",
       "      <td>3150</td>\n",
       "      <td>4166</td>\n",
       "      <td>...</td>\n",
       "      <td>18139</td>\n",
       "      <td>18400</td>\n",
       "      <td>19837</td>\n",
       "      <td>24887</td>\n",
       "      <td>28573</td>\n",
       "      <td>38617</td>\n",
       "      <td>36765</td>\n",
       "      <td>34315</td>\n",
       "      <td>29544</td>\n",
       "      <td>511391</td>\n",
       "    </tr>\n",
       "    <tr>\n",
       "      <th>Qatar</th>\n",
       "      <td>Asia</td>\n",
       "      <td>Western Asia</td>\n",
       "      <td>Developing regions</td>\n",
       "      <td>0</td>\n",
       "      <td>0</td>\n",
       "      <td>0</td>\n",
       "      <td>0</td>\n",
       "      <td>0</td>\n",
       "      <td>0</td>\n",
       "      <td>1</td>\n",
       "      <td>...</td>\n",
       "      <td>11</td>\n",
       "      <td>2</td>\n",
       "      <td>5</td>\n",
       "      <td>9</td>\n",
       "      <td>6</td>\n",
       "      <td>18</td>\n",
       "      <td>3</td>\n",
       "      <td>14</td>\n",
       "      <td>6</td>\n",
       "      <td>157</td>\n",
       "    </tr>\n",
       "    <tr>\n",
       "      <th>Republic of Korea</th>\n",
       "      <td>Asia</td>\n",
       "      <td>Eastern Asia</td>\n",
       "      <td>Developing regions</td>\n",
       "      <td>1011</td>\n",
       "      <td>1456</td>\n",
       "      <td>1572</td>\n",
       "      <td>1081</td>\n",
       "      <td>847</td>\n",
       "      <td>962</td>\n",
       "      <td>1208</td>\n",
       "      <td>...</td>\n",
       "      <td>5832</td>\n",
       "      <td>6215</td>\n",
       "      <td>5920</td>\n",
       "      <td>7294</td>\n",
       "      <td>5874</td>\n",
       "      <td>5537</td>\n",
       "      <td>4588</td>\n",
       "      <td>5316</td>\n",
       "      <td>4509</td>\n",
       "      <td>142581</td>\n",
       "    </tr>\n",
       "    <tr>\n",
       "      <th>Saudi Arabia</th>\n",
       "      <td>Asia</td>\n",
       "      <td>Western Asia</td>\n",
       "      <td>Developing regions</td>\n",
       "      <td>0</td>\n",
       "      <td>0</td>\n",
       "      <td>1</td>\n",
       "      <td>4</td>\n",
       "      <td>1</td>\n",
       "      <td>2</td>\n",
       "      <td>5</td>\n",
       "      <td>...</td>\n",
       "      <td>198</td>\n",
       "      <td>252</td>\n",
       "      <td>188</td>\n",
       "      <td>249</td>\n",
       "      <td>246</td>\n",
       "      <td>330</td>\n",
       "      <td>278</td>\n",
       "      <td>286</td>\n",
       "      <td>267</td>\n",
       "      <td>3425</td>\n",
       "    </tr>\n",
       "    <tr>\n",
       "      <th>Singapore</th>\n",
       "      <td>Asia</td>\n",
       "      <td>South-Eastern Asia</td>\n",
       "      <td>Developing regions</td>\n",
       "      <td>241</td>\n",
       "      <td>301</td>\n",
       "      <td>337</td>\n",
       "      <td>169</td>\n",
       "      <td>128</td>\n",
       "      <td>139</td>\n",
       "      <td>205</td>\n",
       "      <td>...</td>\n",
       "      <td>392</td>\n",
       "      <td>298</td>\n",
       "      <td>690</td>\n",
       "      <td>734</td>\n",
       "      <td>366</td>\n",
       "      <td>805</td>\n",
       "      <td>219</td>\n",
       "      <td>146</td>\n",
       "      <td>141</td>\n",
       "      <td>14579</td>\n",
       "    </tr>\n",
       "    <tr>\n",
       "      <th>Sri Lanka</th>\n",
       "      <td>Asia</td>\n",
       "      <td>Southern Asia</td>\n",
       "      <td>Developing regions</td>\n",
       "      <td>185</td>\n",
       "      <td>371</td>\n",
       "      <td>290</td>\n",
       "      <td>197</td>\n",
       "      <td>1086</td>\n",
       "      <td>845</td>\n",
       "      <td>1838</td>\n",
       "      <td>...</td>\n",
       "      <td>4930</td>\n",
       "      <td>4714</td>\n",
       "      <td>4123</td>\n",
       "      <td>4756</td>\n",
       "      <td>4547</td>\n",
       "      <td>4422</td>\n",
       "      <td>3309</td>\n",
       "      <td>3338</td>\n",
       "      <td>2394</td>\n",
       "      <td>148358</td>\n",
       "    </tr>\n",
       "    <tr>\n",
       "      <th>State of Palestine</th>\n",
       "      <td>Asia</td>\n",
       "      <td>Western Asia</td>\n",
       "      <td>Developing regions</td>\n",
       "      <td>0</td>\n",
       "      <td>0</td>\n",
       "      <td>0</td>\n",
       "      <td>0</td>\n",
       "      <td>0</td>\n",
       "      <td>0</td>\n",
       "      <td>0</td>\n",
       "      <td>...</td>\n",
       "      <td>453</td>\n",
       "      <td>627</td>\n",
       "      <td>441</td>\n",
       "      <td>481</td>\n",
       "      <td>400</td>\n",
       "      <td>654</td>\n",
       "      <td>555</td>\n",
       "      <td>533</td>\n",
       "      <td>462</td>\n",
       "      <td>6512</td>\n",
       "    </tr>\n",
       "    <tr>\n",
       "      <th>Syrian Arab Republic</th>\n",
       "      <td>Asia</td>\n",
       "      <td>Western Asia</td>\n",
       "      <td>Developing regions</td>\n",
       "      <td>315</td>\n",
       "      <td>419</td>\n",
       "      <td>409</td>\n",
       "      <td>269</td>\n",
       "      <td>264</td>\n",
       "      <td>385</td>\n",
       "      <td>493</td>\n",
       "      <td>...</td>\n",
       "      <td>1458</td>\n",
       "      <td>1145</td>\n",
       "      <td>1056</td>\n",
       "      <td>919</td>\n",
       "      <td>917</td>\n",
       "      <td>1039</td>\n",
       "      <td>1005</td>\n",
       "      <td>650</td>\n",
       "      <td>1009</td>\n",
       "      <td>31485</td>\n",
       "    </tr>\n",
       "    <tr>\n",
       "      <th>Tajikistan</th>\n",
       "      <td>Asia</td>\n",
       "      <td>Central Asia</td>\n",
       "      <td>Developing regions</td>\n",
       "      <td>0</td>\n",
       "      <td>0</td>\n",
       "      <td>0</td>\n",
       "      <td>0</td>\n",
       "      <td>0</td>\n",
       "      <td>0</td>\n",
       "      <td>0</td>\n",
       "      <td>...</td>\n",
       "      <td>85</td>\n",
       "      <td>46</td>\n",
       "      <td>44</td>\n",
       "      <td>15</td>\n",
       "      <td>50</td>\n",
       "      <td>52</td>\n",
       "      <td>47</td>\n",
       "      <td>34</td>\n",
       "      <td>39</td>\n",
       "      <td>503</td>\n",
       "    </tr>\n",
       "    <tr>\n",
       "      <th>Thailand</th>\n",
       "      <td>Asia</td>\n",
       "      <td>South-Eastern Asia</td>\n",
       "      <td>Developing regions</td>\n",
       "      <td>56</td>\n",
       "      <td>53</td>\n",
       "      <td>113</td>\n",
       "      <td>65</td>\n",
       "      <td>82</td>\n",
       "      <td>66</td>\n",
       "      <td>78</td>\n",
       "      <td>...</td>\n",
       "      <td>575</td>\n",
       "      <td>500</td>\n",
       "      <td>487</td>\n",
       "      <td>519</td>\n",
       "      <td>512</td>\n",
       "      <td>499</td>\n",
       "      <td>396</td>\n",
       "      <td>296</td>\n",
       "      <td>400</td>\n",
       "      <td>9174</td>\n",
       "    </tr>\n",
       "    <tr>\n",
       "      <th>Turkey</th>\n",
       "      <td>Asia</td>\n",
       "      <td>Western Asia</td>\n",
       "      <td>Developing regions</td>\n",
       "      <td>481</td>\n",
       "      <td>874</td>\n",
       "      <td>706</td>\n",
       "      <td>280</td>\n",
       "      <td>338</td>\n",
       "      <td>202</td>\n",
       "      <td>257</td>\n",
       "      <td>...</td>\n",
       "      <td>2065</td>\n",
       "      <td>1638</td>\n",
       "      <td>1463</td>\n",
       "      <td>1122</td>\n",
       "      <td>1238</td>\n",
       "      <td>1492</td>\n",
       "      <td>1257</td>\n",
       "      <td>1068</td>\n",
       "      <td>729</td>\n",
       "      <td>31781</td>\n",
       "    </tr>\n",
       "    <tr>\n",
       "      <th>Turkmenistan</th>\n",
       "      <td>Asia</td>\n",
       "      <td>Central Asia</td>\n",
       "      <td>Developing regions</td>\n",
       "      <td>0</td>\n",
       "      <td>0</td>\n",
       "      <td>0</td>\n",
       "      <td>0</td>\n",
       "      <td>0</td>\n",
       "      <td>0</td>\n",
       "      <td>0</td>\n",
       "      <td>...</td>\n",
       "      <td>40</td>\n",
       "      <td>26</td>\n",
       "      <td>37</td>\n",
       "      <td>13</td>\n",
       "      <td>20</td>\n",
       "      <td>30</td>\n",
       "      <td>20</td>\n",
       "      <td>20</td>\n",
       "      <td>14</td>\n",
       "      <td>310</td>\n",
       "    </tr>\n",
       "    <tr>\n",
       "      <th>United Arab Emirates</th>\n",
       "      <td>Asia</td>\n",
       "      <td>Western Asia</td>\n",
       "      <td>Developing regions</td>\n",
       "      <td>0</td>\n",
       "      <td>2</td>\n",
       "      <td>2</td>\n",
       "      <td>1</td>\n",
       "      <td>2</td>\n",
       "      <td>0</td>\n",
       "      <td>5</td>\n",
       "      <td>...</td>\n",
       "      <td>31</td>\n",
       "      <td>42</td>\n",
       "      <td>37</td>\n",
       "      <td>33</td>\n",
       "      <td>37</td>\n",
       "      <td>86</td>\n",
       "      <td>60</td>\n",
       "      <td>54</td>\n",
       "      <td>46</td>\n",
       "      <td>836</td>\n",
       "    </tr>\n",
       "    <tr>\n",
       "      <th>Uzbekistan</th>\n",
       "      <td>Asia</td>\n",
       "      <td>Central Asia</td>\n",
       "      <td>Developing regions</td>\n",
       "      <td>0</td>\n",
       "      <td>0</td>\n",
       "      <td>0</td>\n",
       "      <td>0</td>\n",
       "      <td>0</td>\n",
       "      <td>0</td>\n",
       "      <td>0</td>\n",
       "      <td>...</td>\n",
       "      <td>330</td>\n",
       "      <td>262</td>\n",
       "      <td>284</td>\n",
       "      <td>215</td>\n",
       "      <td>288</td>\n",
       "      <td>289</td>\n",
       "      <td>162</td>\n",
       "      <td>235</td>\n",
       "      <td>167</td>\n",
       "      <td>3368</td>\n",
       "    </tr>\n",
       "    <tr>\n",
       "      <th>Viet Nam</th>\n",
       "      <td>Asia</td>\n",
       "      <td>South-Eastern Asia</td>\n",
       "      <td>Developing regions</td>\n",
       "      <td>1191</td>\n",
       "      <td>1829</td>\n",
       "      <td>2162</td>\n",
       "      <td>3404</td>\n",
       "      <td>7583</td>\n",
       "      <td>5907</td>\n",
       "      <td>2741</td>\n",
       "      <td>...</td>\n",
       "      <td>1852</td>\n",
       "      <td>3153</td>\n",
       "      <td>2574</td>\n",
       "      <td>1784</td>\n",
       "      <td>2171</td>\n",
       "      <td>1942</td>\n",
       "      <td>1723</td>\n",
       "      <td>1731</td>\n",
       "      <td>2112</td>\n",
       "      <td>97146</td>\n",
       "    </tr>\n",
       "    <tr>\n",
       "      <th>Yemen</th>\n",
       "      <td>Asia</td>\n",
       "      <td>Western Asia</td>\n",
       "      <td>Developing regions</td>\n",
       "      <td>1</td>\n",
       "      <td>2</td>\n",
       "      <td>1</td>\n",
       "      <td>6</td>\n",
       "      <td>0</td>\n",
       "      <td>18</td>\n",
       "      <td>7</td>\n",
       "      <td>...</td>\n",
       "      <td>161</td>\n",
       "      <td>140</td>\n",
       "      <td>122</td>\n",
       "      <td>133</td>\n",
       "      <td>128</td>\n",
       "      <td>211</td>\n",
       "      <td>160</td>\n",
       "      <td>174</td>\n",
       "      <td>217</td>\n",
       "      <td>2985</td>\n",
       "    </tr>\n",
       "  </tbody>\n",
       "</table>\n",
       "<p>49 rows × 38 columns</p>\n",
       "</div>"
      ],
      "text/plain": [
       "                                               Continent              Region  \\\n",
       "Afghanistan                                         Asia       Southern Asia   \n",
       "Armenia                                             Asia        Western Asia   \n",
       "Azerbaijan                                          Asia        Western Asia   \n",
       "Bahrain                                             Asia        Western Asia   \n",
       "Bangladesh                                          Asia       Southern Asia   \n",
       "Bhutan                                              Asia       Southern Asia   \n",
       "Brunei Darussalam                                   Asia  South-Eastern Asia   \n",
       "Cambodia                                            Asia  South-Eastern Asia   \n",
       "China                                               Asia        Eastern Asia   \n",
       "China, Hong Kong Special Administrative Region      Asia        Eastern Asia   \n",
       "China, Macao Special Administrative Region          Asia        Eastern Asia   \n",
       "Cyprus                                              Asia        Western Asia   \n",
       "Democratic People's Republic of Korea               Asia        Eastern Asia   \n",
       "Georgia                                             Asia        Western Asia   \n",
       "India                                               Asia       Southern Asia   \n",
       "Indonesia                                           Asia  South-Eastern Asia   \n",
       "Iran (Islamic Republic of)                          Asia       Southern Asia   \n",
       "Iraq                                                Asia        Western Asia   \n",
       "Israel                                              Asia        Western Asia   \n",
       "Japan                                               Asia        Eastern Asia   \n",
       "Jordan                                              Asia        Western Asia   \n",
       "Kazakhstan                                          Asia        Central Asia   \n",
       "Kuwait                                              Asia        Western Asia   \n",
       "Kyrgyzstan                                          Asia        Central Asia   \n",
       "Lao People's Democratic Republic                    Asia  South-Eastern Asia   \n",
       "Lebanon                                             Asia        Western Asia   \n",
       "Malaysia                                            Asia  South-Eastern Asia   \n",
       "Maldives                                            Asia       Southern Asia   \n",
       "Mongolia                                            Asia        Eastern Asia   \n",
       "Myanmar                                             Asia  South-Eastern Asia   \n",
       "Nepal                                               Asia       Southern Asia   \n",
       "Oman                                                Asia        Western Asia   \n",
       "Pakistan                                            Asia       Southern Asia   \n",
       "Philippines                                         Asia  South-Eastern Asia   \n",
       "Qatar                                               Asia        Western Asia   \n",
       "Republic of Korea                                   Asia        Eastern Asia   \n",
       "Saudi Arabia                                        Asia        Western Asia   \n",
       "Singapore                                           Asia  South-Eastern Asia   \n",
       "Sri Lanka                                           Asia       Southern Asia   \n",
       "State of Palestine                                  Asia        Western Asia   \n",
       "Syrian Arab Republic                                Asia        Western Asia   \n",
       "Tajikistan                                          Asia        Central Asia   \n",
       "Thailand                                            Asia  South-Eastern Asia   \n",
       "Turkey                                              Asia        Western Asia   \n",
       "Turkmenistan                                        Asia        Central Asia   \n",
       "United Arab Emirates                                Asia        Western Asia   \n",
       "Uzbekistan                                          Asia        Central Asia   \n",
       "Viet Nam                                            Asia  South-Eastern Asia   \n",
       "Yemen                                               Asia        Western Asia   \n",
       "\n",
       "                                                           DevName  1980  \\\n",
       "Afghanistan                                     Developing regions    16   \n",
       "Armenia                                         Developing regions     0   \n",
       "Azerbaijan                                      Developing regions     0   \n",
       "Bahrain                                         Developing regions     0   \n",
       "Bangladesh                                      Developing regions    83   \n",
       "Bhutan                                          Developing regions     0   \n",
       "Brunei Darussalam                               Developing regions    79   \n",
       "Cambodia                                        Developing regions    12   \n",
       "China                                           Developing regions  5123   \n",
       "China, Hong Kong Special Administrative Region  Developing regions     0   \n",
       "China, Macao Special Administrative Region      Developing regions     0   \n",
       "Cyprus                                          Developing regions   132   \n",
       "Democratic People's Republic of Korea           Developing regions     1   \n",
       "Georgia                                         Developing regions     0   \n",
       "India                                           Developing regions  8880   \n",
       "Indonesia                                       Developing regions   186   \n",
       "Iran (Islamic Republic of)                      Developing regions  1172   \n",
       "Iraq                                            Developing regions   262   \n",
       "Israel                                          Developing regions  1403   \n",
       "Japan                                            Developed regions   701   \n",
       "Jordan                                          Developing regions   177   \n",
       "Kazakhstan                                      Developing regions     0   \n",
       "Kuwait                                          Developing regions     1   \n",
       "Kyrgyzstan                                      Developing regions     0   \n",
       "Lao People's Democratic Republic                Developing regions    11   \n",
       "Lebanon                                         Developing regions  1409   \n",
       "Malaysia                                        Developing regions   786   \n",
       "Maldives                                        Developing regions     0   \n",
       "Mongolia                                        Developing regions     0   \n",
       "Myanmar                                         Developing regions    80   \n",
       "Nepal                                           Developing regions     1   \n",
       "Oman                                            Developing regions     0   \n",
       "Pakistan                                        Developing regions   978   \n",
       "Philippines                                     Developing regions  6051   \n",
       "Qatar                                           Developing regions     0   \n",
       "Republic of Korea                               Developing regions  1011   \n",
       "Saudi Arabia                                    Developing regions     0   \n",
       "Singapore                                       Developing regions   241   \n",
       "Sri Lanka                                       Developing regions   185   \n",
       "State of Palestine                              Developing regions     0   \n",
       "Syrian Arab Republic                            Developing regions   315   \n",
       "Tajikistan                                      Developing regions     0   \n",
       "Thailand                                        Developing regions    56   \n",
       "Turkey                                          Developing regions   481   \n",
       "Turkmenistan                                    Developing regions     0   \n",
       "United Arab Emirates                            Developing regions     0   \n",
       "Uzbekistan                                      Developing regions     0   \n",
       "Viet Nam                                        Developing regions  1191   \n",
       "Yemen                                           Developing regions     1   \n",
       "\n",
       "                                                1981  1982  1983  1984  1985  \\\n",
       "Afghanistan                                       39    39    47    71   340   \n",
       "Armenia                                            0     0     0     0     0   \n",
       "Azerbaijan                                         0     0     0     0     0   \n",
       "Bahrain                                            2     1     1     1     3   \n",
       "Bangladesh                                        84    86    81    98    92   \n",
       "Bhutan                                             0     0     0     1     0   \n",
       "Brunei Darussalam                                  6     8     2     2     4   \n",
       "Cambodia                                          19    26    33    10     7   \n",
       "China                                           6682  3308  1863  1527  1816   \n",
       "China, Hong Kong Special Administrative Region     0     0     0     0     0   \n",
       "China, Macao Special Administrative Region         0     0     0     0     0   \n",
       "Cyprus                                           128    84    46    46    43   \n",
       "Democratic People's Republic of Korea              1     3     1     4     3   \n",
       "Georgia                                            0     0     0     0     0   \n",
       "India                                           8670  8147  7338  5704  4211   \n",
       "Indonesia                                        178   252   115   123   100   \n",
       "Iran (Islamic Republic of)                      1429  1822  1592  1977  1648   \n",
       "Iraq                                             245   260   380   428   231   \n",
       "Israel                                          1711  1334   541   446   680   \n",
       "Japan                                            756   598   309   246   198   \n",
       "Jordan                                           160   155   113   102   179   \n",
       "Kazakhstan                                         0     0     0     0     0   \n",
       "Kuwait                                             0     8     2     1     4   \n",
       "Kyrgyzstan                                         0     0     0     0     0   \n",
       "Lao People's Democratic Republic                   6    16    16     7    17   \n",
       "Lebanon                                         1119  1159   789  1253  1683   \n",
       "Malaysia                                         816   813   448   384   374   \n",
       "Maldives                                           0     0     1     0     0   \n",
       "Mongolia                                           0     0     0     0     0   \n",
       "Myanmar                                           62    46    31    41    23   \n",
       "Nepal                                              1     6     1     2     4   \n",
       "Oman                                               0     0     8     0     0   \n",
       "Pakistan                                         972  1201   900   668   514   \n",
       "Philippines                                     5921  5249  4562  3801  3150   \n",
       "Qatar                                              0     0     0     0     0   \n",
       "Republic of Korea                               1456  1572  1081   847   962   \n",
       "Saudi Arabia                                       0     1     4     1     2   \n",
       "Singapore                                        301   337   169   128   139   \n",
       "Sri Lanka                                        371   290   197  1086   845   \n",
       "State of Palestine                                 0     0     0     0     0   \n",
       "Syrian Arab Republic                             419   409   269   264   385   \n",
       "Tajikistan                                         0     0     0     0     0   \n",
       "Thailand                                          53   113    65    82    66   \n",
       "Turkey                                           874   706   280   338   202   \n",
       "Turkmenistan                                       0     0     0     0     0   \n",
       "United Arab Emirates                               2     2     1     2     0   \n",
       "Uzbekistan                                         0     0     0     0     0   \n",
       "Viet Nam                                        1829  2162  3404  7583  5907   \n",
       "Yemen                                              2     1     6     0    18   \n",
       "\n",
       "                                                1986  ...   2005   2006  \\\n",
       "Afghanistan                                      496  ...   3436   3009   \n",
       "Armenia                                            0  ...    224    218   \n",
       "Azerbaijan                                         0  ...    359    236   \n",
       "Bahrain                                            0  ...     12     12   \n",
       "Bangladesh                                       486  ...   4171   4014   \n",
       "Bhutan                                             0  ...      5     10   \n",
       "Brunei Darussalam                                 12  ...      4      5   \n",
       "Cambodia                                           8  ...    370    529   \n",
       "China                                           1960  ...  42584  33518   \n",
       "China, Hong Kong Special Administrative Region     0  ...    729    712   \n",
       "China, Macao Special Administrative Region         0  ...     21     32   \n",
       "Cyprus                                            48  ...      7      9   \n",
       "Democratic People's Republic of Korea              0  ...     14     10   \n",
       "Georgia                                            0  ...    114    125   \n",
       "India                                           7150  ...  36210  33848   \n",
       "Indonesia                                        127  ...    632    613   \n",
       "Iran (Islamic Republic of)                      1794  ...   5837   7480   \n",
       "Iraq                                             265  ...   2226   1788   \n",
       "Israel                                          1212  ...   2446   2625   \n",
       "Japan                                            248  ...   1067   1212   \n",
       "Jordan                                           181  ...   1940   1827   \n",
       "Kazakhstan                                         0  ...    506    408   \n",
       "Kuwait                                             4  ...     66     35   \n",
       "Kyrgyzstan                                         0  ...    173    161   \n",
       "Lao People's Democratic Republic                  21  ...     42     74   \n",
       "Lebanon                                         2576  ...   3709   3802   \n",
       "Malaysia                                         425  ...    593    580   \n",
       "Maldives                                           0  ...      0      0   \n",
       "Mongolia                                           0  ...     59     64   \n",
       "Myanmar                                           18  ...    210    953   \n",
       "Nepal                                             13  ...    607    540   \n",
       "Oman                                               0  ...     14     18   \n",
       "Pakistan                                         691  ...  14314  13127   \n",
       "Philippines                                     4166  ...  18139  18400   \n",
       "Qatar                                              1  ...     11      2   \n",
       "Republic of Korea                               1208  ...   5832   6215   \n",
       "Saudi Arabia                                       5  ...    198    252   \n",
       "Singapore                                        205  ...    392    298   \n",
       "Sri Lanka                                       1838  ...   4930   4714   \n",
       "State of Palestine                                 0  ...    453    627   \n",
       "Syrian Arab Republic                             493  ...   1458   1145   \n",
       "Tajikistan                                         0  ...     85     46   \n",
       "Thailand                                          78  ...    575    500   \n",
       "Turkey                                           257  ...   2065   1638   \n",
       "Turkmenistan                                       0  ...     40     26   \n",
       "United Arab Emirates                               5  ...     31     42   \n",
       "Uzbekistan                                         0  ...    330    262   \n",
       "Viet Nam                                        2741  ...   1852   3153   \n",
       "Yemen                                              7  ...    161    140   \n",
       "\n",
       "                                                 2007   2008   2009   2010  \\\n",
       "Afghanistan                                      2652   2111   1746   1758   \n",
       "Armenia                                           198    205    267    252   \n",
       "Azerbaijan                                        203    125    165    209   \n",
       "Bahrain                                            22      9     35     28   \n",
       "Bangladesh                                       2897   2939   2104   4721   \n",
       "Bhutan                                              7     36    865   1464   \n",
       "Brunei Darussalam                                  11     10      5     12   \n",
       "Cambodia                                          460    354    203    200   \n",
       "China                                           27642  30037  29622  30391   \n",
       "China, Hong Kong Special Administrative Region    674    897    657    623   \n",
       "China, Macao Special Administrative Region         16     12     21     21   \n",
       "Cyprus                                              4      7      6     18   \n",
       "Democratic People's Republic of Korea               7     19     11     45   \n",
       "Georgia                                           132    112    128    126   \n",
       "India                                           28742  28261  29456  34235   \n",
       "Indonesia                                         657    661    504    712   \n",
       "Iran (Islamic Republic of)                       6974   6475   6580   7477   \n",
       "Iraq                                             2406   3543   5450   5941   \n",
       "Israel                                           2401   2562   2316   2755   \n",
       "Japan                                            1250   1284   1194   1168   \n",
       "Jordan                                           1421   1581   1235   1831   \n",
       "Kazakhstan                                        436    394    431    377   \n",
       "Kuwait                                             62     53     68     67   \n",
       "Kyrgyzstan                                        135    168    173    157   \n",
       "Lao People's Democratic Republic                   53     32     39     54   \n",
       "Lebanon                                          3467   3566   3077   3432   \n",
       "Malaysia                                          600    658    640    802   \n",
       "Maldives                                            2      1      7      4   \n",
       "Mongolia                                           82     59    118    169   \n",
       "Myanmar                                          1887    975   1153    556   \n",
       "Nepal                                             511    581    561   1392   \n",
       "Oman                                               16     10      7     14   \n",
       "Pakistan                                        10124   8994   7217   6811   \n",
       "Philippines                                     19837  24887  28573  38617   \n",
       "Qatar                                               5      9      6     18   \n",
       "Republic of Korea                                5920   7294   5874   5537   \n",
       "Saudi Arabia                                      188    249    246    330   \n",
       "Singapore                                         690    734    366    805   \n",
       "Sri Lanka                                        4123   4756   4547   4422   \n",
       "State of Palestine                                441    481    400    654   \n",
       "Syrian Arab Republic                             1056    919    917   1039   \n",
       "Tajikistan                                         44     15     50     52   \n",
       "Thailand                                          487    519    512    499   \n",
       "Turkey                                           1463   1122   1238   1492   \n",
       "Turkmenistan                                       37     13     20     30   \n",
       "United Arab Emirates                               37     33     37     86   \n",
       "Uzbekistan                                        284    215    288    289   \n",
       "Viet Nam                                         2574   1784   2171   1942   \n",
       "Yemen                                             122    133    128    211   \n",
       "\n",
       "                                                 2011   2012   2013   Total  \n",
       "Afghanistan                                      2203   2635   2004   58639  \n",
       "Armenia                                           236    258    207    3310  \n",
       "Azerbaijan                                        138    161     57    2649  \n",
       "Bahrain                                            21     39     32     475  \n",
       "Bangladesh                                       2694   2640   3789   65568  \n",
       "Bhutan                                           1879   1075    487    5876  \n",
       "Brunei Darussalam                                   6      3      6     600  \n",
       "Cambodia                                          196    233    288    6538  \n",
       "China                                           28502  33024  34129  659962  \n",
       "China, Hong Kong Special Administrative Region    591    728    774    9327  \n",
       "China, Macao Special Administrative Region         13     33     29     284  \n",
       "Cyprus                                              6     12     16    1126  \n",
       "Democratic People's Republic of Korea              97     66     17     388  \n",
       "Georgia                                           139    147    125    2068  \n",
       "India                                           27509  30933  33087  691904  \n",
       "Indonesia                                         390    395    387   13150  \n",
       "Iran (Islamic Republic of)                       7479   7534  11291  175923  \n",
       "Iraq                                             6196   4041   4918   69789  \n",
       "Israel                                           1970   2134   1945   66508  \n",
       "Japan                                            1265   1214    982   27707  \n",
       "Jordan                                           1635   1206   1255   35406  \n",
       "Kazakhstan                                        381    462    348    8490  \n",
       "Kuwait                                             58     73     48    2025  \n",
       "Kyrgyzstan                                        159    278    123    2353  \n",
       "Lao People's Democratic Republic                   22     25     15    1089  \n",
       "Lebanon                                          3072   1614   2172  115359  \n",
       "Malaysia                                          409    358    204   24417  \n",
       "Maldives                                            3      1      1      30  \n",
       "Mongolia                                          103     68     99     952  \n",
       "Myanmar                                           368    193    262    9245  \n",
       "Nepal                                            1129   1185   1308   10222  \n",
       "Oman                                               10     13     11     224  \n",
       "Pakistan                                         7468  11227  12603  241600  \n",
       "Philippines                                     36765  34315  29544  511391  \n",
       "Qatar                                               3     14      6     157  \n",
       "Republic of Korea                                4588   5316   4509  142581  \n",
       "Saudi Arabia                                      278    286    267    3425  \n",
       "Singapore                                         219    146    141   14579  \n",
       "Sri Lanka                                        3309   3338   2394  148358  \n",
       "State of Palestine                                555    533    462    6512  \n",
       "Syrian Arab Republic                             1005    650   1009   31485  \n",
       "Tajikistan                                         47     34     39     503  \n",
       "Thailand                                          396    296    400    9174  \n",
       "Turkey                                           1257   1068    729   31781  \n",
       "Turkmenistan                                       20     20     14     310  \n",
       "United Arab Emirates                               60     54     46     836  \n",
       "Uzbekistan                                        162    235    167    3368  \n",
       "Viet Nam                                         1723   1731   2112   97146  \n",
       "Yemen                                             160    174    217    2985  \n",
       "\n",
       "[49 rows x 38 columns]"
      ]
     },
     "execution_count": 45,
     "metadata": {},
     "output_type": "execute_result"
    }
   ],
   "source": [
    "# 2. pass this condition into the dataFrame\n",
    "df_can[condition]"
   ]
  },
  {
   "cell_type": "code",
   "execution_count": 46,
   "metadata": {
    "button": false,
    "collapsed": false,
    "deletable": true,
    "jupyter": {
     "outputs_hidden": false
    },
    "new_sheet": false,
    "run_control": {
     "read_only": false
    }
   },
   "outputs": [
    {
     "data": {
      "text/html": [
       "<div>\n",
       "<style scoped>\n",
       "    .dataframe tbody tr th:only-of-type {\n",
       "        vertical-align: middle;\n",
       "    }\n",
       "\n",
       "    .dataframe tbody tr th {\n",
       "        vertical-align: top;\n",
       "    }\n",
       "\n",
       "    .dataframe thead th {\n",
       "        text-align: right;\n",
       "    }\n",
       "</style>\n",
       "<table border=\"1\" class=\"dataframe\">\n",
       "  <thead>\n",
       "    <tr style=\"text-align: right;\">\n",
       "      <th></th>\n",
       "      <th>Continent</th>\n",
       "      <th>Region</th>\n",
       "      <th>DevName</th>\n",
       "      <th>1980</th>\n",
       "      <th>1981</th>\n",
       "      <th>1982</th>\n",
       "      <th>1983</th>\n",
       "      <th>1984</th>\n",
       "      <th>1985</th>\n",
       "      <th>1986</th>\n",
       "      <th>...</th>\n",
       "      <th>2005</th>\n",
       "      <th>2006</th>\n",
       "      <th>2007</th>\n",
       "      <th>2008</th>\n",
       "      <th>2009</th>\n",
       "      <th>2010</th>\n",
       "      <th>2011</th>\n",
       "      <th>2012</th>\n",
       "      <th>2013</th>\n",
       "      <th>Total</th>\n",
       "    </tr>\n",
       "  </thead>\n",
       "  <tbody>\n",
       "    <tr>\n",
       "      <th>Afghanistan</th>\n",
       "      <td>Asia</td>\n",
       "      <td>Southern Asia</td>\n",
       "      <td>Developing regions</td>\n",
       "      <td>16</td>\n",
       "      <td>39</td>\n",
       "      <td>39</td>\n",
       "      <td>47</td>\n",
       "      <td>71</td>\n",
       "      <td>340</td>\n",
       "      <td>496</td>\n",
       "      <td>...</td>\n",
       "      <td>3436</td>\n",
       "      <td>3009</td>\n",
       "      <td>2652</td>\n",
       "      <td>2111</td>\n",
       "      <td>1746</td>\n",
       "      <td>1758</td>\n",
       "      <td>2203</td>\n",
       "      <td>2635</td>\n",
       "      <td>2004</td>\n",
       "      <td>58639</td>\n",
       "    </tr>\n",
       "    <tr>\n",
       "      <th>Bangladesh</th>\n",
       "      <td>Asia</td>\n",
       "      <td>Southern Asia</td>\n",
       "      <td>Developing regions</td>\n",
       "      <td>83</td>\n",
       "      <td>84</td>\n",
       "      <td>86</td>\n",
       "      <td>81</td>\n",
       "      <td>98</td>\n",
       "      <td>92</td>\n",
       "      <td>486</td>\n",
       "      <td>...</td>\n",
       "      <td>4171</td>\n",
       "      <td>4014</td>\n",
       "      <td>2897</td>\n",
       "      <td>2939</td>\n",
       "      <td>2104</td>\n",
       "      <td>4721</td>\n",
       "      <td>2694</td>\n",
       "      <td>2640</td>\n",
       "      <td>3789</td>\n",
       "      <td>65568</td>\n",
       "    </tr>\n",
       "    <tr>\n",
       "      <th>Bhutan</th>\n",
       "      <td>Asia</td>\n",
       "      <td>Southern Asia</td>\n",
       "      <td>Developing regions</td>\n",
       "      <td>0</td>\n",
       "      <td>0</td>\n",
       "      <td>0</td>\n",
       "      <td>0</td>\n",
       "      <td>1</td>\n",
       "      <td>0</td>\n",
       "      <td>0</td>\n",
       "      <td>...</td>\n",
       "      <td>5</td>\n",
       "      <td>10</td>\n",
       "      <td>7</td>\n",
       "      <td>36</td>\n",
       "      <td>865</td>\n",
       "      <td>1464</td>\n",
       "      <td>1879</td>\n",
       "      <td>1075</td>\n",
       "      <td>487</td>\n",
       "      <td>5876</td>\n",
       "    </tr>\n",
       "    <tr>\n",
       "      <th>India</th>\n",
       "      <td>Asia</td>\n",
       "      <td>Southern Asia</td>\n",
       "      <td>Developing regions</td>\n",
       "      <td>8880</td>\n",
       "      <td>8670</td>\n",
       "      <td>8147</td>\n",
       "      <td>7338</td>\n",
       "      <td>5704</td>\n",
       "      <td>4211</td>\n",
       "      <td>7150</td>\n",
       "      <td>...</td>\n",
       "      <td>36210</td>\n",
       "      <td>33848</td>\n",
       "      <td>28742</td>\n",
       "      <td>28261</td>\n",
       "      <td>29456</td>\n",
       "      <td>34235</td>\n",
       "      <td>27509</td>\n",
       "      <td>30933</td>\n",
       "      <td>33087</td>\n",
       "      <td>691904</td>\n",
       "    </tr>\n",
       "    <tr>\n",
       "      <th>Iran (Islamic Republic of)</th>\n",
       "      <td>Asia</td>\n",
       "      <td>Southern Asia</td>\n",
       "      <td>Developing regions</td>\n",
       "      <td>1172</td>\n",
       "      <td>1429</td>\n",
       "      <td>1822</td>\n",
       "      <td>1592</td>\n",
       "      <td>1977</td>\n",
       "      <td>1648</td>\n",
       "      <td>1794</td>\n",
       "      <td>...</td>\n",
       "      <td>5837</td>\n",
       "      <td>7480</td>\n",
       "      <td>6974</td>\n",
       "      <td>6475</td>\n",
       "      <td>6580</td>\n",
       "      <td>7477</td>\n",
       "      <td>7479</td>\n",
       "      <td>7534</td>\n",
       "      <td>11291</td>\n",
       "      <td>175923</td>\n",
       "    </tr>\n",
       "    <tr>\n",
       "      <th>Maldives</th>\n",
       "      <td>Asia</td>\n",
       "      <td>Southern Asia</td>\n",
       "      <td>Developing regions</td>\n",
       "      <td>0</td>\n",
       "      <td>0</td>\n",
       "      <td>0</td>\n",
       "      <td>1</td>\n",
       "      <td>0</td>\n",
       "      <td>0</td>\n",
       "      <td>0</td>\n",
       "      <td>...</td>\n",
       "      <td>0</td>\n",
       "      <td>0</td>\n",
       "      <td>2</td>\n",
       "      <td>1</td>\n",
       "      <td>7</td>\n",
       "      <td>4</td>\n",
       "      <td>3</td>\n",
       "      <td>1</td>\n",
       "      <td>1</td>\n",
       "      <td>30</td>\n",
       "    </tr>\n",
       "    <tr>\n",
       "      <th>Nepal</th>\n",
       "      <td>Asia</td>\n",
       "      <td>Southern Asia</td>\n",
       "      <td>Developing regions</td>\n",
       "      <td>1</td>\n",
       "      <td>1</td>\n",
       "      <td>6</td>\n",
       "      <td>1</td>\n",
       "      <td>2</td>\n",
       "      <td>4</td>\n",
       "      <td>13</td>\n",
       "      <td>...</td>\n",
       "      <td>607</td>\n",
       "      <td>540</td>\n",
       "      <td>511</td>\n",
       "      <td>581</td>\n",
       "      <td>561</td>\n",
       "      <td>1392</td>\n",
       "      <td>1129</td>\n",
       "      <td>1185</td>\n",
       "      <td>1308</td>\n",
       "      <td>10222</td>\n",
       "    </tr>\n",
       "    <tr>\n",
       "      <th>Pakistan</th>\n",
       "      <td>Asia</td>\n",
       "      <td>Southern Asia</td>\n",
       "      <td>Developing regions</td>\n",
       "      <td>978</td>\n",
       "      <td>972</td>\n",
       "      <td>1201</td>\n",
       "      <td>900</td>\n",
       "      <td>668</td>\n",
       "      <td>514</td>\n",
       "      <td>691</td>\n",
       "      <td>...</td>\n",
       "      <td>14314</td>\n",
       "      <td>13127</td>\n",
       "      <td>10124</td>\n",
       "      <td>8994</td>\n",
       "      <td>7217</td>\n",
       "      <td>6811</td>\n",
       "      <td>7468</td>\n",
       "      <td>11227</td>\n",
       "      <td>12603</td>\n",
       "      <td>241600</td>\n",
       "    </tr>\n",
       "    <tr>\n",
       "      <th>Sri Lanka</th>\n",
       "      <td>Asia</td>\n",
       "      <td>Southern Asia</td>\n",
       "      <td>Developing regions</td>\n",
       "      <td>185</td>\n",
       "      <td>371</td>\n",
       "      <td>290</td>\n",
       "      <td>197</td>\n",
       "      <td>1086</td>\n",
       "      <td>845</td>\n",
       "      <td>1838</td>\n",
       "      <td>...</td>\n",
       "      <td>4930</td>\n",
       "      <td>4714</td>\n",
       "      <td>4123</td>\n",
       "      <td>4756</td>\n",
       "      <td>4547</td>\n",
       "      <td>4422</td>\n",
       "      <td>3309</td>\n",
       "      <td>3338</td>\n",
       "      <td>2394</td>\n",
       "      <td>148358</td>\n",
       "    </tr>\n",
       "  </tbody>\n",
       "</table>\n",
       "<p>9 rows × 38 columns</p>\n",
       "</div>"
      ],
      "text/plain": [
       "                           Continent         Region             DevName  1980  \\\n",
       "Afghanistan                     Asia  Southern Asia  Developing regions    16   \n",
       "Bangladesh                      Asia  Southern Asia  Developing regions    83   \n",
       "Bhutan                          Asia  Southern Asia  Developing regions     0   \n",
       "India                           Asia  Southern Asia  Developing regions  8880   \n",
       "Iran (Islamic Republic of)      Asia  Southern Asia  Developing regions  1172   \n",
       "Maldives                        Asia  Southern Asia  Developing regions     0   \n",
       "Nepal                           Asia  Southern Asia  Developing regions     1   \n",
       "Pakistan                        Asia  Southern Asia  Developing regions   978   \n",
       "Sri Lanka                       Asia  Southern Asia  Developing regions   185   \n",
       "\n",
       "                            1981  1982  1983  1984  1985  1986  ...   2005  \\\n",
       "Afghanistan                   39    39    47    71   340   496  ...   3436   \n",
       "Bangladesh                    84    86    81    98    92   486  ...   4171   \n",
       "Bhutan                         0     0     0     1     0     0  ...      5   \n",
       "India                       8670  8147  7338  5704  4211  7150  ...  36210   \n",
       "Iran (Islamic Republic of)  1429  1822  1592  1977  1648  1794  ...   5837   \n",
       "Maldives                       0     0     1     0     0     0  ...      0   \n",
       "Nepal                          1     6     1     2     4    13  ...    607   \n",
       "Pakistan                     972  1201   900   668   514   691  ...  14314   \n",
       "Sri Lanka                    371   290   197  1086   845  1838  ...   4930   \n",
       "\n",
       "                             2006   2007   2008   2009   2010   2011   2012  \\\n",
       "Afghanistan                  3009   2652   2111   1746   1758   2203   2635   \n",
       "Bangladesh                   4014   2897   2939   2104   4721   2694   2640   \n",
       "Bhutan                         10      7     36    865   1464   1879   1075   \n",
       "India                       33848  28742  28261  29456  34235  27509  30933   \n",
       "Iran (Islamic Republic of)   7480   6974   6475   6580   7477   7479   7534   \n",
       "Maldives                        0      2      1      7      4      3      1   \n",
       "Nepal                         540    511    581    561   1392   1129   1185   \n",
       "Pakistan                    13127  10124   8994   7217   6811   7468  11227   \n",
       "Sri Lanka                    4714   4123   4756   4547   4422   3309   3338   \n",
       "\n",
       "                             2013   Total  \n",
       "Afghanistan                  2004   58639  \n",
       "Bangladesh                   3789   65568  \n",
       "Bhutan                        487    5876  \n",
       "India                       33087  691904  \n",
       "Iran (Islamic Republic of)  11291  175923  \n",
       "Maldives                        1      30  \n",
       "Nepal                        1308   10222  \n",
       "Pakistan                    12603  241600  \n",
       "Sri Lanka                    2394  148358  \n",
       "\n",
       "[9 rows x 38 columns]"
      ]
     },
     "execution_count": 46,
     "metadata": {},
     "output_type": "execute_result"
    }
   ],
   "source": [
    "# we can pass mutliple criteria in the same line. \n",
    "# let's filter for AreaNAme = Asia and RegName = Southern Asia\n",
    "\n",
    "df_can[(df_can['Continent']=='Asia') & (df_can['Region']=='Southern Asia')]\n",
    "\n",
    "# note: When using 'and' and 'or' operators, pandas requires we use '&' and '|' instead of 'and' and 'or'\n",
    "# don't forget to enclose the two conditions in parentheses"
   ]
  },
  {
   "cell_type": "markdown",
   "metadata": {
    "button": false,
    "deletable": true,
    "new_sheet": false,
    "run_control": {
     "read_only": false
    }
   },
   "source": [
    "Before we proceed: let's review the changes we have made to our dataframe."
   ]
  },
  {
   "cell_type": "code",
   "execution_count": 47,
   "metadata": {
    "button": false,
    "collapsed": false,
    "deletable": true,
    "jupyter": {
     "outputs_hidden": false
    },
    "new_sheet": false,
    "run_control": {
     "read_only": false
    },
    "scrolled": true
   },
   "outputs": [
    {
     "name": "stdout",
     "output_type": "stream",
     "text": [
      "data dimensions: (195, 38)\n",
      "Index(['Continent', 'Region', 'DevName', '1980', '1981', '1982', '1983',\n",
      "       '1984', '1985', '1986', '1987', '1988', '1989', '1990', '1991', '1992',\n",
      "       '1993', '1994', '1995', '1996', '1997', '1998', '1999', '2000', '2001',\n",
      "       '2002', '2003', '2004', '2005', '2006', '2007', '2008', '2009', '2010',\n",
      "       '2011', '2012', '2013', 'Total'],\n",
      "      dtype='object')\n"
     ]
    },
    {
     "data": {
      "text/html": [
       "<div>\n",
       "<style scoped>\n",
       "    .dataframe tbody tr th:only-of-type {\n",
       "        vertical-align: middle;\n",
       "    }\n",
       "\n",
       "    .dataframe tbody tr th {\n",
       "        vertical-align: top;\n",
       "    }\n",
       "\n",
       "    .dataframe thead th {\n",
       "        text-align: right;\n",
       "    }\n",
       "</style>\n",
       "<table border=\"1\" class=\"dataframe\">\n",
       "  <thead>\n",
       "    <tr style=\"text-align: right;\">\n",
       "      <th></th>\n",
       "      <th>Continent</th>\n",
       "      <th>Region</th>\n",
       "      <th>DevName</th>\n",
       "      <th>1980</th>\n",
       "      <th>1981</th>\n",
       "      <th>1982</th>\n",
       "      <th>1983</th>\n",
       "      <th>1984</th>\n",
       "      <th>1985</th>\n",
       "      <th>1986</th>\n",
       "      <th>...</th>\n",
       "      <th>2005</th>\n",
       "      <th>2006</th>\n",
       "      <th>2007</th>\n",
       "      <th>2008</th>\n",
       "      <th>2009</th>\n",
       "      <th>2010</th>\n",
       "      <th>2011</th>\n",
       "      <th>2012</th>\n",
       "      <th>2013</th>\n",
       "      <th>Total</th>\n",
       "    </tr>\n",
       "  </thead>\n",
       "  <tbody>\n",
       "    <tr>\n",
       "      <th>Afghanistan</th>\n",
       "      <td>Asia</td>\n",
       "      <td>Southern Asia</td>\n",
       "      <td>Developing regions</td>\n",
       "      <td>16</td>\n",
       "      <td>39</td>\n",
       "      <td>39</td>\n",
       "      <td>47</td>\n",
       "      <td>71</td>\n",
       "      <td>340</td>\n",
       "      <td>496</td>\n",
       "      <td>...</td>\n",
       "      <td>3436</td>\n",
       "      <td>3009</td>\n",
       "      <td>2652</td>\n",
       "      <td>2111</td>\n",
       "      <td>1746</td>\n",
       "      <td>1758</td>\n",
       "      <td>2203</td>\n",
       "      <td>2635</td>\n",
       "      <td>2004</td>\n",
       "      <td>58639</td>\n",
       "    </tr>\n",
       "    <tr>\n",
       "      <th>Albania</th>\n",
       "      <td>Europe</td>\n",
       "      <td>Southern Europe</td>\n",
       "      <td>Developed regions</td>\n",
       "      <td>1</td>\n",
       "      <td>0</td>\n",
       "      <td>0</td>\n",
       "      <td>0</td>\n",
       "      <td>0</td>\n",
       "      <td>0</td>\n",
       "      <td>1</td>\n",
       "      <td>...</td>\n",
       "      <td>1223</td>\n",
       "      <td>856</td>\n",
       "      <td>702</td>\n",
       "      <td>560</td>\n",
       "      <td>716</td>\n",
       "      <td>561</td>\n",
       "      <td>539</td>\n",
       "      <td>620</td>\n",
       "      <td>603</td>\n",
       "      <td>15699</td>\n",
       "    </tr>\n",
       "  </tbody>\n",
       "</table>\n",
       "<p>2 rows × 38 columns</p>\n",
       "</div>"
      ],
      "text/plain": [
       "            Continent           Region             DevName  1980  1981  1982  \\\n",
       "Afghanistan      Asia    Southern Asia  Developing regions    16    39    39   \n",
       "Albania        Europe  Southern Europe   Developed regions     1     0     0   \n",
       "\n",
       "             1983  1984  1985  1986  ...  2005  2006  2007  2008  2009  2010  \\\n",
       "Afghanistan    47    71   340   496  ...  3436  3009  2652  2111  1746  1758   \n",
       "Albania         0     0     0     1  ...  1223   856   702   560   716   561   \n",
       "\n",
       "             2011  2012  2013  Total  \n",
       "Afghanistan  2203  2635  2004  58639  \n",
       "Albania       539   620   603  15699  \n",
       "\n",
       "[2 rows x 38 columns]"
      ]
     },
     "execution_count": 47,
     "metadata": {},
     "output_type": "execute_result"
    }
   ],
   "source": [
    "print('data dimensions:', df_can.shape)\n",
    "print(df_can.columns)\n",
    "df_can.head(2)"
   ]
  },
  {
   "cell_type": "markdown",
   "metadata": {
    "button": false,
    "deletable": true,
    "new_sheet": false,
    "run_control": {
     "read_only": false
    }
   },
   "source": [
    "---\n",
    "# Visualizing Data using Matplotlib<a id=\"8\"></a>"
   ]
  },
  {
   "cell_type": "markdown",
   "metadata": {
    "button": false,
    "deletable": true,
    "new_sheet": false,
    "run_control": {
     "read_only": false
    }
   },
   "source": [
    "## Matplotlib: Standard Python Visualization Library<a id=\"10\"></a>\n",
    "\n",
    "The primary plotting library we will explore in the course is [Matplotlib](http://matplotlib.org/).  As mentioned on their website: \n",
    ">Matplotlib is a Python 2D plotting library which produces publication quality figures in a variety of hardcopy formats and interactive environments across platforms. Matplotlib can be used in Python scripts, the Python and IPython shell, the jupyter notebook, web application servers, and four graphical user interface toolkits.\n",
    "\n",
    "If you are aspiring to create impactful visualization with python, Matplotlib is an essential tool to have at your disposal."
   ]
  },
  {
   "cell_type": "markdown",
   "metadata": {
    "button": false,
    "deletable": true,
    "new_sheet": false,
    "run_control": {
     "read_only": false
    }
   },
   "source": [
    "### Matplotlib.Pyplot\n",
    "\n",
    "One of the core aspects of Matplotlib is `matplotlib.pyplot`. It is Matplotlib's scripting layer which we studied in details in the videos about Matplotlib. Recall that it is a collection of command style functions that make Matplotlib work like MATLAB. Each `pyplot` function makes some change to a figure: e.g., creates a figure, creates a plotting area in a figure, plots some lines in a plotting area, decorates the plot with labels, etc. In this lab, we will work with the scripting layer to learn how to generate line plots. In future labs, we will get to work with the Artist layer as well to experiment first hand how it differs from the scripting layer. \n"
   ]
  },
  {
   "cell_type": "markdown",
   "metadata": {
    "button": false,
    "deletable": true,
    "new_sheet": false,
    "run_control": {
     "read_only": false
    }
   },
   "source": [
    "Let's start by importing `Matplotlib` and `Matplotlib.pyplot` as follows:"
   ]
  },
  {
   "cell_type": "code",
   "execution_count": 48,
   "metadata": {
    "button": false,
    "collapsed": false,
    "deletable": true,
    "jupyter": {
     "outputs_hidden": false
    },
    "new_sheet": false,
    "run_control": {
     "read_only": false
    }
   },
   "outputs": [],
   "source": [
    "# we are using the inline backend\n",
    "%matplotlib inline \n",
    "\n",
    "import matplotlib as mpl\n",
    "import matplotlib.pyplot as plt"
   ]
  },
  {
   "cell_type": "markdown",
   "metadata": {
    "button": false,
    "deletable": true,
    "new_sheet": false,
    "run_control": {
     "read_only": false
    }
   },
   "source": [
    "*optional: check if Matplotlib is loaded."
   ]
  },
  {
   "cell_type": "code",
   "execution_count": 49,
   "metadata": {
    "button": false,
    "collapsed": false,
    "deletable": true,
    "jupyter": {
     "outputs_hidden": false
    },
    "new_sheet": false,
    "run_control": {
     "read_only": false
    }
   },
   "outputs": [
    {
     "name": "stdout",
     "output_type": "stream",
     "text": [
      "Matplotlib version:  3.3.0\n"
     ]
    }
   ],
   "source": [
    "print ('Matplotlib version: ', mpl.__version__) # >= 2.0.0"
   ]
  },
  {
   "cell_type": "markdown",
   "metadata": {
    "button": false,
    "deletable": true,
    "new_sheet": false,
    "run_control": {
     "read_only": false
    }
   },
   "source": [
    "*optional: apply a style to Matplotlib."
   ]
  },
  {
   "cell_type": "code",
   "execution_count": 50,
   "metadata": {
    "button": false,
    "collapsed": false,
    "deletable": true,
    "jupyter": {
     "outputs_hidden": false
    },
    "new_sheet": false,
    "run_control": {
     "read_only": false
    }
   },
   "outputs": [
    {
     "name": "stdout",
     "output_type": "stream",
     "text": [
      "['Solarize_Light2', '_classic_test_patch', 'bmh', 'classic', 'dark_background', 'fast', 'fivethirtyeight', 'ggplot', 'grayscale', 'seaborn', 'seaborn-bright', 'seaborn-colorblind', 'seaborn-dark', 'seaborn-dark-palette', 'seaborn-darkgrid', 'seaborn-deep', 'seaborn-muted', 'seaborn-notebook', 'seaborn-paper', 'seaborn-pastel', 'seaborn-poster', 'seaborn-talk', 'seaborn-ticks', 'seaborn-white', 'seaborn-whitegrid', 'tableau-colorblind10']\n"
     ]
    }
   ],
   "source": [
    "print(plt.style.available)\n",
    "mpl.style.use(['ggplot']) # optional: for ggplot-like style"
   ]
  },
  {
   "cell_type": "markdown",
   "metadata": {
    "button": false,
    "deletable": true,
    "new_sheet": false,
    "run_control": {
     "read_only": false
    }
   },
   "source": [
    "### Plotting in *pandas*\n",
    "\n",
    "Fortunately, pandas has a built-in implementation of Matplotlib that we can use. Plotting in *pandas* is as simple as appending a `.plot()` method to a series or dataframe.\n",
    "\n",
    "Documentation:\n",
    "- [Plotting with Series](http://pandas.pydata.org/pandas-docs/stable/api.html#plotting)<br>\n",
    "- [Plotting with Dataframes](http://pandas.pydata.org/pandas-docs/stable/api.html#api-dataframe-plotting)"
   ]
  },
  {
   "cell_type": "markdown",
   "metadata": {
    "button": false,
    "deletable": true,
    "new_sheet": false,
    "run_control": {
     "read_only": false
    }
   },
   "source": [
    "# Line Pots (Series/Dataframe) <a id=\"12\"></a>"
   ]
  },
  {
   "cell_type": "markdown",
   "metadata": {
    "button": false,
    "deletable": true,
    "new_sheet": false,
    "run_control": {
     "read_only": false
    }
   },
   "source": [
    "**What is a line plot and why use it?**\n",
    "\n",
    "A line chart or line plot is a type of plot which displays information as a series of data points called 'markers' connected by straight line segments. It is a basic type of chart common in many fields.\n",
    "Use line plot when you have a continuous data set. These are best suited for trend-based visualizations of data over a period of time."
   ]
  },
  {
   "cell_type": "markdown",
   "metadata": {
    "button": false,
    "deletable": true,
    "new_sheet": false,
    "run_control": {
     "read_only": false
    }
   },
   "source": [
    "**Let's start with a case study:**\n",
    "\n",
    "In 2010, Haiti suffered a catastrophic magnitude 7.0 earthquake. The quake caused widespread devastation and loss of life and aout three million people were affected by this natural disaster. As part of Canada's humanitarian effort, the Government of Canada stepped up its effort in accepting refugees from Haiti. We can quickly visualize this effort using a `Line` plot:\n",
    "\n",
    "**Question:** Plot a line graph of immigration from Haiti using `df.plot()`.\n"
   ]
  },
  {
   "cell_type": "markdown",
   "metadata": {
    "button": false,
    "deletable": true,
    "new_sheet": false,
    "run_control": {
     "read_only": false
    }
   },
   "source": [
    "First, we will extract the data series for Haiti."
   ]
  },
  {
   "cell_type": "code",
   "execution_count": 53,
   "metadata": {
    "button": false,
    "collapsed": false,
    "deletable": true,
    "jupyter": {
     "outputs_hidden": false
    },
    "new_sheet": false,
    "run_control": {
     "read_only": false
    }
   },
   "outputs": [
    {
     "data": {
      "text/plain": [
       "1980    1666\n",
       "1981    3692\n",
       "1982    3498\n",
       "1983    2860\n",
       "1984    1418\n",
       "Name: Haiti, dtype: object"
      ]
     },
     "execution_count": 53,
     "metadata": {},
     "output_type": "execute_result"
    }
   ],
   "source": [
    "haiti = df_can.loc['Haiti', years] # passing in years 1980 - 2013 to exclude the 'total' column\n",
    "haiti.head()"
   ]
  },
  {
   "cell_type": "markdown",
   "metadata": {
    "button": false,
    "deletable": true,
    "new_sheet": false,
    "run_control": {
     "read_only": false
    }
   },
   "source": [
    "Next, we will plot a line plot by appending `.plot()` to the `haiti` dataframe."
   ]
  },
  {
   "cell_type": "code",
   "execution_count": 52,
   "metadata": {
    "button": false,
    "collapsed": false,
    "deletable": true,
    "jupyter": {
     "outputs_hidden": false
    },
    "new_sheet": false,
    "run_control": {
     "read_only": false
    }
   },
   "outputs": [
    {
     "name": "stderr",
     "output_type": "stream",
     "text": [
      "/home/jupyterlab/conda/envs/python/lib/python3.6/site-packages/pandas/plotting/_matplotlib/core.py:1192: UserWarning: FixedFormatter should only be used together with FixedLocator\n",
      "  ax.set_xticklabels(xticklabels)\n"
     ]
    },
    {
     "data": {
      "text/plain": [
       "<AxesSubplot:>"
      ]
     },
     "execution_count": 52,
     "metadata": {},
     "output_type": "execute_result"
    },
    {
     "data": {
      "image/png": "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\n",
      "text/plain": [
       "<Figure size 432x288 with 1 Axes>"
      ]
     },
     "metadata": {},
     "output_type": "display_data"
    }
   ],
   "source": [
    "haiti.plot()"
   ]
  },
  {
   "cell_type": "markdown",
   "metadata": {
    "button": false,
    "deletable": true,
    "new_sheet": false,
    "run_control": {
     "read_only": false
    }
   },
   "source": [
    "*pandas* automatically populated the x-axis with the index values (years), and the y-axis with the column values (population). However, notice how the years were not displayed because they are of type *string*. Therefore, let's change the type of the index values to *integer* for plotting.\n",
    "\n",
    "Also, let's label the x and y axis using `plt.title()`, `plt.ylabel()`, and `plt.xlabel()` as follows:"
   ]
  },
  {
   "cell_type": "code",
   "execution_count": 54,
   "metadata": {
    "button": false,
    "collapsed": false,
    "deletable": true,
    "jupyter": {
     "outputs_hidden": false
    },
    "new_sheet": false,
    "run_control": {
     "read_only": false
    },
    "scrolled": true
   },
   "outputs": [
    {
     "data": {
      "image/png": "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\n",
      "text/plain": [
       "<Figure size 432x288 with 1 Axes>"
      ]
     },
     "metadata": {},
     "output_type": "display_data"
    }
   ],
   "source": [
    "haiti.index = haiti.index.map(int) # let's change the index values of Haiti to type integer for plotting\n",
    "haiti.plot(kind='line')\n",
    "\n",
    "plt.title('Immigration from Haiti')\n",
    "plt.ylabel('Number of immigrants')\n",
    "plt.xlabel('Years')\n",
    "\n",
    "plt.show() # need this line to show the updates made to the figure"
   ]
  },
  {
   "cell_type": "markdown",
   "metadata": {
    "button": false,
    "deletable": true,
    "new_sheet": false,
    "run_control": {
     "read_only": false
    }
   },
   "source": [
    "We can clearly notice how number of immigrants from Haiti spiked up from 2010 as Canada stepped up its efforts to accept refugees from Haiti. Let's annotate this spike in the plot by using the `plt.text()` method."
   ]
  },
  {
   "cell_type": "code",
   "execution_count": 75,
   "metadata": {
    "button": false,
    "collapsed": false,
    "deletable": true,
    "jupyter": {
     "outputs_hidden": false
    },
    "new_sheet": false,
    "run_control": {
     "read_only": false
    }
   },
   "outputs": [
    {
     "ename": "TypeError",
     "evalue": "'str' object is not callable",
     "output_type": "error",
     "traceback": [
      "\u001b[0;31m---------------------------------------------------------------------------\u001b[0m",
      "\u001b[0;31mTypeError\u001b[0m                                 Traceback (most recent call last)",
      "\u001b[0;32m<ipython-input-75-8eae622e8402>\u001b[0m in \u001b[0;36m<module>\u001b[0;34m\u001b[0m\n\u001b[1;32m      1\u001b[0m \u001b[0mhaiti\u001b[0m\u001b[0;34m.\u001b[0m\u001b[0mplot\u001b[0m\u001b[0;34m(\u001b[0m\u001b[0mkind\u001b[0m\u001b[0;34m=\u001b[0m\u001b[0;34m'line'\u001b[0m\u001b[0;34m)\u001b[0m\u001b[0;34m\u001b[0m\u001b[0;34m\u001b[0m\u001b[0m\n\u001b[1;32m      2\u001b[0m \u001b[0;34m\u001b[0m\u001b[0m\n\u001b[0;32m----> 3\u001b[0;31m \u001b[0mplt\u001b[0m\u001b[0;34m.\u001b[0m\u001b[0mtitle\u001b[0m\u001b[0;34m(\u001b[0m\u001b[0;34m'Immigration from Haiti'\u001b[0m\u001b[0;34m)\u001b[0m\u001b[0;34m\u001b[0m\u001b[0;34m\u001b[0m\u001b[0m\n\u001b[0m\u001b[1;32m      4\u001b[0m \u001b[0mplt\u001b[0m\u001b[0;34m.\u001b[0m\u001b[0mylabel\u001b[0m\u001b[0;34m(\u001b[0m\u001b[0;34m'Number of Immigrants'\u001b[0m\u001b[0;34m)\u001b[0m\u001b[0;34m\u001b[0m\u001b[0;34m\u001b[0m\u001b[0m\n\u001b[1;32m      5\u001b[0m \u001b[0mplt\u001b[0m\u001b[0;34m.\u001b[0m\u001b[0mxlabel\u001b[0m\u001b[0;34m(\u001b[0m\u001b[0;34m'Years'\u001b[0m\u001b[0;34m)\u001b[0m\u001b[0;34m\u001b[0m\u001b[0;34m\u001b[0m\u001b[0m\n",
      "\u001b[0;31mTypeError\u001b[0m: 'str' object is not callable"
     ]
    },
    {
     "data": {
      "image/png": "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\n",
      "text/plain": [
       "<Figure size 432x288 with 1 Axes>"
      ]
     },
     "metadata": {},
     "output_type": "display_data"
    }
   ],
   "source": [
    "haiti.plot(kind='line')\n",
    "\n",
    "plt.title('Immigration from Haiti')\n",
    "plt.ylabel('Number of Immigrants')\n",
    "plt.xlabel('Years')\n",
    "\n",
    "# annotate the 2010 Earthquake. \n",
    "# syntax: plt.text(x, y, label)\n",
    "plt.text(2000, 6000, '2010 Earthquake') # see note below\n",
    "\n",
    "plt.show() "
   ]
  },
  {
   "cell_type": "markdown",
   "metadata": {
    "button": false,
    "deletable": true,
    "new_sheet": false,
    "run_control": {
     "read_only": false
    }
   },
   "source": [
    "With just a few lines of code, you were able to quickly identify and visualize the spike in immigration!\n",
    "\n",
    "Quick note on x and y values in `plt.text(x, y, label)`:\n",
    "    \n",
    "     Since the x-axis (years) is type 'integer', we specified x as a year. The y axis (number of immigrants) is type 'integer', so we can just specify the value y = 6000.\n",
    "    \n",
    "```python\n",
    "    plt.text(2000, 6000, '2010 Earthquake') # years stored as type int\n",
    "```\n",
    "    If the years were stored as type 'string', we would need to specify x as the index position of the year. Eg 20th index is year 2000 since it is the 20th year with a base year of 1980.\n",
    "```python\n",
    "    plt.text(20, 6000, '2010 Earthquake') # years stored as type int\n",
    "```\n",
    "    We will cover advanced annotation methods in later modules."
   ]
  },
  {
   "cell_type": "markdown",
   "metadata": {
    "button": false,
    "deletable": true,
    "new_sheet": false,
    "run_control": {
     "read_only": false
    }
   },
   "source": [
    "We can easily add more countries to line plot to make meaningful comparisons immigration from different countries. \n",
    "\n",
    "**Question:** Let's compare the number of immigrants from India and China from 1980 to 2013.\n"
   ]
  },
  {
   "cell_type": "markdown",
   "metadata": {
    "button": false,
    "deletable": true,
    "new_sheet": false,
    "run_control": {
     "read_only": false
    }
   },
   "source": [
    "Step 1: Get the data set for China and India, and display dataframe."
   ]
  },
  {
   "cell_type": "code",
   "execution_count": 60,
   "metadata": {
    "button": false,
    "collapsed": false,
    "deletable": true,
    "jupyter": {
     "outputs_hidden": false
    },
    "new_sheet": false,
    "run_control": {
     "read_only": false
    },
    "scrolled": true
   },
   "outputs": [
    {
     "data": {
      "text/html": [
       "<div>\n",
       "<style scoped>\n",
       "    .dataframe tbody tr th:only-of-type {\n",
       "        vertical-align: middle;\n",
       "    }\n",
       "\n",
       "    .dataframe tbody tr th {\n",
       "        vertical-align: top;\n",
       "    }\n",
       "\n",
       "    .dataframe thead th {\n",
       "        text-align: right;\n",
       "    }\n",
       "</style>\n",
       "<table border=\"1\" class=\"dataframe\">\n",
       "  <thead>\n",
       "    <tr style=\"text-align: right;\">\n",
       "      <th></th>\n",
       "      <th>1980</th>\n",
       "      <th>1981</th>\n",
       "      <th>1982</th>\n",
       "      <th>1983</th>\n",
       "      <th>1984</th>\n",
       "      <th>1985</th>\n",
       "      <th>1986</th>\n",
       "      <th>1987</th>\n",
       "      <th>1988</th>\n",
       "      <th>1989</th>\n",
       "      <th>...</th>\n",
       "      <th>2004</th>\n",
       "      <th>2005</th>\n",
       "      <th>2006</th>\n",
       "      <th>2007</th>\n",
       "      <th>2008</th>\n",
       "      <th>2009</th>\n",
       "      <th>2010</th>\n",
       "      <th>2011</th>\n",
       "      <th>2012</th>\n",
       "      <th>2013</th>\n",
       "    </tr>\n",
       "  </thead>\n",
       "  <tbody>\n",
       "    <tr>\n",
       "      <th>India</th>\n",
       "      <td>8880</td>\n",
       "      <td>8670</td>\n",
       "      <td>8147</td>\n",
       "      <td>7338</td>\n",
       "      <td>5704</td>\n",
       "      <td>4211</td>\n",
       "      <td>7150</td>\n",
       "      <td>10189</td>\n",
       "      <td>11522</td>\n",
       "      <td>10343</td>\n",
       "      <td>...</td>\n",
       "      <td>28235</td>\n",
       "      <td>36210</td>\n",
       "      <td>33848</td>\n",
       "      <td>28742</td>\n",
       "      <td>28261</td>\n",
       "      <td>29456</td>\n",
       "      <td>34235</td>\n",
       "      <td>27509</td>\n",
       "      <td>30933</td>\n",
       "      <td>33087</td>\n",
       "    </tr>\n",
       "    <tr>\n",
       "      <th>China</th>\n",
       "      <td>5123</td>\n",
       "      <td>6682</td>\n",
       "      <td>3308</td>\n",
       "      <td>1863</td>\n",
       "      <td>1527</td>\n",
       "      <td>1816</td>\n",
       "      <td>1960</td>\n",
       "      <td>2643</td>\n",
       "      <td>2758</td>\n",
       "      <td>4323</td>\n",
       "      <td>...</td>\n",
       "      <td>36619</td>\n",
       "      <td>42584</td>\n",
       "      <td>33518</td>\n",
       "      <td>27642</td>\n",
       "      <td>30037</td>\n",
       "      <td>29622</td>\n",
       "      <td>30391</td>\n",
       "      <td>28502</td>\n",
       "      <td>33024</td>\n",
       "      <td>34129</td>\n",
       "    </tr>\n",
       "  </tbody>\n",
       "</table>\n",
       "<p>2 rows × 34 columns</p>\n",
       "</div>"
      ],
      "text/plain": [
       "       1980  1981  1982  1983  1984  1985  1986   1987   1988   1989  ...  \\\n",
       "India  8880  8670  8147  7338  5704  4211  7150  10189  11522  10343  ...   \n",
       "China  5123  6682  3308  1863  1527  1816  1960   2643   2758   4323  ...   \n",
       "\n",
       "        2004   2005   2006   2007   2008   2009   2010   2011   2012   2013  \n",
       "India  28235  36210  33848  28742  28261  29456  34235  27509  30933  33087  \n",
       "China  36619  42584  33518  27642  30037  29622  30391  28502  33024  34129  \n",
       "\n",
       "[2 rows x 34 columns]"
      ]
     },
     "execution_count": 60,
     "metadata": {},
     "output_type": "execute_result"
    }
   ],
   "source": [
    "### type your answer here\n",
    "df_ic = df_can.loc[['India', 'China'], years]\n",
    "df_ic.head()\n",
    "\n"
   ]
  },
  {
   "cell_type": "markdown",
   "metadata": {
    "button": false,
    "deletable": true,
    "new_sheet": false,
    "run_control": {
     "read_only": false
    }
   },
   "source": [
    "Double-click __here__ for the solution.\n",
    "<!-- The correct answer is:\n",
    "df_CI = df_can.loc[['India', 'China'], years]\n",
    "df_CI.head()\n",
    "-->"
   ]
  },
  {
   "cell_type": "markdown",
   "metadata": {
    "button": false,
    "deletable": true,
    "new_sheet": false,
    "run_control": {
     "read_only": false
    }
   },
   "source": [
    "Step 2: Plot graph. We will explicitly specify line plot by passing in `kind` parameter to `plot()`."
   ]
  },
  {
   "cell_type": "code",
   "execution_count": 62,
   "metadata": {
    "button": false,
    "collapsed": false,
    "deletable": true,
    "jupyter": {
     "outputs_hidden": false
    },
    "new_sheet": false,
    "run_control": {
     "read_only": false
    },
    "scrolled": true
   },
   "outputs": [
    {
     "name": "stderr",
     "output_type": "stream",
     "text": [
      "/home/jupyterlab/conda/envs/python/lib/python3.6/site-packages/pandas/plotting/_matplotlib/core.py:1192: UserWarning: FixedFormatter should only be used together with FixedLocator\n",
      "  ax.set_xticklabels(xticklabels)\n"
     ]
    },
    {
     "data": {
      "text/plain": [
       "<AxesSubplot:>"
      ]
     },
     "execution_count": 62,
     "metadata": {},
     "output_type": "execute_result"
    },
    {
     "data": {
      "image/png": "iVBORw0KGgoAAAANSUhEUgAAAYQAAAIlCAYAAADVFY8FAAAAOXRFWHRTb2Z0d2FyZQBNYXRwbG90bGliIHZlcnNpb24zLjMuMCwgaHR0cHM6Ly9tYXRwbG90bGliLm9yZy86wFpkAAAACXBIWXMAAAsTAAALEwEAmpwYAAC9rklEQVR4nOz9eZwkRZ3/jz8jjzq6qvqa7ukZZgaGgQEBEQYG5ZxhOBVBQJHbn6JyKCiX65cVVBAV5eMui4LiRxd33Y8LAnKoq+JyI3iAi4iuitxz9kxPX1XVdeQRvz8y6+prunuqu4eu95NHkpmRkVkZNdXvV8Q7It6htNYaQRAEoeExZvsFBEEQhB0DEQRBEAQBEEEQBEEQQkQQBEEQBEAEQRAEQQgRQRAEQRAAsGb7BQRhutBas2XLFhzHme1XmRFs26azsxOl1Gy/ivAmRck8BGGusnnzZlzXxbbt2X6VGcFxHCzLYv78+bP9KsKbFHEZCXMWx3EaRgwgaCE0SmtImB5EEARBEARABEEQppVLL72Uvffem1WrVpXT/vSnP/Gud72L1atXc+6555JOp4GgRXPJJZewevVqDjvsMG6++ebyPc8//zyrV6/m7W9/O5/5zGcQT68wHYggCMI0cuaZZ3LnnXfWpF1xxRV89rOf5fHHH+eEE07g1ltvBeDHP/4xxWKRxx9/nP/+7//m+9//Pm+88QYAn/70p/na177Gb3/7W1555RUeeeSRGS+LMPcRQRCEaeSQQw6htbW1Ju2ll17ikEMOAWD16tX89Kc/BUApxdDQEK7rks/nsW2bVCpFd3c36XSagw46CKUUp59+Oj/72c9muihCAyDDToWGwPnBbfhvvFLXZxo7L8M+56JJ3/eWt7yFX/ziF7zrXe/ixz/+MevXrwfgpJNO4he/+AX77rsvuVyOL3zhC7S1tfGHP/yBhQsXlu/faaed2LRpU93KIQglpIUgCDPMzTffzO23384xxxxDJpMhEokA8D//8z8YhsEf//hHnnnmGb71rW/x2muvjdpfIHMNhOlAWghCQzCVmvx0sXz5cu6++24AXn75ZR566CEA7r33Xo466qjyBLO3v/3tPP/88xx88MFs3LixfP+GDRvo6uqalXcX5jbSQhCEGWbLli0A+L7PP//zP/PBD34QgEWLFvGrX/0KrTXZbJbf//737L777nR1dZFMJnn22WfRWnPXXXfxrne9azaLIMxRpIUgCNPIhRdeyFNPPUVvby/77bcfn/70p8lms9x+++0AvPvd7+ass84C4MMf/jCXXnopq1atQmvNmWeeyT777APAjTfeyCc/+UlyuRxHH300Rx999KyVSZi7SOgKYc6yfv36sn++USgWiyxatGi2X0N4kyIuI0EQBAEQQRAEQRBCRBAEQRAEQARBEARBCBFBEARBEAARBEEQBCFEBEEQppF6hb/+8pe/zP7778/SpUtnughCAyGCIAjTSL3CXx933HE8+OCDM/7+QmMhgiAI00g9wl8DrFy5UuIXCdOOhK4QGoJv/3YDr/Tm6/rMZe0xLnzHTpO+b7LhrwVhppAWgiDMMJMNfy0IM4W0EISGYCo1+elisuGvpSNZmCmkhSAIM8xkw18LwkwhgiAI08iFF17ICSecwEsvvcR+++3HD37wA+677z4OPvhgDj30UBYsWFAT/jqbzbJq1SqOP/74mvDX1113Hfvttx+5XI799tuPG2+8cTaLJcxRJPy1MGeR8NeCMDmkhSAIgiAAIgiCIAhCiAiCIAiCAIggCIIgCCEiCIIgCAIggiAIgiCEiCAIwjRSj/DXQ0NDnH322Rx66KEcccQRXH/99bNSFmHuI4IgCNNIvcJff/zjH+fpp5/m4Ycf5ne/+x0PP/zwjJdFmPuIIAjCNFKP8NdNTU0cfvjhAEQiEd72trexYcOGGS2H0BhIcDuhIXj+2QwDvW5dn9nSbrHfyuSk79ue8NcDAwM8+OCDnH/++XUpgyBUIy0EQZhhphr+2nVdLrzwQs4//3yJgCpMC9JCEBqCqdTkp4uphr++8sorWbZsGRdeeOFsvbowx5EWgiDMMFMJf33DDTcwODjIF7/4xVl7b2HuI9FOhTnLjhDt9MILL+Spp56it7eXzs5OPv3pT5PNZrn99tsBePe7380111yDUopMJsOll17Kiy++iNaaM888k0suuYQNGzaw//77s3z58nJ5PvKRj3DuueeO+DyJdipsDyIIwpxlRxCEmUYEQdgexGUkCIIgACIIgiAIQogIgiAIggCIIAiCIAghIgiCIAgCIIIgCIIghIggCMI0Uo/w1wBnnHEGRx55JEcccQSf+tSn8DxvxssizH1EEARhGqlX+Ovvfve7PPbYYzzxxBNs3bqVH//4xzNeFmHuI4IgCNNIPcJfA+W967o4joNSauYKITQMEtxOaAgeffRRNm/eXNdnzp8/nzVr1kz6vqmGvz799NN57rnnOProoznppJPqVg5BKCEtBEGYYaYa/vquu+7ihRdeoFAo8OSTT87S2wtzGWkhCA3BVGry08VUw18DxGIxjj/+eH7xi19w5JFHzsLbC3MZaSEIwgwz2fDXmUyG7u5uIOhDePjhh1m+fPmsvb8wd5EWgiBMI9Xhr/fbb79Rw1+fddZZAHz4wx/m0ksvZdWqVeXw1/vssw+bN2/mAx/4AIVCAd/3Ofzww8siIgj1RMJfC3MWCX8tCJNDXEaCIAgCIIIgCIIghIggCIIgCIAIgiAIghAigiAIgiAAIgiCIAhCiAiCIEwj9Qp/XeIDH/hAzbMEoZ6IIAjCNFKv8NcAP/3pT0kkEjP6/kJjIYIgCNNIvcJfZzIZbrvtNi6//PIZfX+hsZDQFUJDEN/0AGZhfV2f6UUXkVtw8qTvm0r4669+9at87GMfIx6P17UMglCNtBAEYYaZbPjrF154gVdffZV3v/vds/zmwlxHWghCQzCVmvx0Mdnw1729vTz//PMceOCBuK5LT08Pp5xyCvfff/8slkKYi0gLQRBmmMmGvz7vvPN44YUX+P3vf89PfvITdtttNxEDYVqQFoIgTCP1CH8tCDOFhL8W5iwS/loQJoe4jARBEARABEEQBEEIEUEQBEEQABEEQRAEIUQEQRAEQQBEEARBEIQQEQRBmEbqFf76lFNO4ZBDDmHNmjWsWbOmPLlNEOqJCIIgTCP1DH/9rW99i0cffZRHH32Uzs7OGS2H0BiIIAjCNFKv8NeCMBNI6AqhIXh23b/Tm3utrs9sjy9l5eIPTvq+qYS/hsD9ZBgGJ554IldccQVKqbqVRRBAWgiCMONMNvw1BO6ixx9/nJ/85Cf85je/4a677prFEghzFWkhCA3BVGry08Vkw18vXbqUhQsXApBMJnnf+97Hc889xxlnnDFrZRDmJtJCEIQZZrLhr13XZevWrUAwEumXv/wlb3nLW2bt/YW5i7QQBGEaqUf462w2yxlnnIHjOPi+z6pVq/jABz4wm8US5igS/lqYs0j4a0GYHOIyEgRBEAARBEEQBCFEBEEQBEEARBAEQRCEEBEEQRAEARBBEARBEEJEEARhGqlX+OtisciVV17JwQcfzKGHHspPfvKTGS+LMPcRQRCEaaRe4a9vuukmOjo6+M1vfsOvfvUrDj300BkvizD3EUEQhGmkXuGv77jjDj75yU8CYBgG8+bNm7lCCA2DhK4QGoLEG2uxhnJ1fabbFCe785JJ3zfZ8NcDAwMAfOUrX+Hpp59m6dKl3HDDDcyfP7+u5REEaSEIwgwz2fDXruuyYcMG3v72t/Pwww+zcuVKrr322tkthDAnkRaC0BBMpSY/XUw2/PV73vMempqaePe73w3Ae97zHv7zP/9z1t5fmLtIC0EQZpjJhr9WSnHcccfx1FNPAfDkk0+yxx57zNr7C3MXiXYqzFl2hGin1eGvOzs7Rw1/fc0116CUIpPJcOmll/Liiy+Ww19fcsklAKxdu5aLL76YgYEBOjo6uPnmm1m8ePGIz5Nop8L2IIIgzFl2BEGYaUQQhO1BXEaCIAgCIIIgCIIghIggCIIgCIAIgiAIghAigiAIgiAAIgiCIAhCiAiCIEwj9Qh/nclkWLNmTXl7y1vewjXXXDMr5RHmNiIIgjCN1CP8dTKZ5NFHHy1vixcvLoexEIR6IoIgCNNIvcJfl3jllVfo6enh4IMPnpH3FxoLCW4nNATOD27Df+OVuj7T2HkZ9jkXTfq+yYa/rubee+/l5JNPRilVlzIIQjXSQhCEGWay4a+ruf/++3nve987C28tNALSQhAagqnU5KeLyYa/Xrp0KRB0Rruuy3777Tdbry7McaSFIAgzzGTDX5e47777OPXUU2flnYXGQFoIgjCNVIe/3m+//UYNf33WWWcB8OEPf5hLL72UVatWlcNf77PPPuVnPfDAA9xxxx2zUg6hMZDw18KcRcJfC8LkEJeRIAiCAIggCIIgCCEiCIIgCAIggiAIgiCEiCAIgiAIgAiCIAiCECKCIAjTSD3CX0Mwi3n16tWsXr2aM844g61bt854WYS5jwiCIEwj9Qh/7bou11xzDffeey+PP/44e++9N//6r/86G8UR5jgiCIIwjdQj/LXWGq01Q0NDaK1Jp9MsWLBgposiNAASukJoCL792w280puv6zOXtce48B07Tfq+qYS/vvHGG1m9ejVNTU0sW7aMr371q3UtiyCAtBAEYcaZbPhrx3H4t3/7Nx5++GFeeOEF9t5775r+BUGoF9JCEBqCqdTkp4vJhr/u6+sDYNdddwXg5JNP5utf//rsvLwwp5EWgiDMMJMNf71w4UL+9re/0dPTA8Djjz/O8uXLZ+39hbmLtBAEYRqpV/jrT33qU5x88slYlsWSJUukhSBMCxL+WpizSPhrQZgc4jISBEEQABEEQRAEIUQEQRAEQQBEEARBEIQQEQRBEAQBEEEQBEEQQkQQBGEaqVf46/vvv5/Vq1dzxBFHcN111814OYTGQARBEKaReoS/7u3t5brrruNHP/oRTz75JFu2bOGJJ56YjeIIcxwRBEGYRuoR/vr1119n2bJldHR0ALBq1aryPYJQTyR0hdAQPP9shoFet67PbGm32G9lctL3TTb8tVKKl156iTfeeIOddtqJn//85ziOU9eyCAJIC0EQZpzJhr9ubW3lxhtv5IILLuCkk05iyZIlmKY5y6UQ5iLSQhAagqnU5KeLyYa/Xrp0KccffzzHH388AN///vdFEIRpQVoIgjDDTDb8dfU9/f39fO973+Pcc8+dnZcX5jTSQhCEaaRe4a+vueYa/vznPwNw5ZVXsttuu81OgYQ5jYS/FuYsEv5aECaHuIwEQRAEQARBEARBCBFBEARBEAARBEEQBCFEBEEQBEEARBAEQRCEEBEEQZhGJhP+ulgs8slPfpLVq1dz5JFH8tRTT5Xvef7551m9ejVvf/vb+cxnPoOMFhemAxEEQZhGJhP++j/+4z8AePzxx7n77rv5/Oc/j+/7AHz605/ma1/7Gr/97W955ZVXeOSRR2a2IEJDIIIgCNPIZMJfv/jiixxxxBEAdHZ20tLSwh/+8Ae6u7tJp9McdNBBKKU4/fTT+dnPfjaj5RAaAwldITQEjz76KJs3b67rM+fPn8+aNWsmfd9Y4a/32WcffvGLX3Dqqaeyfv16nn/+edavX49hGCxcuLB8/0477cSmTZvqVg5BKCEtBEGYYcYKf3322Wez0047ceyxx/LZz36Wgw46CMuyRu0vUErN9GsLDYC0EISGYCo1+elirPDXlmVx/fXXl/OdcMIJLFu2jNbWVjZu3FhO37BhA11dXTP70kJDIC0EQZhhxgp/PTQ0RDabBeCxxx7Dsiz23HNPurq6SCaTPPvss2itueuuu3jXu941a+8vzF2khSAI08hkwl/39PRwxhlnYBgGCxYsKI8+Arjxxhv55Cc/SS6X4+ijj+boo4+elfIIcxsJfy3MWST8tSBMDnEZCYIgCIAIgiAIghAigiAIgiAAIgiCIAhCiAiCIAiCAIggCIIgCCEiCIIwjdQr/PWXv/xl9t9/f5YuXTrTRRAaCBEEQZhG6hX++rjjjuPBBx+c2ZcXGg4RBEGYRuoR/hpg5cqVEr9ImHYkdIXQEMQ3PYBZWF/XZ3rRReQWnDzp+yYb/vqAAw6o63sLwlhIC0EQZpjJhr8WhJlCfm1CQzCVmvx0Mdnw14IwU0gLQRBmmMmGvxaEmUJaCIIwjdQr/PV1113HvffeSy6XY7/99uOcc87h05/+9KyUSZi7SPhrYc4i4a8FYXKIy0gQBEEARBAEQRCEEBEEQRAEARBBEARBEEJEEARBEARABEEQBEEIEUEQhGmkHuGvh4aGOPvsszn00EM54ogjamYzC0I9EUEQhGmkXuGvP/7xj/P000/z8MMP87vf/Y6HH354ZgsiNAQiCIIwjdQj/HVTUxOHH344AJFIhLe97W1s2LBh5gohNAwSukJoCJ5d9+/05l6r6zPb40tZufiDk75ve8JfDwwM8OCDD3L++efXrRyCUEJaCIIww0w1/LXrulx44YWcf/75spSmMC1IC0FoCKZSk58uphr++sorr2TZsmVceOGFM/vCQsMgLQRBmGGmEv76hhtuYHBwkC9+8Yuz89JCQyDRToU5y44Q7bQ6/HVnZ+eo4a+vueYalFK88cYbNeGv/+Vf/oUlS5awYcMG9t9/f5YvX14uz0c+8hHOPffcEZ8n0U6F7UEEQZiz7AiCMNOIIAjbg7iMBEEQBEAEQRAEQQgRQRAEQRAAEQRBEAQhRARBEARBAEQQBEEQhBARBEGYRuoR/hrgjDPO4Mgjj+SII47gU5/6FJ7nzXhZhLmPCIIgTCP1Cn/93e9+l8cee4wnnniCrVu38uMf/3hmCyI0BCIIgjCN1CP8NUAqlQKCAHeO46CUmpkCCA2FBLcTGoLEG2uxhnJ1fabbFCe785JJ3zfV8Nenn346zz33HEcffTQnnXRSXcsiCCAtBEGYcaYa/vquu+7ihRdeoFAo8OSTT87W6wtzGGkhCA3BVGry08VUw18DxGIxjj/+eH7xi19w5JFHztg7C42BtBAEYYaZbPjrTCZDd3c3EPQhPPzwwyxfvnx2Xl6Y00gLQRCmkerw1/vtt9+o4a/POussAHp6emrCX5dGHw0NDfGBD3yAQqGA7/scfvjhZRERhHoi4a+FOYuEvxaEySEuI0EQBAEQQRAEQRBCRBAEQRAEQARBEARBCBFBEARBEAARBEEQBCFEBEEQppF6hb8u8YEPfKDmWYJQT0QQBGEaqVf4a4Cf/vSnJBKJmXt5oeEQQRCEaaRe4a8zmQy33XYbl19++Yy9u9B4SOgKoSFwfnAb/huv1PWZxs7LsM+5aNL3TSX89Ve/+lU+9rGPEY/H61oGQahGWgiCMMNMNvz1Cy+8wKuvvsq73/3uWX5zYa4jLQShIZhKTX66mGz466effprnn3+eAw88ENd16enp4ZRTTuH++++fjdcX5jAiCIIww2zZsoXOzs5Rw19rrUkkEjXhr/fcc0/OO+88AN544w3OPfdcEQNhWhBBEIRppB7hrwVhppDw18KcRcJfC8LkkE5lQRAEARBBEARBEEJEEARBEARABEEQBEEIEUEQBEEQABEEQRAEIUQEQRCmkXqFvz7llFM45JBDWLNmDWvWrGHLli0zXhZh7iOCIAjTSD3DX3/rW9/i0Ucf5dFHH6Wzs3PmCiE0DCIIgjCN1Cv8tSDMBBK6QmgIvv3bDbzSm6/rM5e1x7jwHTtN+r6phL+GwP1kGAYnnngiV1xxBUqpupZHEKSFIAgzzGTDX0PgLnr88cf5yU9+wm9+8xvuuuuu2SyCMEeRFoLQEEylJj9dTDb8NcDChQsBSCaTvO997+O5557jjDPOmOE3F+Y60kIQhBmmNEJotPDX2WwWoCb8teu6bN26FQDHcfjlL3/JW97yltl5eWFOIy0EQZhG6hH+ulAocMYZZ+A4Dr7vs2rVKj7wgQ/MWpmEuYuEvxbmLBL+WhAmh7iMBEEQBEAEQRAEQQgRQRAEQRAAEQRBEAQhRARBEARBAEQQBEEQhBARBEGYRuoV/rpYLHLllVdy8MEHc+ihh/KTn/xkxssizH1EEARhGqlX+OubbrqJjo4OfvOb3/CrX/2KQw89dGYLIjQEIgiCMI3UK/z1HXfcwSc/+UkADMNg3rx5M1MAoaGQ0BVCQ/D8sxkGet26PrOl3WK/lclJ3zfZ8Ne77bYbAF/5yld4+umnWbp0KTfccAPz58+va3kEQVoIgjDDTDb8teu6bNiwgbe//e08/PDDrFy5kmuvvXZ2CyHMSaSFIDQEU6nJTxeTDX/d3t5OU1MT7373uwF4z3vew3/+53/O/IsLcx5pIQjCDDPZ8NdKKY477rjyqKMnn3ySPfbYY3ZeXpjTSLRTYc6yI0Q7rQ5/3dnZOWr462uuuQalFG+88UZN+Ot/+Zd/YcmSJQCsXbuWiy++mIGBATo6Orj55ptZvHjxiM+TaKfC9iCCIMxZdgRBmGlEEITtQVxGgiAIAiCCIAiCIISIIAiCIAiACIIgCIIQIoIgCIIgACIIgiAIQogIgiBMI/UIf53JZFizZk15e8tb3sI111wzK+UR5jYiCIIwjdQj/HUymeTRRx8tb4sXLy6HsRCEeiKCIAjTSL3CX5d45ZVX6Onp4eCDD572dxcaDwluJzQEjz76KJs3b67rM+fPn8+aNWsmfd9kw18fcMAB5XvvvfdeTj75ZJRSdSuHIJSQFoIgzDCTDX9dzf3338973/ve2XhtoQGQFoLQEEylJj9dTDb8dYk//elPuK7LfvvtN7MvLDQM0kIQhBlmsuGvS9x3332ceuqpM//CQsMgLQRBmEaqw1/vt99+o4a/PuusswDo6empCX9dGn1U4oEHHuCOO+6Y8TIIjYOEvxbmLBL+WhAmh7iMBEEQBEAEQRAEQQgRQRAEQRAAEQRBEAQhRARBEARBAEQQBEEQhBARBEGYRuoR/hqCGEarV69m9erVnHHGGWzdunXGyyLMfUQQBGEaqUf4a9d1ueaaa7j33nt5/PHH2XvvvfnXf/3XGS+LMPcRQRCEaaQe4a+11mitGRoaQmtNOp1mwYIFM1oOoTGQ0BVCQxDf9ABmYX1dn+lFF5FbcPKk75tK+Osbb7yR1atX09TUxLJly/jqV79a17IIAkgLQRBmnMmGv3Ych3/7t3/j4Ycf5oUXXmDvvffm5ptvnuVSCHMRaSEIDcFUavLTxWTDX//pT38CYNdddwXg5JNP5utf//oMv7XQCEgLQRBmmMmGv164cCF/+9vf6OnpAYJO5+XLl8/OywtzGmkhCMI0Uo/w1wsWLOBTn/oUJ598MpZlsWTJEmkhCNOChL8W5iwS/loQJoe4jARBEARABEEQBEEIEUEQBEEQABEEQRAEIUQEQRAEQQBEEARBEIQQEQRBmEbqFf76/vvvZ/Xq1RxxxBFcd911M14OoTEQQRCEaaQe4a97e3u57rrr+NGPfsSTTz7Jli1beOKJJ2a8LMLcRwRBEKaReoS/fv3111m2bBkdHR0ArFq1qnyPINQTCV0hNATPrvt3enOv1fWZ7fGlrFz8wUnfN9nw10cccQQvvfQSb7zxBjvttBM///nPcRynrmURBJAWgiDMOJMNf93a2sqNN97IBRdcwEknncSSJUswTXOWSyHMRaSFIDQEU6nJTxeTDX8NcPzxx3P88ccD8P3vf18EQZgWpIUgCDPMZMNfV9/T39/P9773Pc4999xZeHNhriMtBEGYRuoR/hrgmmuu4c9//jMAV155JbvtttvMF0aY80j4a2HOIuGvBWFyiMtIEARBAEQQBEEQhBARBEEQBAF4k/chbNiwYUr3dXR0lBcsbxQascye5zXc8MxGLHMj/ra3p8w77bTTmNekhSAIgiAAIgiCIAhCiAiCIEwT69ev57TTTmP16tWsWbOG7373uwD09fVx5plncthhh3HmmWfS399fvucb3/gGhx12GEcccQSPPfZYOf2Pf/wjRx99NIcddhif/exneRN7eoUdGBEEQZgmLMvi85//PI8//jg/+clP+Ld/+zdefPFFbr31Vg4//HCeeuopDj/88PIEtBdffJEHHniARx55hB/84Ad85jOfwfM8AP7xH/+Rr371q/zqV7/i1Vdf5dFHH53NoglzFBEEQZgmurq62HfffQFIJpMsX76cTZs28eCDD/L+978fgPe///384he/AODBBx/k5JNPJhqNsvPOO7N06VKee+45uru7SafTrFy5EqUUp512WvkeQagnErpCaAia123AzuXr+kwnHmNw8dgjNqpZu3Ytf/rTn1ixYgU9PT10dXUBgWhs3boVgE2bNnHAAQeU71m4cCGbNm3Ctm0WLlw4Il0Q6o20EARhmslms5x//vlcd911pFKpMfON1i+glBozXRDqjbQQhIZgojX5euM4Dueffz6nnnoqJ5xwAhCMIe/u7qarq4vu7m7mzZsHBDX/6rk1GzdupKuri4ULF7Jx48YR6UIDoH0ML4vhDmJ4gxhuGsMbhNjBQLLuHyeCIAjThNaaK6+8kt13350LL7ywnH7cccdx9913c8kll3D33XeX1zk47rjjuPjii7ngggvo7u7m1VdfZcWKFZimSTKZ5Pe//z0HHHAA99xzD+edd95sFUuoB9pHeUOYVUbecINjs+rY8DIo/BG3+y0LwHxr3V9LBEEQpolnnnmGH/3oR+y1114ce+yxAFx11VVcfPHFXHTRRdxxxx0sWrSIb3/72wDsueeenHTSSaxZswbTNPnSl75UnnV8ww03cPnll5PP51mzZg1HHXXUrJVLGAetUf4QhjuIWTb0wd50q41/enRDbyTwrBS+1YwbWYBvNeNbKTyzOTg2U/hWio7OLpiG2dkSuqJBaMQyN2IYh0Ys84z8trVG+bkxjPsgppcu1+oV3ojbfSNeNuieVW3cm4Pz0NCjJlZHn67QFdJCEAShcdEa5ecxQoNuuoPl4+FpSrsjbveNGL4Z1OKL8V3LxzXG30yBYc9C4SaPCIIgCHMS5RfCWvtgWKuvNfSlNKWdEff6RrRs3J3YLmGtPlVj8D0zBcbcWoBJBEEQhDcXfjGstQfGnqJPcnBTjfE33DSGLo68VUXKht2NLqGYCAx7pVYfGHxtRGehYLOPCIIgCDsGfrHGF18y7OawIZeGXxhxa1zZQWes2YwbXYTfVPLPl2r1wdaohn6iiCAIgjC9+A6Gl671z4/WOeuPnEmulVX2xbvRBfjm8hGds23zl9LTlwWZrLfdiCAIgjA1tBsa89DYj9IRa7iDGH5u5K2YZTeNG+nEt3Yru2u8GtdNfNuG3moCNTRNhWwsJiwIvu9z1VVX0d7ezlVXXUUmk+Gmm25iy5YtdHZ2cvnll5NMBjPn7rvvPh555BEMw+C8885j//33B+CVV17h1ltvpVgssmLFCs477zyUUjiOwy233MIrr7xCKpXisssuY/78+dNSYEGYKdavX8+ll17Kli1bMAyDc845h49+9KP09fXxsY99jLVr17JkyRJuu+02WltbgSD89Z133olhGFx//fUceeSRAHzlK1/hnnvuYWBggL///e/T++LaKxv6YEhlWIuvMfhpDD878laMso/es+fVjrwxm8tj7LXRJDX6HZAJC8LPfvYzFi1aRC4XqP3999/PvvvuyymnnML999/P/fffz7nnnsu6det4+umn+ed//mf6+vq4/vrrufnmmzEMg+985ztceOGFLF++nBtuuIE//OEPrFixgkceeYREIsE3vvENnnrqKX7wgx9w+eWXT1uhBWEmKIW/3nfffclkMrzzne9k1apV3HXXXRx++OFccskl3HLLLdx6661cffXVNeGvu7u7OfPMM3nyyScxTZNjjz2W8847j8MPP3zqL6S9EWEQat04wXh65WVR1E5P0hj4ZjIw7HYbTmyXmuGVwaibZrTZBEpCpL1ZmZAgbN26lf/5n//hve99Lz/96U+BYBbmtddeC8Dq1au59tprOffcc3nmmWc49NBDsW2b+fPns2DBAl566SU6OzvJ5XLsscceAKxatYpnnnmGFStW8Oyzz5bDAR988MHcfvvtaK0lgJfwpqarq6scc2h4+Ot77rkHCMJfn3baaVx99dVjhr9euXIlBx544NgfpDXgg/agMEDMeXXYePrqMAjDDb2qGHqrBTe2pKojtqpD1kyIoW8AJiQI//Zv/8a5555bbh0ADAwM0NbWBkBbWxuDg4MA9Pb2snz58nK+9vZ2ent7MU2zHMQLYN68efT29pbvKV0zTZOmpibS6TTNzc3bWTxBCPDv/A567at1faZasivGmedPKO+Uwl8vWMCmjRvAL6K0BzoIdWA4fcF5KAJK+xAaem/wNZoz/wWAbybDIZXhyJtyR+xwQ99YM5uFsdmmIPz+97+npaWFZcuW8ec//3mbDxwrEsZ4ETImGt73oYce4qGHHgICn2pHR8c232c0LMua8r1vVhqxzJs3b8aygp+4axj4dW5xGoZRfv54ZLNZLrjgAr74xS+WK1GWqcD3glo9GsvPoPwCppfBKm4JDL0/hOX1YxU3Vz1NB6NxlBlsRgSM8FhZ0JbCX74K7GYwLExgrpv7RvxtT1eZt/lr/tvf/sazzz7Lc889R7FYJJfL8fWvf52Wlhb6+vpoa2ujr6+vXJufN29eucYDQe2/vb19RPrWrVtpb2+vuWfevHl4nsfQ0FC5g7qaY445hmOOOaZ8PtVYHo0Y16cRy6y1xnXDcAOnf2RaFv8oPz/4QIJaux/W4D3cYoHzzruQU086jhPWrEBn19I5r5XuV5+ja34H3Zt76GhvhWI/C+e3sX79BjQKbUTY0N1L58Jd8ex5aGUQmHaFG1046rsAYJn0pH2gfxpKu2PSiL/t6YpltM2/kbPPPpvbbruNW2+9lcsuu4y3vvWtfPKTn2TlypU8/vjjADz++OMcdNBBAKxcuZKnn34ax3HYvHkzGzduZPfdd6etrY14PM6LL76I1ponnniClStXAnDggQeWFxT/zW9+wz777CP9B8KOg9aBu8Z3UF4e5WUDn7zTj1HcilncjFnYhFXYgFXYiFXsxnR6MIq9XPmpT7PHbjvzsY+cDSi0EeW4Y4/mjvsfwbPbueOBxzju+HfhRnfimBNO477/epghneK1jRlefW0t+688FG3GwYiCIaPEhellyr+wU045hZtuuolHHnmEjo4OrrjiCgCWLFnCIYccwhVXXIFhGHzkIx/BMALd+ehHP8o3v/lNisUi+++/PytWrADgqKOO4pZbbuETn/gEyWSSyy67bPtLJgjbQmtAh374wCcf+OqD2r3SftW1UVyeykBjgDLRRgSNGdTkQ3fOb3/3P9x9/8/Za6+9OOrEc4Eg/PXHP3FFEP76hz+qhL9Wxrjhr7/4xS9y3333kcvlOPDAAzn77LO58sorZ+qbEhoECX/dIDRamZVfwHUcLNsODPwoRn9MQ49Ch0Zdq8ALX23oSyKwI466kfDXjYGEvxYEmFi8G3cQQxfYmHw3ZuvSqpurDL1ho4mVz8GoHO+Ahl4QZgIRBGHHoJ7xbpqCeDdEdsezW6uMvpLZsYIwDiIIwvRSindTvarUlOLdzB8j3k0z2oiNbug9D91g7hNB2B5EEISpUY53U70weO3CI8YE4t24dgf+iHg3pcBmEu9GEGYSEQShFu1heJmqmny6ZjGSwPhvK95NM57dRrEm3k1zeZUpiXcjCDsmIgiNgva3vfDINuPdNI8S76YS3Ezi3QjCmxsRhDc72kd5Q6HLZlhHbFXnrHopTceohj5RNugS76a+1Cv8dS6X44ILLuD1118vRz79zGc+M7uFE+YkIgg7Klqj/KGRna8jFiNJo/BH3O4biXLseTeykFhzF+miVQ52Fhj6pBj6aaRe4a8BLrroIg477DCKxSJnnHEGjzzyCEcdddQsl1CYa4ggzDRao/zcsIVH0mUfvVlj6L0Rt/tGvBx73o10hTX50vqxJV99Mgh0VkW0o4Ncg03emW3qGf76sMMOAyASibDvvvuycePGWSuXMHcRQagXWqP8/JgLj1SPsVfaHXG7b8TKna/FSEdl1E1o/Ms1esOehcK9+fnus9282jdyDsP2sGtbjI+u7JpQ3imFv164kE2bNtU8Z2BggP/+7//mIx/5SJ1KIQgVRBC2hdYoXRjmnx++8EiQprQz4nbfiJZ98U58l9C4V/zzXtgpK4Z+7pLNZjn//PO57rrrSKVSY+bbVhh413W5+OKL+fCHP8wuu+wyLe8q7DhorclkMgwMDDA4OMjg4CADAwMMDAxw5JFHTssyww0tCMov1EyUqoynHzbyRhdH3OurSNkX70aXUEw0D/PPB52zGJFZKJkwnInW5OuN4zicf/75nHrqqZxwwglAEIemu7ubrq4uuru7y4tDLVy4sCY+18aNG8stCYBPf/rT7Lrrrpx//sQW5RF2fAqFQsXQ92xhcOtWBgYHGMxkGcwX8IdVEiIqhmWmWP/M35j/bhGE7SY2+Cxq3VN0FPowdGHEda3scq3djS7CbyqNummuceNoIzoLby+8mdBac+WVV7L77rtz4YUXltOPO+447r77bi655BLuvvtujj/++HL6xRdfzAUXXEB3dzevvvpqOSLwV7/6VdLpNF/72tdmpSzC5NC+D9kMfrqfzJZuBnu2MjDQz0Amw+BQnkHHZcCH/LBh2qZWRFUc02olFZ+HZaawzSSWmSKhfZI6Q8LI8pbdFk3LezdctNNI5n9pKf4vOS9a47IpGXxtROfk7NhGjAg525E/f/e733Hqqaey1157lV0/V111FStWrOCiiy5i/fr15fDXpZXUbr75Zn74wx9imibXXXcdRx11FBs2bOCggw5i9913JxIJWpznnXceZ5999ojPnO0yzwYz8dvWngfZQUgPQnoAnR6EzACkBygMDDCQTjOQyzNYdBj0NYPKYsCOkYnE8KuMvtKaKBYRM4Fpt6KseVhWCstMYZlJopZJMuqSSCgSLRaJ9jjJ1gjJlIllV+zSdEU7bThBgMY0jo1Y5kY0jo1Y5qn8trXrQiY06oMD6PRAcJ4egPQgOjT2pAfxMoNkig6DdpzBSLANRCrHBau2/y+iDGJWE7aVwrBaQLVgGs1YVhLLSGBZBomUQSJlkkwZJJJmeG4QiagJLQ4m4a8FQRDGQDtOYMAzoUFPlwx6YOgr56EIDFVibGmgYNoMRmIMRBIMploYjKcYjMxjsHMB6U6jZkqnoRTxWIJYtJk2uxmDJNpLoAjcO4YRQRmQSAwz/KHxj8UnZvSDl9MYrovpuJiOg1F0MB0HZU/PIBQRBEEQdjh0oVB2yZQNfGjsSfcHLpvQ2G/ODKJzQ6M/yDAg2YyXaiGdamdw8XwGI00MWhEGtGLQ8xksFCm6tXN+YtE4TU0pEpEULWYSpZNoLwl+AtNoQikDFDQ1lQy9QTJVqenHmwwMYxtGv2zsHczQ0Fcb/WBzUcOcOFopvHntEK3/gBURBEEQphWtNRTylRr7MJcM6QF02V0TbsWRAz4AMC1INUOyBVLNqM6FxOd3MWTa5JsSDJpRBjEZ8HwGiw4D2SEGBwfJZDLBeziA42KammSymaZUioXtgf8encR3EvhOAqNqGHgsokikzNDoBzX+RMqgKWFgmmMYfa1rDXuNka+q6Q+/TSk828azbYqJRHhs4ds2XiRI9y2Ljs5OmAYXsAiCIAiTQmsNuaHRa+yhS0ZXu2fSg+CMHLoNgB2pNfALFgXHzS2QbEalWiAVXHNjCQYdl3Q6XR6bPzAwQDabpbe3F8fprnl0U1MTyWQz7e0LWdiVxFRJ8JN4boJiPoZCBf6iIpgRVXHrpEySyYqLp7ozN/wCAqOez9ca+mKlVm+MZexDo15MhsY+PPdsGz9i45vmrA5qEUEQhAZH+z7kssNq7EFna6mjdYSB90bOtgcgGoNkc2DEW9pQi3YpG3RSLRUDX8oTjZX96VprhoaGaiZgDW4ZZOCltWXDX41lWTQ3N9Pe3kFLy3wiVgpTJdF+Aq/YRH7IxPeBPDh58C1IJE2SbcM7dQ0i0XAkkO+X/fWm42D0OSOMvuG6I4y9byg8O4JvWxRSSTzbKhv6ktHXs2zsJ4IIgiDMMbTvQTYzeo291Mk62F8ZVZMZJLCcoxCLhwa9BeZ1onbZrWLgkyUD3wyp1qCGHxl/fo7jOJVZt+s31Rr/wUFct1ZoEokELS0tLFq0hHg0hVUy+l6CQi7KUNbHS4NH4A0yDGhKGjS3mCxcHBj7kuGPRjRW2WefD/Y5B2OgIgCmO1pYGaNs1J3mWI37prRp09jhjf1EaDhByKQ9htJZcnkX21ZYtsKOKCyLiff8C8IEqFf4a60155xzDpu7u/Fcl7evPJAvXXM1pgI8L9j8YJ97+UXi/+9W0GMY+KZE2T1D50LUsj1HN/DJQAQmO5pFa002m61x6VTvh9fybdumubmZ1tZWlizemWg0GKmjSKG9OLmsQSbt4wxoyoFhFDQlAmPfMd+ia2Ez6CFSMY+U5YZGv8qd0+dgdDuY3ijBIk2jbNSdeKzipx9es28QGm4ewkt/yfOXP44e5CwQCLAjqkYsyscl8Rjt2FYYY3Uw7QDIPISZp7u7m82bN9eEv7799tv54Q9/SGtLC5dcdCG33PpNBvr7ufrKy3nxxRe5+B8+zU//49/p3tTNWR+/mCd++J+YCtLZLKlEAq01F1z9eU48ajUnH3MMmAYYJpgmGCb5ni1E//5CxSdfbeCTzShr++uAxWJxVGNf2nvDDG8qlaK5uZmWlhZSqWZi0WAiFn4CpxBhKOOTzfjkc7WmKBZXoT9fkYprUjGflohHs+UQ8SouHMtzUc4oNXvTHOGn92wb1zZxbBPPUngGaO2h8fG1h9YevvbReJVz/CCP9vG1W5W3ks8Pn6FLx9rHx6u6zwvzhnmo/axynvK1yj2V4/Dztc/bl51Nq9prSv9+Mg+hiuTCjezRuoVs2sV3rarNLO891yLnmni5IM1zDXzXhBGew1qU4WPaPqZV2ntYtq4611jlvQ7SbI1tacxI8DetlAo6uyi1WIJNoUCVrhilHFV5QGGErdbSM1Q5TyTnki321dxTycOItFJrSVGaZVl9X/gOwz6rUVtY2vfLNfTK3md+xGT+wvnozRtIeD7Llyxi4x+f45f/9V/cfcu/wIY3eP8Rh/D+Sy7j6vPO5Zc/+xknH72GqFLsvHgRS3femT+8+hoHHnAAqfZOME1c38cxLdS8LthltxHfeWTefIy93zbxd9e61lBpD893yWbTDKYHGEwPkM4MkMmkSWcGyWTTFIt5UBqURimNZZs0JeM0L25iQVOSWDyGZUUwDBvftygWfQoFl1xhkMFsH2R9wEOr4G/FTnjYLT5Jy8U2XWwVbAoX7bk4ePRon805jZ8LDK2vNJ7S+Aq0pXFNPzDcShMclYytjy54+PmKQYbZqwMrTAxloJSJwsBQJkqZwb7qvHJsYCgLhYGpbCwjioGJbcSmpRgNJwh97p/5Y+8PKwlmuG0rNJFW4EdRXhz8GMprqjnGi6H8eJDmxVFuHArBufLj4CVQevzmt8YDM482cmDm0GYuPM6jzSEwcujycT64bubC9OAe1BiughmjLGcjBY2xhKdyfTTBqohTrciNJ04Ay5tPoqN5ZwBefiFCZmCqy3vqUf/4kimX3fcaqs1XjaGC35ZSrF+3iRf+/neWH7EvW67po2nvnUijiHctomegn8EFcd4Y6udt+7+VwXkmoJm3uJNXBjawPBbUBM//0Cd54fn/5fDVh3D4cSsYKKwb8bnd/a/yl/67AB38FxrA0rFGB+ehsZwQyXCr7EYlH27lVyo1FOxwG36zVvgoXAwK4b+dwsDQRli5MVBmaDyViTKCPSUDqoI80UgM0/ECw0ol3cAKDaoZPi+4b/Rzs2KcMTGM6jQLIzTMwfPN4FhVjk1V/VlmzXG1ANSr0tQxb3pa/A0nCHu0v5N37P5+erZuJfjDCP9Awj8UYERa7Xnlem0eqv7Aqu8BcNGk8V2N44LnKFwHXEeFxwrPDfbBcRzXSeC5Cs8x8PIGrmvgu9s2aIbpY1gepuVh2pXjaNzAJ49heRiWi2l6GLYbHFsuyvIwLRcMD6VCA+KHNaxSsxU/MCShMfG1B6VjfNA+PjpsJgc1z6AZrcNrfvlch/mD51cZKB2kEBqv8v3l+4Lv1Q8/o9bwlf4Ngu/f8XL4YUhyH2v7KlSj/B37JriRbWQChrJZPnHpZ/j0NZ8g1hwDwFUVF4dG4+kinu/iawcvDLpYckl4YbTd2773NQqFAlddcT2/fvq3HHr4QSM+y/OLFLzBqZVxplHhvzX+KEtBUdG50n7UTMAYc9Jmg7ErLWO1zI2a+ybaMj/EP4924611f/+GEwTTsIhYCSJmblL3DW9aV/vzfB00f2t8jtX+RCo+QG25KNPHinoYNT7Hiq9yuH+y5I/0fQ/P9/A8D9cLjv3S3vfwdCmPj6OrfJtVfkqtPXA9cH0o+qB8tPIAL2hdKB+UB/iBW2CWGLNpjRHUI32FoRXK1yhPY3igXB/D1SjXR7kuUdvDigci85bdM2XDoiA8Dt1wSoEywmMjGKoS1jJLxxjheU1LB6C5/Ac/8prCdRwu/sRHOO29p/O+93wABXR2zqcwEGNB1wK6u7vp7JhPe3wZuy7Zk8Eel/b4MgB6t2TYbcnbyucAxOHd7zyFXz/2PCcc/X48z6vZrIxD/tmjSGfS+L5fLqxhGKRSSVLNgT+/uTkV+vZTxOMJnKLFUNZjKOMxlHEZSntkcz6OW7HKCp9ExCNlOaQiLinLJWk7JG2XuOWhbRPXMvEsE9+ycC0T3zKDIZiWgW9aaAWEMoAeXhEriXpVZWvMilalwpVKJRkcHKRcSSs/t/Ks6s8KPtuvyhFcD86q3qHmnlIrcayKYum51WWqrRhO+F2Glbv2XYL0uN0ytkBuBw0nCK/1P8WjbzxC0SkMM7qjdPAME4DZQqGq/IxmTTPYUCbKDDZDGZjKxK4xohEMLKLRGE7RRWGCNtHaAN9AawPtG2jfRHsGvm+gvWDzqzbPVWjPxPMMlDZAm0C41wZoo/xswzCwTDPYbBPLtLAtE9s2sazg2LItIraJZZlE/CKRYg67kCWSG8TIBBuZQRjsr5rFGqaNOQY+Xh7vTrKZYlcnMb856JwJO12r98qYqgtpYmitueIfPsXy5Xtw0UUfK6cfd9xx/Oiee7nkkku4554fjRv+et9996W3t5fBwUE6OjooFAr84he/YMWKFWzZsqXm8wzDwPN85s9fwPLle5Y7cltaWojHE+Szmmy/Q27QJTvoMdCjWZeFvFMSMAOwSVouLRGXxVGXlqRDS8Ql2RQM5yQSHTG+3rNtHNsqD7sseWFnasmnjo4OetSbcMCE9oLVE7WD8t1ggS0d7JV2UX54rSoNP9g3RdrpmVyddkI0nCCYyiZmNWPhjV8LVeaI89H8kuVOoBH3GWV/ZqlTKLhm1Pora85rjyu+zu03XPUaZeT7GtcJNqe0FTWuQ3Bc8HCGirhDRZyCi5P1cR0Y8hSOb+Fio0eUJx5u7QAo38V2h7C8PLZdwGp3sTs8bFNjRRR2xMSK20SaIliJGHaqCbslgd0UKY8IU0oR8TzULI4yeuaZZ/jRj37EXnvtxbHHHgsE4a8vvvhiLrroIu644w4WLVrErbfeSj6fZ/HixRx33HGsWrUK0zT5h3/4B/r7+9m6dSuXXnopjuPgeR4HH3ww55xzDtFoFNM0y5sBpGIJFlgLyaY9Mr2a7rXw97xDtjhItUsrbnq0RFx2bnJpjvmkmiCRVDSlTIyYjWfHa0IlFJRijGASb2500NlRbWzLxle7qKq0srEex1BX7i0Z+XHybkcl02/uAGvf+n0PIQ037BQacwjmVMusPa8qLPDwGavVceHDPNl0ufk9gkQKnWrGS3XgpubhJufhNrXhxFtwo824kQSO1YRjxnCJ4HqqLDhOlQiN1UCoxrJhj7cq5nclUSqsvIZ7pVQ5LfQU1aap+s1J0VqPcOtUb8P//AzDqDHy5c0wMJVCaY32NJ4PvqfxffC0wgv33ZsyvPhC8KyI4dMc9WiO+ySbIJkIY/K0WBhNkdDY7yCzZ7UODe5oxreq1ly6VmWAm+IRcpmBkfdqF/zx70W7qO3oXdIotLJB2WjDQisrOFYWOkyrOVcWKAtt2BPLa1TOqcrX0dEV9oNOHhl2KpTRrlM1YzU06On+URb+CPMMZUZ/kFKQSFUmNe20BJV6a2XSU6oFVQpPkGqBRKo8Bt5i24O6xqPUSqm0TvRI4Shqmpp8DCOwNb4f2hytRxjhsQjEYrhQjEwrdcD7YR+OXzL4YX9P7demykY+EokEht40MZWBZYRdiVqjfR2MYHXBdzRF3w8Mv1bo6hFZBN0cpgm2AfPnmSw4zKCp1cZqskZ1i4U9RqOj/RrDPNyolmu7vjOy9jus5lxrfMfPq/QEVH4cmjBHGNBq4+sbTSOM6kjjWznedt7S82epBTpNIi6C8CZHFwsja+yjxIXvGcrgDfQFQclGIwwTXPK/qyW71oYkSLXUGHsSSZQxO38MhqGIRBXbiJIw5sS0YNRTSSCqhWKcNF/jaQJjrUf7Y1QEf05W5czQWGELxAi30rFCB2GNPdCuwgGKWuNpha+D+Psq7GBUSmMaPpYJEQMMU2OU+rtVpaMSNLbupbn4IuQdVG5itewaI7+dPZWB0RxpUEvnvhGrXBuj9ltzPpahrrq3o3MBPVt7t+u9hYCGEwRfa1xf4/l6REOxtuJYe1WPmW/YM8bJN/ITR+bTxUIQZyabDhf2SAdL92UGIZPGz6SDayX3TCEcojjMRmnThkQSEs3oZAuxRbtRsGNBrT6ZCmrvyWZ0IhkIQawpsDA17zV2QXXeh9IoiPG+j+qyjdM0r803secNz1vzfA0pG+KRkcZ7xPMV5YEEnufh+z6+V6ntl8JAqJIhVwrTNDANA0OpsB8qWDhFlT5B6ypXRGl4ky5fV6pyvXJcSt/Wt0Dw1Y/ignaza0lkHsHDwsfCV3a4D849VUqPltO9Uh4rzFPOb+Mps5JPV92Pja9MPOzgWvh5pZrrWL8JXX3gbeM3ts3fhAaKpDL9DA5mwpSx/24Z53nj/OnXPHP8fFXH41yrSR++1sEY+YY/8x1mgqZx8k6VhhOE+//Sy78/97fZfo0Jkgq30OcXIeh3bZ/i43wgHW5lhtihBnKPisZWPlHDI2J4RJRH1HCJGl45LVqVXjo/cNe3sNP8rsCIozFKm/IJBpBqjNAYK6pcQpZGWfVplWtU2KII30KDH3Yn+jqQAd83KEtCVV50ZUy7rjpW5eNhz9eK7t4mfvbCPoDC15oimiJ+sNfhftQ0n8Kw8+KYEj6u00mYAT4Va+KIneo/jqvhBGHvzibOP2RnhrKhERz2R69qjodbBB3EdS/kUcU8FAroQh5VyAcLgBTy6GJ4ns9DMR+EMqh+ZukvzDJR0VgwVDIaQ0Wj5ePgPAaxqmMrMqqBqk4b+b4VUskkmWymKu/oDP+M6mcqpTFxMfEwcWr2Fm54LdgsXIwx9iOfUbmvOm91+lRs88ZEJ1E7FRraoDShtyjcVxnciixUDLFfrsNXSUpgeH2tgiG7OnymrtyvS73X4RSGYPqCojSNYSJlGZ5nzH8vXVVz1BBvj9C2XOO7Gt8F7VE5dsOO6KBbAD0Bm64MMKzSpmr3JpjlNDDs2uumVdUPM05han9jE/tOqvO1trTSP9A/6vOG5x3vu594PjV2vnGeMdZ3MOJ9x3inanbdqZN8un+ct5waDScIb+mMc/hewYgb7ftBmOAxl+obqKzFWhoXP0rERKASJjj0w6v5zZBqHyVMcOCLV9Ht6FYtd/xVfL8jfMR+7YiNZFOEofTAyLHO5bxVQ+3GGhe9nR1/GnOU0RWlDroIWiUq14zAleFW5XV9Ra7gks05ZIYKZIaKpDM5BrM5BtI5Co6P6ylcP9gOPjTFIjuOaRhYhoGlFJZS5RE75fcKmwYaha8UrlZ4flCL93wVjOTxauvKCjBMFRhFQwXTG4zgvJ6jlCZLPBJnyYKJ9e1oX+O6GsdhROd89bBit1h17GicIU0hPB8rqGoJpagJElkTYbgqSKRtM2rQSMtW21yKsqMjRY81JwfFjkkyapFPbzvfZGk4QfCfepieh3+M198LmTQTCxO8IAgTXDVqJuhkTaKSCUjEMUw1yhjk4Qa1B/xNqKyLymwjb9nIjzZ+eWrN9VIomdpRGJXhcpWOvzjaCjruGDXvMKM+akfgyNEebGM+he/75dDJ1RE0BwaCiVm5XO1MnKhl0d7URFusjV0SC5gXjdEei9Mej9EajdHd3oHd1BQY+3BDBfFznHCoZmDsg4ac7+sRvt/A4INlG0FHbigApZrveNQr/HU1H/rQh3jjjTd45JFHtvXPvU2UERrjCJCY/P1aByOhasSiOMZx1Xkh45dFZ5TlB0ZgWlTEZBRhaW3to1As1IpOpDoK8ewJ9JuNhhMEO+kQO2g+XmQhKhYJtogVbibKNMAEpbyyoQ4Mdx6lMyj/jcqoDMeHPoJtkgRuharRE8OHthlRtJEcOQpDjWaotz1io71jAT29A9TNOT5FCoVC2diXQyb39wf7TCYItxBiKEVLLEZ7NMYuLa20dy2kPR6nPRajLRYnGo/hRyIjZs76tk23YZHT4Jh2YOzdytj9wOhXLH+pZm9bCtNUoeFX4SieqX9XlmXx+c9/vib89apVq7jrrrs4/PDDueSSS7jlllu49dZbufrqq3nxxRd54IEHeOSRR+ju7ubMM8/kySefLI+U+tnPfkYiMQXLPU0opTCtwG0Ui0/tGdrXOG5tK6R6omO1sJRaK4W8JpP2y9e0Hr91oAxGiMi2Q9pXhcG3FGobrZS5QsMJQmTnJhKJii9dY9TWaLWF9ipG1TfjY45BHq2Wvc28JZcJMzwhyGoCY/o7j33fJ51OB8a+v5/B/n4G+wcYHBygP50mX6xdWzduWcyLxdk5HqetpTWo4cditKRSpJIpiA0PlRAsTThg2/g+DGV9MmmfbMYjuyk8Trvkcw577AtdofskGKYZ/MEbJRdPHYz+eHR1ddHV1QVAMplk+fLlbNq0iQcffJB77rkHgPe///2cdtppXH311Tz44IOcfPLJRKNRdt55Z5YuXcpzzz3HypUryWaz/N//+3+58cYbueiii6blfWcDZSgiEUUksu28o6G1pq11Hps29dQKxyhzVKqP8zl/0hMdq9c+GW9dlOrWSemauQOvlVLNNgWhWCzy+c9/Htd1y9PmTz/9dDKZDDfddBNbtmyhs7OTyy+/nGQycErcd999PPLIIxiGwXnnncf+++8PwCuvvMKtt95KsVhkxYoVnHfeeSilcByHW265hVdeeYVUKsVll13G/Pnzp6XA+ZZ3kFh6LFv7Bmd3YsmbmHw+z+DAAIN9faT7+hjsH2BgcJD+TJqBoaGaoXSGUrRFY7THY+wyr4P2eJzWRJKWVIrmlmYiTYnaBUwiQagEVyn6CGqQuVxo6Lf4ZNMe2UyRTDpPLuvXuHjscKH0ji6LRNKkayEkUiamAU/+6skRsX+2l87OTlatWjWhvGvXruVPf/oTK1asoKenpywUXV1dbA1nnG7atIkDDjigfM/ChQvZtGkTADfeeCMXXngh8fgUq+JzFKUUlm0QixtTbqWMN9HRHaXV4jia3JDGdfyy+GxrrqNhMLJ1ss1+leq+lJlxe21TEGzb5vOf/zyxWAzXdfnc5z7H/vvvz+9+9zv23XdfTjnlFO6//37uv/9+zj33XNatW8fTTz/NP//zP9PX18f111/PzTffjGEYfOc73+HCCy9k+fLl3HDDDfzhD39gxYoVPPLIIyQSCb7xjW/w1FNP8YMf/IDLL798WgqsjSjYKbTRWJ1Qk8FzXbJ9/aR7e4Ma/sAAg+k0/Zk0fdks+eHr3to27bEYOzclaOvsoiWZpKU5RUtLK03NKYhGa+LilFpGpfj5WlfcANlNHtlMnmzaD5Y7zfg1y/2a4ULprW0mi3a2wxW1gkXTywull8rheTtEzSybzXL++edz3XXXkUqlxsw32ph8pRR/+tOfeO2117juuutYu3btdL5qQzLRiY5joXXQyhjVxTVOv0o+55fP/Ql0C1o2ZbE48B0xkq1Te99xP2NbGZRSxGJBDPdS/BWlFM888wzXXnstAKtXr+baa6/l3HPP5ZlnnuHQQw/Ftm3mz5/PggULeOmll+js7CSXy7HHHnsAsGrVKp555hlWrFjBs88+y/vf/34ADj74YG6//Xa01tIRNB1ojVEsUshkyPT2Bf77wQEG0mn6M1n6hrIM5PM1489NpWiPxWlramLJokW0JMMQyq2tpFpbsRIJ/IiNb450g1UvVlos+GR7vdCt44VGP3D3VDfbSwulJ1IGXTvZtQulx6a2MttEa/L1xnEczj//fE499VROOOEEIIgr1d3dTVdXF93d3cybNw8IWgTV8bk2btxIV1cXv//973nhhRd4xzvegeu6bN26ldNOO63sdhJml6CVErQAporvDeuAH95CKfg4BY9ioUgun8NxTKY0EmAbTKgPwfd9/r//7/9j06ZNHH/88SxfvpyBgQHa2toAaGtrC+ORQ29vL8uXLy/f297eTm9vL6Zpln/4APPmzaO3t7d8T+maaZo0NTWRTqdpbm6uTykbBd/HdFxMx0Hn86T7+0n3DzCQHuR/sll602n6hobozecoDBs+m4xEaGtKsKSjk7eG7pzmllZS7W3EW1vBGrszurq94Do68OenfTKZWsPvFKtkRkFTU2D053VGgqBrKYNk0iDeZMyJTjytNVdeeSW77747F154YTn9uOOO4+677+aSSy7h7rvvHjf89YoVK1i5ciUf/OAHgcD19MEPflDEYJrRWoPrBvOOgtWsgs1xw31tunZGyztsX5WuR6S7WE4Ry3WIhem+UwDHQXkuyq9tPQ6qd8LRH697uSckCIZh8H/+z/8hm83yta99jTfeeGPMvGNNRR9/ivroTeXhPPTQQzz00EMAfOUrX6Gjo2Nbrz4qlmVN+d5Zw/OgUEQV8qh8AZ3PM9Q/QF9fH739/fQODtKXzdCbz9GbyzNYLNTU8i3DoC2ZpL2tlV1al9LW1k5bxzza5s+nraODyCTmRXieJj3gMNBfZHDAYbDfCfdFhrK1QtOUMGlujdDZZdPSatPcGqG51SbVbE+7O2fz5s1YdVhUfqr89re/LYe/Pu644wD4zGc+w6WXXsr555/PnXfeyaJFi/jud7+LZVnss88+nHzyyaxZswbLsvjKV75CdNi/S2nE0Vjl8n3/zffbJrQBnod2iqHBDPdOsZLmFNFOaFCdQvk477vECwUoFtCuE6YXq/ZVx6Xro+QNPifM6zpVgUeq4qEqVZNefv+qdKqDligFdgRl2WjLDo5tG21HUFYEbBsvYlCMWhSVQUEZ5LUmj4NvRvHMKL5pEYmliMbaicbbaYp3sGTlGtqm4d95Un8tiUSCvffemz/84Q+0tLTQ19dHW1sbfX195dr8vHnzyp1kENT+29vbR6Rv3bqV9vb2mnvmzZuH53kMDQ2VO6irOeaYYzjmmGPK51MJ57wxXWRARxkYHCRcmAgI97p0XDVlvzqPpsbIloRseAyTSefxfQzPQ7keyvPKx77jkMvnGcoXyBULZB2HrOsyVHTIug7eMCGN2Eni0XnEklGi8Xhli8ZobW1haCgXRK7Q8AagBzR6IA1/T4/4LrQfNFWLBU2xqCkW/GAf+jyr85fHiUcUdntpbLuBFSkJew4c0Js1bA6fP+z7rZzrmu+7KtuocZFGft+V/KsXx1jYNrJZPV48mnHzTjRfeLJw+b4885dXR+RLA//8ne+X0wY1DPZmAXjvBy/gvR+8oHzttTC9/AGJeXz/vp/z2tbsqO/wes8g9/8yqLBVfxeM8n3p8pRtXYkCO/w8/AcqXQuWK626L3xQeSivppKHqs7WMG/1kN/a96scDze0lTyV4yDdAKJoYkAyHMpdub90DqAtha5y6dRGjBr+3B2UYrgNwKey7RwxxRD+2xX+enBwENM0SSQSFItFXnjhBU4++WRWrlzJ448/zimnnMLjjz/OQQcF67uuXLmSr3/965x44on09fWxceNGdt99dwzDIB6P8+KLL7J8+XKeeOIJ3vnOdwJw4IEH8thjj7HHHnvwm9/8hn322Wfa+g9+vTbNvz/3yrQ8e3qIhFtqZNJoaCq9tX0AhXAbqNsblf5lVOnvzSVYdTOvytdHCwMQpI3MU0pW1flVVb6qB00mz77tJq3Jqh5pVbMbp2QTSR15caK/2LL5GaE2wy1kaK6GnQeHw8yoDp5rDmVIbngVtB9EU/WDtauVH57rYDae0kE8cFX1Hmq4mdTVdd3K8ajpKnTzlZcbVSPOS8uQKkOVxgGXlylVhhGGhC3lCcO5GgqjfByucqeMYL5QmB5vSlAoFsvnRlWQxrF/i2rsPFW/E1X1o6n97Y2dx9cuBW+QvDtA3u0vb66fpyRFlhElZrcQt9qIW63E7VbiViumYZWfV/P3UfVuCsX+i1pA138Y+TYXyHn99de59dZb8f1gkfNDDjmE0047jXQ6zU033URPTw8dHR1cccUV5Vr9vffey6OPPophGHzoQx9ixYoVALz88st885vfpFgssv/++/PhD38YpRTFYpFbbrmFV199lWQyyWWXXVYeljceU1kgpy/n4kWS9Pf3Vwxa6csYcV4xOLU/gPDY97FcF8NxMF0X03UxHBfLdTFdB9Nx8RyXgUKe/kKBgUKegUKevmKB/nyewXwetxRJM/xXSCaaSKVSJFNhx20qRao5RUtzM/FYLHinqtgwI4xpzY8/iNtfLPjYZooN6/oYynpk05psxmco7Mwt3WIY1HTgJlOlY3PKnbmzied5gXEYHtcaPTJtMtcn9Qx/WHqdqF6Qgcpxbv3rRB/+SWngPEFMCAtlRypplg22BaHLopJulV0aNXnDdIanl85Nc1Z/G7O14JWvfTLFbgbyaxkorGUgv47+wjoyxW5KomqqCM3RRbTEFtMaXUJLbDEt0SXErJbt+s62p8zjtRBkxbTR0Brl+ZiOU9mKTmD4w2PTcTB8H19r0sUCW3N5evM5thYLbC0U6M3n6BsaIluoHd5q23Z5ndvSmrelfSqVmrLP23U0mbRHNuOXh2xm0z7ZTG1nrlLQlAg6cxNJg2TYmZtImcSbtt/oB51xo3ekjUgftXNt7Ly4w/KPel+lcy/3vvNILFu+7ZeeEKrWCA/fJnLd2Ea+SXzGWP9OY60BMZeZbkHQWpN3BxgorKW/yvgPFtbjaQcIKl/JSBctsSW0RBfTGltCS3QJich8jDosgTuc6RKEhpup3NSzFfuvf2e+71HqOFChc1OFtTildU1LwfN9Cp5H3vfJex45zyXnugwVi+SKRdxQGHyt8dF0xptY3NZGJBYjGosTbwp8+fGmJuxIJFzZBEoB1UqxdiiGnVw16ZSNgOvDUFaTyXhk0ppsVpMZdBkadHCGHAzfwdAuhucQjwZr5S6IesRTHh1tMXxnkKjporxwpMSgA1trjfMIAz0Zox2Olqgb1bXQsY5jMbBs1PB028Zasiu0zpuc4R3j2putdSRMDcfLMVBYP6zWv5aiV4luELNaaIkuYbf2Y2iNLqYltoTm6CIsY4rTrXcgGk4QIpkhVD5fU3CtNU64udrH9zWeDlxk2g/EwVAKUymSpkmzZWJGIhixKMoPOoLxPbTngueiPQ+dS6MzfWjfDUZPeC7adYO954XppbTweimv65TTqp9rui5JzyPhucwv53WZeNdnWN6xLhgGmFZoXC2UGewNK4xlbEWCZTDj0WD1mWpDbFk1xliZNtoOrutSesQO3BThaAvskisigg7dF9q2IRJBW3Zl+ccpGmPb81ANVlsWJoavXdKFTfTn36Avt46B/DoGcuvIFnshDGluqRhJeyfmRQ4gGVlAwu4iac/HUvHAhe5r/DB0yqC/IQj25/tl93rpeKy08fJv69rhhx9eHpRTTxpOEF5//W+4z/2aXG4Ip1DAKxbwiwUM38fUpU0TUWADFhpTa0wdjP7BdVETmVY4ATQKLAttBrGQfBVs2gxjHpkWmDEMy8KIWxiRCEbEwrQtrIiNYQeGWpU2ywTTRpkmygyC1BumCaZFJBbD9XVwXko3gnyGERwbStV0NKoq3/fwVtN2FjwcMeEBuXAbP3u5FVXVaqppXY1Igy0tzZjNzYx88dreOj1G+oh71GhiqsbMP+pKm2FZJpQ2A5RGE22vgaqXoRvvmud5o+YxTZNCoTDm/Z7v4vlusAqeLl0HtKLyj2QBS8NtODng1XCrP0bY6W6EHeLVx2NdcxxnWt6l4QRh4NUX6fzL/xA1TLRplmu0RiyKEYliRqOYsVh57PCYHWmjuC+qO+O0ZeNoi1zBJFc0yOZNsjmTTM4gnTNxtYVWwcxew6TWn1/VsRuJju6uGGMFxTGJd3TQt71+1vI4wZJ7LRQNdJV4VIREURITRrjkap8T5mFYnqrnj0irek7tPVVpVI2iqbHkVd+cLtnz0pDJ4LhqdGRtWvXXMGz4ZE0asGHDRq74x6vY0tODoRRnnn465537Afr6+/jkpz7FuvXrWbxoEV//2j/R3BIM2/7Wd77DPffei2GaXHPVP3L4YYcC8IHzzmNLTw+xaBQNfPe222ivmugZfDWa7o0bef7Z34cuzCpXZmkruTf9yvXZRoUuuW0ZwbGulfvdlMbTBTwKOH4OXw/h+Vl85WKoYHU824wRtRLE7GZidjNxu4W43YJpWlMyzNubt1T2yTJd/SYNJwhdZ32E9ov/gWx25DjuqeAUq2bmlqJuhp26bpWIKxWGY2gzWLJzqSM3EIFYfHZ91NW1xJmsHY5V46vX5+6///4sCN1O1WMnxjquN2nX4ROXXspee+1FNpvlnHPOYb8DD+THP/4xB6xcyTduvZXvfe97fP3/fpvLLr2Ml195mZ/87Gfcc889bOnp4cILL+THDzyAaZporbnhy1/mrfvsU/XuVUMTFRgobNNkXjyOCeF6z8FmooJRnUphEIQjqbmujGHntdeHb+Ndr7nGKHnCYaZG1bDSbbX2qluIPhpH5yn6OYpeFochhpwcRT2ExsfDR6kmbGs+EStF1EoRtVqJRVowjWjNgkgoqlqepT4jhr3PaK1Syv1LOux7qk57s9JwghCNRonH4yMEYTzD4jge2YzHUMYlk3EZyngMZV1yQx7Fgo8mGFqo8YlEw1UwE5CKgR2FaASsSMXoOlrTO+jT018/I7it+5VSuK47Zr7ZZntrXKZpjrgWj8exbbtGbOt9PN71UjgWpRQdHR3sueeeFAoFfvWrX3HXXXcxf/58PvShD/H+97+fL3/5y/zwrh/yvve9j0WLF7No8WJ222031q5bx8qVK7EjEVpaW2nfxuzUZGsru++997a/8Am09krpE2nt1boXGfU5Wms8gpbKiNbkGK09zy/ieXk8v4DvO/i+A76HgYGFQQQDS7Vi0oGhTIzwP+UDBY0qD/LzgN5tfy91oOLihEAoVJV4MK7YVQtLjRihaoRLTdMM/IYThOeff57f/e53uK5bYxRnm+1tNpumiW3bY+aPx+MUi8UpPXtHbTZvi+ohmMktP8EqbKzr893oQjKdJ00o79q1a/nzn//MgQceSE9PDwsXLgRgwYIFEwp/DXDFFVdgGAYnnHACl1122fZ9Z1VNi7IrbOpP224Kbpr+wtpwdE/YyVtcF07mCkhEOquGdQbj+VPRBczvXDC2+2QMkRpdAKkVO6oEcVzh2oZrc4w+udGf4wcTBEcTzarn+PM7g0EadabhBCGZaGW3ZXszlC3iuoogZIoK3TvBKugKA9M0iMZNYjGDWNwiFjeJx03iCRPbNutuGKfbZTRbk3eE7Q9/DcHSmgsXLiSTyXD++edzzz33lCMEv5lw/SKD4bDO/sK68vDOvDtQzhMxk7RGl7Br6xG0RJeEIrAI25zCggdl91DA7LeF60NHRwdIH8L24xe7yPa0ABAxoa3NIJE0y/78km8/EpGx53OJidbk6009wl+XrkGw8topp5zCH/7whx1aEHztky1urprMFRj/TLG73PFuKpvm6CIWJPelJbqkPJlre2fxClOn4QRhp51tli5rx/Uzs96ZK8xt6hX+2nVdBgcHaW9vx3EcHnroIY444ojZKlYN1bN4S5O4KrN4S8ulBrN4W6OL2bnlkLLbJxnpmpZZvMLUaThBSCRNOjqa6OmZ/vWFhcbmmWeeKYe/PvbYYwG46qqruPjii7nooou44447WLRoEd/+9rcB2HPPPTnppJNYs2YNpmnypS99CdM0GRoa4uyzzy4vY3vEEUdwzjnnzHh5HC/PYGFdjatnIL+Ogpcu5wlm8S5mt/ajwlr/4nAW7xSXIxNmFIll1CA0YpkbMa5PPcrsa490YVNo8AN3T39+HVlnczmPZURpji6uitsThHCIWTO/qFUj/rYllpEgCHVFa03O7Qs7eIPa/kBhLYOFDfg6iEmlMEhFF9Ae35Vd244II3YuIWF3oMTdM+cQQRCEBqDoDZU7diu1/rU4fsV1GrfaaIktYUHiraGffwnN0YWYcyBomzAxRBAEYQ6htU9/fn3NyJ6BwjqGnMpqhbYRpyW2hJ1bDq4J1xwx679ou/DmQgRBEN6EaK3xtYuni3i+E+6LrO/9Cy/0BctzGsokFdmJjqY9yq6eluhimux5MrpOGBURBEHYwfG1F4RwGGb8dVWQPkPZmMqmvWkXDk58nJboYlKRhZiG/IkLE0d+LYKwg6C1j6edEca/1MELoDAxjQgRM4lpRDBVBNOIlMfzN1mdmOYes1UE4U2ODBMQhGli/fr1nHbaaaxevZo1a9bw3e9+F4De3l7OOPMMDjvsUE4/432s3/J3BvLr6Mu/zj//y1dYfcTRHLvm3Tzx+K+wjDhxq50I7dzwuW9y0rHncOKxZ/DYf/+WmNWMbcZkcpdQN6SFIAjThGVZfPZzV7P3Pm9hYLCPk098HyvesSf3/ejHHPiOffjW927gu7f9P2775nf59FVX8Porm3jwZ4/zyCMPs2VzL2eddRbvfPJUTNPkazd/jY6OTn71q1/h+z79/f2zXTxhDiJVC0GoA1r7uF6egpsmW9zKYGEjkeY8S5a3kC5uxIjl2XW3ndnS3cNjDz3FWaefQ3N0Ef+/s87nsYeeJhXt4vGHf80pJ59KUzzFLrvswtKlS3nuuecAuPPOO/nEJz4BBCtsTcfyiYIgLQShIfifjf+P/vzrdXmWRoP2SUV3Yq+Ok6r8/KVJ/waWYRMxm8p+/g3rN/G3v7zCYe84hq1bP8OSRbsBsGDBwm2Gvx4YCCKB3njjjfz6179ml1124Utf+hKdnZ11KY8glJAWgiCMgUajtR8O73Rw/QKuHyzWEnT+FvC1g2VEiFutJCNdtESX0BbbheboIhKRTmJWC8W8z4UXfGzK4a89z2Pjxo0cdNBBPPjggxx44IF84QtfmM6iCw1Kw7UQ0gMeg31pCgUHO6KIRBR2xMCykbHZc5gDFp475jVf+1UjeyojfDReOY+hrHBEj10e2WMqe5vhG+oR/rqtrY14PM673vUuAE488UTuvPPOKX8XgjAWDScImzY4/PWP3SPSlQI7oqpEQtUIRjktWrkeiShsW6EMEZI3A1rrYcM6i3jawdeVxa8VRjisM1E2+sGwzskHjKtX+GulFMceeyxPP/00hx9+OL/61a9Yvnz59n8hgjCMhot26hQ18VgL3d29OEWNU/QpFjVOUVMshPvwPDj2w9XUxsa2qwQkOpqoGJW0aEVIDHPmhKSRIkJqrRlytuK6LhE7VmP8K35+VTb21TV+Q1l1ayn+7ne/49RTT2WvvfYqP/Oqq65ixYoVXHTRRaxfv74c/rqtrQ2Am2++mR/+8IeYpsl1113HUUcdBcC6dev45Cc/WV4X4aabbmLRokUjPrMRI7w20m+7xHRFO204QYDJf5m+r3GcUCQKFcEohoJSLSI1ouLocdfsMy1GtkBGFRWjplViWpM3WHP1j6boZYO4PVUB2wYL63D8HPu2/f9Y0LZblbsnMszdM/dadiIIjYGEv55FDEMRjSqiUWDsPsERaK1xneECEoqKE+xLrRCnqEkPVsRF+2M/1zAZuwUyhqgUm3201m9aI+j5RQYLG0YszpJz+8p5ImaCluhidmk9jJboErri+5GItU7J3SMIjYgIwjSiVMlAT+4+rTWeR1WLwx/mxqrdD2W88rHnjfXU9Kj9JOV91Bjz2kz2k2jtk3W2hLX+deGavOvIFDeVY/cYyqY5uhPzE3uX1+FtiS0mbrXVCJ7neSIGgjAJRBB2QJRSWBZYliLeBDBxo+Z5owhHwSdiN9HXl6m5VsiXWiUT6CcZSyyqO96jw9MUxjhCkncHatbhDRZnWY/rF8p5EvZ8WmOLWdJ8EC2xYEnGZGSBGHpBmAZEEOYYpqkw44pYvDa9o6ONnp4xmw9BP8kYLRCn6I/ocB/KVFot42FZYEUdVNMmdNNGvMh6HGsDRWM9rqqsxWurFM2RxeycXE1b0xLa4ktoji7CNmPb9X0IgjBxGk4QXn75ZX75y1/iui6maWJZFqZpjrqNd21b1w3jzTXnzzAU0ZgiOkn7q3Wlw72Y9xjIb2KgsI7B4jqy/jpyej1FtoAKhcO3MYsLUbl9sPMLMfI7YeR3QnnN5IAcsIlSP0kBO1Ks7XiPjtVSMcIOd5lPIghTpeEEoVgs0t/fT6FQwPO8ms113VFni06FwO0zvqDUS3y2dW+9xUlrTd7tD109a8tun3RhQzi0ExSKZGQB82O70Bo9nJbYYlqiS0hE5mMoI+gncSmP1Bo+Squ2peKTzXj0h9f9cTrclVHpcF/2FkVHRxNKgTJUsC9tRvBvVJMmQiI0OA0nCHvttRdHHHHEmEO2fN8fIRTVgjHWtW1dH+2a4zjk8/kxr/vjWb5JUBInwzAm39KxfPzIAJ7dj2v24pi9FFQPvsqXn2+TpMlcQJf9DpL2TjTbi0hFFxKx4iOep1CVd7LBshUkJidYnjuxob8KH98PBCzYtvU9hSJhVETCGE1MhuUZS0jWr1/PpZdeypYtWzAMg3POOYePfvSj9PX18bGPfYy1a9eyZMkSbrvtNlpbWwH4xje+wZ133olhGFx//fUceeSRZDIZTj311PJzN27cyHvf+14JXyHUnYYThNBCjHnZMAwMw8C27Rl8qdEJRhvVR5gikQiZTGZscXKLFBjEM/vBGoRYGiOewYhVOnh918BNx3EzKdzMfNxMHDfThHZLP6MC8Gq4jc10tpIiCZN4c5DW3NxMrCkQ1cBoq/B7BVDBXoMfxKori4YOz30Nbigm41EWiXLLI9hcx+Cqqz7L2/bdl2w2w0nvOYHDDj2Ce350F4cddhif+MQnuOWWW7j11lu5+uqrefHFF3nggQd45JFH6O7u5swzz+TJJ58kmUzy3//93+XPe+c731kOgyEI9aThBKFpay/2n/9KRyyKE4vhxGM48ThuLIY2dyy/f6lmb1nb/89UmshSmsVbWoC9v7Cegfw60sUNKO1hEazKlYouoDW6PFiHN7aYlshiYmYbnjd2C2oiYjXRvI7jjHt9Iq69ww47jMWLF2/zOx6+H3Fc0wqoCEu1wGitgrkjXilNkUq2kEq2kkkXQEXYZZfdePmVtfzi5w/yvdvvpL+3yDuPO5UPnncml37iKn7yk59zwrtOwvds5ncuZuedd+GZZ/6HAw88ECMUnFdfe4Wenh7e8Y53TOafXxAmRMMJghuP4y9cgO7rI97XT2JrUIPUgBeN4MTjgUjEAqHwbSuo7r0JKXrZsn//T71b6B54iYH8Ohx/qJynyZ5HS3QxC1P70RJdTGtsSbgW7+gtpDpo03ajtR7XtVcSm2QySTweR2tNe/dmovlKa0eX/1dzMH76sAw522Z9S2pC4rRhwwb++tc/sddeu9KzdQstbTYFp49Ui8XWrVvI5npYt+419t33baTTPaAU7e3tvPzySyxbtqzkaOOO/7yTY489jq09A4FQoapaKIqenl5efXkjdsQkErGCfdQiGrWIRKwJt7gMw5A+lQZkB/jznlmKyQTe0l3Y2tMDWmMWHexcDjuXx8rnsYeGiPcPlPN7pokbr7QknHgMNxqFHWgUkec7DBY2hLN314azedeRc3vLeaJWkubIInZpOaTcwdsSW0zETMzim08NpVTZcI1HdRgHy7QwDHfc/JMmHmP+/PnlPgqgZl86zmQyXHXVVXzuc59j0aJFKKVobm4uX1dKkUgksCyLaDRCLB4M9TJNA9s2sS0zDMWtefCXv+BLX/oyGhd88EtSpTUaGBjs4S8v/q4uxTNNKxSO+rr3ppJ3ToqT1qBdDD+H8vMoP4/h5SvHfuk4Fxx7lXTUycDSur9SwwlCDUrhRSN40Qj51pZKsucFAhEKhZ3Lk+jpRZX+2JXCjUZDkQhdTvEY/jRXn4NZvD2h0a9M5koXqmfxWuEs3r1oiS2mNbqEltgSlixYXl6IpREZXDx2/JbtpdrNNBzHcbj44ot573vfy8knnwxAZ2cng4OD5fDXHR0dJJNJdt55Z3p7e2lubgZg69atLFu2jLb2VgD+/Oc/o7Vm1aojxnyX9vY29txjXwp5l1zOpVBwKeRcigWXfMHFKboUix7FoovjeDiOi+t4uK6HxkNrD639IPR36Vh7KM/H1x7a9XGVTwEPTQEIrvvaQ/tBHt/z8PygpVYvxhOLWCyG1rru/VJjXS//W2sP5RcqxtvLDTPkeQwvF+bJ1aaXDDzjf0cahTZiaCOGb8bRRgzPbscwY1Dn+g1MQBB6enq49dZb6e/vRynFMcccwwknnEAmk+Gmm25iy5YtdHZ2cvnll5NMJgG47777eOSRRzAMg/POO4/9998fgFdeeYVbb72VYrHIihUrOO+881BK4TgOt9xyC6+88gqpVIrLLruM+fPn17+0E0SbJsVkgmKyqvasNVahEApFHjuXI5rO0NTXX87i2dYIl5MXjUzJ5VRw0yOGdQ4W1g2bxdtJS2wJi1MrA19/dAmpaBeGGvnPOidrWDs49Qp/XeKBBx7glFNOGfczDcMgmTJJpiYXL2WyExOrj8crv2X5mLbGsjSW7WNawWaYPqbpowwfw/BQhkYZHsrwgUCIJtr3ZBgG+Xx+kv1OmoipidmamOVX9pYmZlf20erzsCxR2yduaSLWtl2Fjm9S9E0c38bVweYQwyOFRxRPRfBUNDD4KoY2A+OvzTiYcZQZwwz7EatFaUFyAUzDutrbjHba19dHX18fy5YtI5fLcdVVV/EP//APPPbYYySTSU455RTuv/9+MpkM5557LuvWrePmm2/my1/+Mn19fVx//fXcfPPNGIbBP/7jP3LeeeexfPlybrjhBt71rnexYsUKHnzwQV5//XUuuOACnnrqKX73u99x+eWXb/PlZyra6XgYjoudz4UiEQiFlS+Uux19Q+HGKu4mJx4LO7ADV4brFxgsrKc/rO2Xonbm3YrbKmqmqtw8S2iNLg5n8cZHeaPpL/ObhdmO/FnP8NcAhxxyCP/xH//B7rvvPuZnznSZqycmjowEPGxY8DBRGc/yVAdwHG1iYtT2iEUKxOwi81ojFHI9RIwCpgpq3yNq46UafMntovOo8UIRA742cAmNuLZxfItiafNMCp5J0TXIeyYFR5ELt7yjGCpCrgjuGIMwtndI+YknnsiyZcumdO92RTtta2sr/1jj8TiLFi2it7eXZ555hmuvvRaA1atXc+2113LuuefyzDPPcOihh2LbNvPnz2fBggW89NJLdHZ2ksvl2GOPPQBYtWoVzzzzDCtWrODZZ5/l/e9/PwAHH3wwt99++5smMqdvWxTsFIXqpRF9HztfqLic8nmi/b0Ut/bSr7bQo7awxeylR21hQPdS6qQ0lU1zdDELkm8LXT2BCMSsljfFdyHU8va3v53169ePeu2uu+4aNf3SSy/l0ksvHfXar3/967q9W71QKjDYkQiQnOBN2gevgHZyuIU8fnEI38mBk0e7OZRbMeSGzmOSx1J5LFXANgpEzAIWLhQJtuwoH6HB0VFcP0qRGB4xfJXCNzqDWrgVQ1lxlB3DsOOoSFArD9wzcXwjBmrkgBIr3Jq261sbf77TREbr7bzzztv5BqMzKaf35s2befXVV9l9990ZGBgoC0VbWxuDg4MA9Pb21qzm1N7eTm9vL6ZplpcKBJg3bx69vb3le0rXTNOkqamJdDpd9qW+mdBak/cG2eSvpV+vZUCtZUCtZ9Bcj2cUgWBkSLOaR4fuZC9vTzp0Jx26k5TZjucncHQMR8VwjTiOGX3TjnIS5iAT6gjNjdtBqvzi+LVzC7Sy8UPfuTZi+EYSbXagjRh5YrhEcbwYRS+KGW2lf9Cn4ETJOVFyhQi5YgSnSDlasFPUuOP53FWw0FUkjE4ciVaHTQlaKGMFdxwvgONYbO98p+lq8U9YEPL5PP/0T//Ehz70IZqaxtbHsTxQ43mmxlpcfDgPPfQQDz30EABf+cpX6Ojo2NZrj4plWVO+t5qil6M3+xpbw603E+zz7mA5T1OkjXmJpezcsYJ5iaXMSyylvWlnLDMaZHBdVCaLymRQ6Qx2OkOktw8VNim1UuimJnQqiU4mg30qSVAlm/kyv5nYvHlzXeZwvJnwfX/8f2ftgZsDLwfeUOXYHSqnqfL1XHh9qCaP0tvuCMVqAjMOZhNE4mC2Budhum+F16rSao4Nq2bGx3hOMMuymD+utQ/wPE2x4FEo+BTyHsVwX6jaF6vOB/t8CgWXYmF8944dMYhGDaIxk2jUIBLuo1X7yLDzaMzE3I4VE6fr73lCfy2u6/JP//RPHHHEEeUJMS0tLfT19dHW1kZfX1+5Nj9v3rya0Sy9vb20t7ePSN+6dSvt7e0198ybNw/P8xgaGip3UFdzzDHHcMwxx5TPp6qQk14xTbukC93DhnWuJetsKeexjCjN0cXslDwgcPXEltAaXULUGraiTgH6C2kgXZseiwZb57xgOGyhGAyHzYd9E1t7sTZV1oL2LKtmhFN5OOwYrYlG7EPQWuNOwFC8aShNrSaYba/wA/cLwdRqhUZne8j3/Lhcg6/4z0u+8+I2P8ZXkXLHZlBLj6KtVvxIqcOzVGsv7eM16VpNYiCFBpxwA4LZ7oUxs4/GVH7bpg1xG+I1ZkYxmknUVSsmjuxwD8LLB2keuZzLwEDl2nj9JKZJ1dK6Y7dAhoeXN81gpNqsrJimtea2225j0aJFnHjiieX0lStX8vjjj3PKKafw+OOPc9BBB5XTv/71r3PiiSfS19fHxo0b2X333TEMg3g8zosvvsjy5ct54okneOc73wnAgQceyGOPPcYee+zBb37zG/bZZ59Z8Zlrrcm5vcMWZ1lLurgRXweGRWGQii6kPb6MZW2ry+P5E3YHStVpboJSeLEoXixKvjrZdcvDYEtzJ6KZnprhsKXZ127VvAk9ix2rQhW6ZMwDI65KxjxMU6FhBz/8N63Ki18lCOOQ20As96cad4tnN6OjgWH3y37ykkGPo81YVf4oyFoTNSgjWIEwEoXJzNoJKiTUjNIaTVRKKyZmB336wrTx+pwNAw5ZHaF9GgZibnOU0V//+lc+97nPsfPOO5eN9FlnncXy5cu56aab6OnpoaOjgyuuuKJcq7/33nt59NFHMQyDD33oQ+Whcy+//DLf/OY3KRaL7L///nz4wx9GKUWxWOSWW27h1VdfJZlMctlll9HV1bXNl9+eUUYbul+vWZGrtCRj9SzeuNVOa9XonpbYYpojO405i3dW8P3ycNjyKKdcHrNqDLgbsTFaWsgaRrlV4UXsOd83UdcRNyVjXDLYVceV2npoxEcz6GXjvw2UEbhcMILASCi0MsLzIF1XH6vavJ7nYzaYm2yutX6rV0ysFoxqUdlzn04MKzOl54/XQtimIOzITEUQXul7jL9s/TGZQsXdYxtN4YieiqvnzTqLFwCty8NhS0IRKzowNFQ1HNYY0ZJwYrEdagb29lIWhHLNerQaeGjMqwy6qnLD1Br/bVEy3mGUu2qDHRpxXWW8RzP+2yvSsz3UdjaYa4IwEbanzNvlMpprRB2bhbHdiKVW0dq0lNbYEuJW+9wa1qkUfsSmELEphH07HR0dbO3eHITnyOXLYhHv7SfhB6O9NJRnYFcLhW/Ncjwn7YUjVArhzM9RpvaPMqKlJ3YIVvPCiblaIDTQldo3ygo69UODrasM/WjGf/h3VK/w1wD3338/3/jGN1BK0dXVxTe+8Y1yH5wg1IuGayH8+ae/4I9/eJGEO0TC8EnaBomoRSIeJZWMk0g1EUk1o5pbUc2t0NwCqRZoSqLexLXnMWsUWmMWi+WWRGnuhOVUFln2LBM3Fq8N1RGb4HBYrVG6WJ4YNOr0fT9fO4yxTh2hvfFDsJNdMMKgj3TD1KN2Ppzu7m42b97MvvvuSyaT4Z3vfCe33347d911F62trVxyySXccsstDAwMlMNff/zjH+e//uu/asJfa6054IADeOyxx2hvb+eLX/wi8XicK6+8csRnSguhMZAWQp3467zl3Lnr0rEzZMFKuyTeyJF0e2ly15N0ciS9PE3KJ2lqEhGDZMQkEY+QbIqRSMZJNidItjYTb23FbGlF2ZMbFjprKIUXjeJFo7XxnFwvaEUMZbBzg1j5rTT1ZinNBtKGg2f7aEvjWx7acNHKRenhtfdtzwjVmMM6NuvUEep5+LNoHLu6usp9YclkkuXLl7Np0yYefPBB7rnnHgDe//73c9ppp3H11Vfz4IMPcvLJJxONRtl5551ZunQpzz33HPvtt18QtnxoiLa2NtLpNEuXLp21cglzl4YThPcdshsfOaGd1zduJlP0yRY9MkWPbNEP9y6ZTJ7MUJRsrolswSXtaDZ6kPUNslj4pdFEHsHo0TSwEQL/cw9xbz0JL0/Sd0gol4ShSdqKhG2QjNkk4lGSyRiJVIJkSyrYx2ySEYNIPddk0H45+BbZHHZu0wj3SrXxrrhjqoJxhaOrMMEfFinDCL8D07NB26AjoCL4RgzfbMGLNOFGEvhWotaol4YnjjMjtN74d34HvXb8hXsmi1qyK8aZ508o79q1a/nTn/7EihUr6OnpKQtFV1dXeTj2pk2bOOCAA8r3LFy4kE2bNrFy5UpuuOEGjj76aJqamth111358pe/XNeyCAI0oCAAWKZBS8yiZZILykNpaKpfFpBMNk9mYJBseohsJkcmVySbd8g4HllHk/EtNmiTrBMh60cpuBHIAFugMua60vSztUcShybl0W57dMRc5sV82uKa1rimuUmRingkzSJNRpG4USCqikQoYJPHCI15YOhrx3O3jVaeETNC42i7rXZ8+ai19LCmbkQwXK/W5ZTPE80Uajqw3fJiROEoJ3vHW5Boushms5x//vlcd911pFKpMfONNUHTcRy+//3v8+CDD7LLLrtwzTXX8I1vfIPLLrtsGt9aaEQaUhC2B6UUTbZJk23SmbChLQaLW0dmDDtCq/3kyhvCz2zGHerHzafxnSG0l0PpIoZyMA2XiOkSsXyilodljONq8cBzFRk3Qsaz2ewF+5wXoegnKBLBUXH80Kceibfg+AamFcey4kQiTUSjCZoiduD+ihjYUzTQvm1QsG0KzcPjOeVrosOOuSBR1cp107Ug0URr8vXGcRzOP/98Tj311PKylx0dHXR3d5fDX5fCtixcuLCmX2zjxo10dXXx5z//GaDsJjrppJO49dZbZ7YgQkMggjAa43aE5lBeYfs7QqPgx0odoWGsFiNadqMUjBg5baELPrrg4ecc3HSBXDpPZrBIOu0wkHHI5h2yRZ+sBxnTImtHyVpxMlacbGmLNJE14xSN6rWPC0BfzStFTEUiYpIs9ZHYRlksgnSz0n9SzmOSjBrErWErbBkGTlMTTnWYk6oFicqjnYZyNQsS+aZZ05JwYrGgA/tN2KFfr/DXW7Zs4e9//3t5Nv8TTzwxbsRTQZgqDTfKyMq9ThvryGW2lt0qoy1sMZWO0PFdLNM7I1T7HmQzMDgAg33o9ACkB4LzdD+R/BDprb1kc3myuSJZ3yBjNZG1YoGA2KF4RFNkYykykURwbsbIKpshzHDM/OgYChJ2IBwlUSnvbXOYsNQKTMqEeKFQbkmUWhbbuyDRbI+4qWf46+9///v867/+K7Zts2jRIm666aZRh53OdplnAxllNDlkYloV8b4nSW79eVgbrzXoFYMdH3FtNjpC68nwH5Au5APBSA/AYD96sL/2PNwHaYN4WpOzYmStGBmriSErRsZOkE22kWlqJRtvIRtNllsjGSPCkLLI+CYZF9xt/MqipiIZqRaOQCiaDU0zHi3apdV3acEjZULK1CSiFrFkDKsphtsUiER1PKdGNI6NWGYRhMkhw06ryLUeSmL3k+nZ2rvtzHMYFY1BNAYdwWiX8aRN+x5GNoM9OEBzukoswtaHTm+C3r9WWiSFXO39QNGwyDa1k23tIJOcRzbRRjbRylA0RSaaJGPFGTKjZFSErG+yJevxuuOTKfoMOaVZwqMFHytgkidl9odCEbRUklGTo/ZoYVFHC4YRhCg2lMJUhMdgqmA/pyYlCsJ20HCCgDLDyUnCRFGGGUzOS7UAO48rHgC6UIB0f1kgdLqf2GA/sfQA88JzuteGLZDB0cNCKANSzZBqwWtuI5eaRybZzlCilUy8ORASuynoK1E2uaLPUM4hW3DJFn26Bxz2GXJpKmx7XV9VEgqlMIyKUBjjpBsKTEMFIZpFUIQ5QuMJgjDtqGgUol0TbH34Qd9Hur/KVTVQc26mB0i++meSo7Q+ykRjgWA1t0KqBZVqoWgdTcyMopWBVgY+Ch8DXyl8FJ4GTym80jHgaXB8ja81nh5/HY8SplIjWh2GUSUmw9KldSLsqIggCLOKMkotgWbYaYKtj0woGoP9QWsjPex862b0a3/HXbIbOhJEplUEi6yYpTPTCFo+ygjeobQ3zDBQvQWmhW9ZeIaJB/g6WIze0+Brja/B00Go4pKAeFrj+BrPCdK2hTGGgFS7t8ZKl9aJUG9EEIQ3FUHrYz7MC4LBj2cOY64bdDB7LvgeeFWb76HDY+06wfUxgtAbysCsFgvTBNNCW9awNBMMs2yktQ4WSPFC8SiJhh+KyIh0X0+ydaIwjVrX1qb+DL/bVBw50qvUYR8OJW6KGBgiJsIwRBCEOYtSClUy1BNA+/4w4XBRrls+xvPAddDFQigeoxlsFczANgOxUKaJFQpFtWhgWWCa4wZM9KsEY1QB0Rrfr7RUPK0ZyLv86vVBso6PP46eKKCpPEy4dm5JSTjGvFbvECvCDoMIgiCEBC4jA6xxFkDSGqU1yvNRZcEIxEL7wYI42vfR2mf9ho1c+vlr2bJ1K4YyOPvkE/no6afRNzjIxz97HWs3bWLJwoV868vX09rWBqbJLd/7d+647wFM0+QL11zNkUceiWma/Pi/fsbXb7kF3/c5+uijueaaa0Z9vZ2S81izx/yRIVZq4nWFe8cnW/DIOh6Zos/6wWL5WtEbv3USMdWY806GT1wcLipxW1onOyoiCIIwGVQQJlsbBtoO/3y0rgiF72P4PsrXxPMO13/u87xtn31IpzMc+95TOfL4d/HDH93P4atWcfFHP8wt3/4Ot/7gTq7+5MW8+OLfeeBnP+eR/7id7i09nHXplTxx538wmMnwxeu/wM//9TvM62jnsi98mSd/fB+HH3JIpcURtj68fAHDcyDVQlMsXgmxMkkcLxQTJxSQQiAggaB4VYEhg31/3mXdYJFsKDjjyYmhKq2T0sTFcV1c0VBMwnz2dixOL4yPCIIgbC8lkYCa9avbd9mFeUuW4GlNoq2V5bvvzubuLfzykUe5///9PyJ2jLPPOItTzzmbz117Hf/9+3s4+X2nEd19L3Ze5rN0t934Q/dWTKVYtusy5u26K3gehx9yMD97+FEOP/CAsH+k0vdRfPlFzDu/HZxEorUjr8J9sMZHa+15ojlwr4XYpkFr3KA1PnkT4WtNzvFHtEqClsjIlkqm6NM7UAjExPEn1DqpbnG0JbqJ4JGI1oZbGc3VNSLEilCDCILQEHz32W5e7cvX9Zm7tsX46Mpx1v5WCm2aaILw1y/87//ytoPfwZatW5m3eDGer5m/oIuerVsxHYfuDRs4cP/9sXN5tGGw08KFdG/p4bAjjuCl115jXXqIhQsX8stf/5ZisYhatAtQ2/cRaUqhYpeGczz6IT2AHhyAvh706y8HaX4lwGD1u5JsLs83qYhFa3geiEjpnGhsTMNqKFV2JU2Foje2q6skGtXXtmSLDAwVy9fGY7QQK6O5uGqvVVotljG3xUQEQRCmmZrw1+GSptqyKgZZqSAkuGHgmybaNFHaR/k+pufRGYvxf669jo9deCGGYbDywAN5fe3awFWlVE3fhzmvE2P+0WO+i/Z9yGXLw3RJV839qBrGWxaP3FBw3/AHRSI1AqFKLY3m1qD1UX0+rPWxLSKmQSRu0DbB1kl1GAfPD1onpX6RsVxclX4Uj54ht3zNHa8nHohZapzYXCNHc1UHhoxZaodvnYggCA3BuDX5aWTC4a+VYuFOO7G+uxsvGqy2t37LFjqWLMGNRDjm+OM49thjUdrnP+64Awuwc7lgzWcjmHinDRWMhDJGru9cQhkGJFLBtnBxkDbO+2unOCzm1UDtLPTB/qD18cbLQZoXzAwf0fpIpMotjnLrIxQNFYpI2X0VjU/ZcJqGIhk1SUZNJvsvrrWm6Oma1khmFFdXRVQ8eoYcXusLWiZD22idmIphI7fGdnENjzqciJiYM9A6EUEQhGmiLuGvDzgAbZps6emho6OD/v5+br/jDr79zW/i2TYq7MA2dLAGtt/bx4LeftxYNAgfHkaIdWOxmv6NiaLsCLR3BhvbEA+tYShTmWmeDgWjHPMqFJXXQ/HIZYP7hj+o1Pqodl+VXFbDz5PNky7TmGVViqiliFoG85q2nX84nq8ZGubOKru4CiNdXZmix+ZMZWTXNrpOiFuKRESRtA0+ckiRt82r/zK9IgiCME0888wz/OhHP2Kvvfbi2GOPBYLw1xdffDEXXXQRd9xxRzn8NcCee+7JSSedxJo1azBNky998YvBhDit+dznPsv//u9fALj8sktZtvtuBGN5wvkA4SgnP9VEzi9i54vE+/pIbA1DiANexMSNmrixcB818EMLEHaJB26o8Fjh15yXjmvzBvMxVHW+pnDrslC0g26reUbpfu046MwQOpMJ97Wbn8mhe3rRr+fQmRyliRW1rQ/Y3BRDJaIYiXCfLJ1Hw30EIxHFSNgQMYMxAKOUKyiHX0kf9r6VfKOUufq7qfpeQIPSqJiG2PDvt1ISrSHvW6TdCGkvUrPPeBHSbrSS7kZoyhWAfab2wxyHhgt/DXMgXG71D7H8o/UZ/uOu/jG3t7XS27uV2h/taD/mif1BqFHeodZYVJ6zvX98437WOM/oj7wVO9Ex/Mur2anqk+F5xk3To2Qb/zkjPktP9LMmTqH/NRZm/qvyGN2E8tvAb0N5rSi/DaUrK9tpCmizH4w+tNGHNvrBGAA1vvtjugjW3FBhAEpVPteAzvv4Qy7+kIuXdfGHPPwhBz3k4mcc/CEHP+vgZ4vosYIaWkZZIFR5H8NIRsvHKhkLxKUpirLM8PNLbrjKpqvPlQKM4H2H5QtGoNWWa3ufkVy4Hz3ZyQ8nBgl/XUO+/9e8tukFfMfDViaWMogQ7G1lYhLGiNmGga0xeMPzjWOkRxo3f/RnjGH0trVwz5i8BsNN45sJzfA/nOo/kNI1o/YPhyWoeIqRjg41yuk28pSfWZ1U9a+hRhyMONfbuD7xZ4yTJ2ky2HQatcbGqPnOlA9mUWEVNFYhjlmIYRW7KK3YqgEvYuDGTJxyi8IK512M9r1XG6xawznCuKnQuI5h9KbC8AqeAWjHGba+R39Nv4dbOt8yAOlNwfDd0Uimyp3nqqrfY7RhvMSm3vcxWZLxDsjWv1LbcIKwLvMcvx/49bh5bAJxsEp7ZWBjhsfhvnxujbK3sZSJpaLYysJSFpayMZRR+4cz3LiN+AMxRv3jq/lDH+8ZVX98yVSKTCY7+jPGNLDD/oDH/Kzxn6HVyPtrn2FUfdYo7zBVY+F5eA22WAzxGHlz4eTv0xqrvGpduHJdLk9ssDJU17OsytKm8eiIBYl2JJRtQ3tHsDFSPqsJ+j6yYYTdgUrfR/Ww3cF+9NpXg7ShMfo+7EhVZ3lrZajuaJ3nyWbUNlb8mw0azmWUdweJJny29G7C8wu4fgHXz4f7Aq6uPs9X5RmeN4+3rXWTh2EqG8uIYRpRrJothqWi5Wu2EQ3zxGrzDLvHLN+z7R/Wm95NNgUacfWwepfZcN3K0qahWFj5fNnA+krhlpY2jcXLx1PpwJ4qM/3brml9pPsrI69qOs8HKisObqv1sa1hu6O0PmTFtDoRs5rpSHWgCq3b/SytfVy/iKeHiUrNcbWwDBeeIG3I6cX1CzV5NBP34SrMkQITHpeEJdXXilPwR1yzywI1XHCimCq6w4+bFqYX37IoppIUU8mqRB8rXwjXvg6EIt4/SMLrK2dxI5HKCKd4HCcWw4vYO2RrYrJMuvVRM+8jXCBqsFZM9PrX4C/9Y7c+LLvimmpupXDyWbDL8noXrfEEoZ4oZWCbMWxiQEvdnqu1xtdOrajoMYRlxHmlVVPwMrhOD65fYGOmiOPl8cPhiRMsIZYRqWqNjNZaGatVU2r1REfktYwohmqsmvucwjCCNayb4uRoC9K0xnDcSksiFIvYwGClNWEYZZdTpVURC+ZNzFGUUtCUDLYFi4K0cfJr1wlWESwtEDVYaYmUVh9koA891kJR24kIwg5IsKRjBNOIECW17RsmQKmJ6WtvRGukRlh0rbA4I/Lmcf08eXcgeE5V62gyGMoew202irCM4mIzxxAdQ9nSqpkNlMKP2BQiNoWWytwA5XlBa6LK5dTU24dRFT7DjUVxYmFLIhQK357aCJo3O8qyoW1esDG2eMQ6OshMg5tMBKHBMJRJxGwCcwozb8ZBax9PF0dtuQTCMrw/Jj+svybIl3P7R7R4Juc+M8qisVfr6cxv2TVYF4FSUDMDhSqnEaar8l6NSKu+ZzKsX7+eSy+9lC1btmAYBueccw4f/ehH6evr42Mf+xhr165lyZIl3HbbbbS2ttLb28sFF1zA888/z+mnn86XvvSl8rP++Mc/cvnll5PP5znqqKP4whe+8KYQPm2aOIkmnETV701rzGKxpvM6kh2iqX+gnKXUge2GrQgnHseN7Zgd2HMJEQShLihlYKkYlhGr63MD95lb1ZE/dif/8PSYlcJQJhqNxsP3gyOtfXQ4x2FylIShdj+WgHjk+MerP8W++76VTHaI97z7VA49/GDuuftHHHrYoVxyycXcess3ufXWW7n66quJxWJ8+tOf5q9//St/+9vfaj75H//xH/nqV7/KgQceyAc+8AEeffRRjjrqqDp9yzOMUnjRKF40Sr614mpVrltuRdj5PFYuR2LL1nCoNmilcMIZ2NUd2UL9aDhB2LRpE3/7299wXZdoNDpii0QiGHPYp/lmI3Cf2ZiGTZTktm+oYlsjbrQOBIJQIDR+mBbM+ygJhw7ngVRf1+Fs1OC6E55Xi40m2W6QbJ9PxtkMEdhl2WJeWftnHnzw59z+g6/Tn3+d497zDj58zif5+BXnogzFnm/bif998TmKXpZ0YRNKGWzZ3MPAYD9777eMvDvAe049gf/6+U84bNXbK0IUDlN2vCKG1phGFPNN5j7To3Vgaz3C5RQbHMTsrXRg65deoS1i17icvEhEWhNToOEEYe3atfz61+PPQ4hEIjUCMZpwjHVdBGXH5E//M8Rg/xizV8dFAaOLSnOryVsPGOl6K4tDlUC88cYbvPiXlznkoCPZuvXz7LLoLaA1O+/URu/WfiJmotxqKRlxX3ugXdZvWEvXgg7y7gCgaeuMs2HjWrLO5hGfvanvZV7o+3745mr0/phR+2qGDxiIVeWJhq2/Sj6lZug3Hg5rdeMxyt2oWmOUWxM5Er7G6h8gNpge0YHthq2I0rGWv81xaThBWHHAgRx55JFs3LiRQqFQ3orFYs159ZZOp9m6dWv5fFuMJyITEZg3U61OGIkKJ9UpAGWSzWb5+EWXcN11X2BeaxcKRcyq6nhVBolIZR55zGohYiZoiQWjUpKRHiwjRnt8V7TWJCObsM0mWqKLa0RHa58FzTZW9ANjDHMOzov+EENub02fzuTn1ERGDG0eMQhADReWbYiPik5oTg1K4ds2Bdum0JwiFg6YUL6Pla9MrLNyeeK9/ST8XiDswI5GK+6mUCx825LWREjDCcIvXurnjj++TFfSZkHSZmEqysJUkoXtEZakbNri1rjrvWqtxxWP0cRlcHCw5tq22JZojCcuIiijM1pNfiaYcPjrcVi4cCEbN24EArHp3rSZBV0LMI2R0S6teJz25JJJv6ev/dpOf10ZEDBeP00lTyA6Q+Ew5+q8k4nNZCizPOGyIhaRsYVFRel2OshnnUqeeBQrEcUyUliqg6hrECv4RHL5YJLd0BDx6g5s0wxFoio6bDQ6p4fDjkXDCcIurVGOe8t8Xt0yyCt9eX6zNl0TdjZiqlAoIpV9KsLCpE1nwsY0VNn4TgXf93Ech3w+P6HWyVQEZbhgxGIxmpub0VpvU2BEUOrHZMNfj0VXVxfJZJLf//73HHDAAdxzzz2cd955dX1XQxkYZhzbrG8nrdYaTztjC4su4Hr5YfNsRopO3h0cNrAgH7jUALon8iaqIiJ2lKZIinl+Jx16Hu1+G235FM2ZBMkweqyPZsh2yUY0+aiiELMoxiIoOz7CpWbMlPtsBmi40BUwcoWlLVmHjRmHTekiG9NFNmWc8r56fdf/f3tvHiXLVd95fu6NPbPWrKyqt0lIQk9IwnJLWEJGMAKPBVbbMi0wMtMCAxKWBUYCZI4HPPaMxTZW+4wFtgXdHI8xfXpojy0aNJ7pM8fTaoFYNB4kg8CgfTG8p/dqzdpyifXe+SMi96x69epVva3ie068jIiMiIrIlxmf+C339zMETA1Z7Bmy2Tvc8ZrBwzZ2/ouhlNoQIOu9F8cx9XqdKNp4YJoQYl0LxbZtXNfd0PVlWadPIPNUl6747ne/y1ve8hYuueSS1mfysY99jCuuuIL3ve99vPTSS63y1+Pj6QCvq6++mmq1ShiGjIyM8Nd//ddcdNFF/OAHP2ilnf7CL/wCn/rUpwZ+zqf6mk+mmtlnI2MF5hZm+krORJ3Wyzppzu10aJ8kCRlWBUpqnEk9xaSeZFJPUexIZlhjlXkxz7yYa01VUUMa9mCXWEdJmo3cZZ3VAZrrpDDX/S3tVOmKXQ+EjaS0ZqkRM7MWcbQacnStDYqZtbCrf6sASgWzy7LY27IwLArWqf2RtgamHQMoxwLMZoCymVjJeu6v7QTKbro5NrUbr3m7axk1S9I0rREV1rEbAbYf4QYJhQC8qJlyDLFQrBp1VswqFblCxaiwIBbwdb2vdI0+DvfZeiVpDOnwc+f9GkP6gi1dX17LaIuSQjBRsJgoWLxyutsHrbVmLVQpIHqsisdeqrLsd2e0jDoGe4Yt9g6lgEjBkVoYI45x0p6qpZS4rovrbm28gFJq066u5rS0tNTafrNAOZ5AfOdkmus/VeXKtRm1StIY2W/EhqaREGbTslJYfoCZpcMWGz5j/gjnJ3uAZglxu6M6rJuOoTAhbg3g9PvK0gyuDBB0WTVBvEaioo1rYGxRxwTC5z//eb73ve8xOjrKn/zJnwBQrVb5zGc+w/z8PJOTk9x1110MDaWf2Ne+9jUeeughpJTccsstXH755QC88MILfO5znyMMQ6644gpuueUWhBBEUcR9993HCy+8wPDwMB/+8IeZmpra/ivNVKsmhI06fpDgegLL3lrjayEEI47BiOPxinK/37UeJcxWo9S66ADGE/N1Hv7nuOs5wTNly/W0d6jtgto7bDNR2DjIfbIlpcTzPDxva77mJEnWBUlzve/7XdvUarUu19exzq8JkFe/+tXs2bMHKbOBY0IMnO9c15xy5dpQUhIVPKKC15UOa0RRX3VYb2W1tZsyjFYNp8grEHkTxN7xB7B3qsLrMYHwhje8geuvv57Pfe5zrXUPPPAAl112GTfeeCMPPPAADzzwAO985zs5fPgwjzzyCPfeey9LS0t88pOf5E//9E+RUvIXf/EX3H777Rw8eJA/+qM/4vHHH+eKK67goYceolgs8ud//ud85zvf4ctf/jJ33XXXtl9oU0e+f5injnSMjhQaxxW4noHjChxX4nrpq+MKXFfiZMuGsfkbRcEyOH/c4Pzx/ifxKFHM1tqwaMYv/nkp4LuH14g7BtBaUjA9ZHUAox2/mBqyME9C4+3tlGEYJwyUzVgnYRhimiZaa+I4RqlsUNkxPKSdUBgEjGOtax4j1y6UECS2TWLbA+o5+e1R2I0GhcUKsjkCG7p6YMed6bAnWcf8i5deeilzc90DYB599FHuvvtuAF7/+tdz99138853vpNHH32Ua665BsuymJqaYs+ePTz33HNMTk7SaDS46KKLALj22mt59NFHueKKK3jssce46aabAPj5n/95vvjFL6K13rEf1YH6jxn73sME5jCBM4pvjxE4owSFMnW3xJI9Qii8gXnJliVacHAzePQub8bqsAzJgRGHAyP9mUqJ0izUo7YLKotfzKxF/HCmTtAR5JYCJotWy6poB7pTC8Mxz57sh6YMw6BQKFAoHDuNdJA/XWvdBYdB873rtgsom7VUcp1dSus5FYmKxY6VGiMIu6rDOtUqhaXl1ibdDYnck9KQaEsIWllZaWVFjI+Ps7qamkSVSoWDB9s1ukulEpVKBcMwunKtJyYmqFQqrX2a7zV/7Gtra4yMtAnb1IMPPsiDDz4IwD333EO5vIWmkO94F8Y73004P0syP0OyMIOamyFZeJpkfgb101mi+TmCxCBwxgjs0fTVmyAc2UM4VCZwxlmWRXztkOj+m66U4BZMCgUDr2DgNeeLZmvZy94zB9y0pxncPltrTaUecXi5wUsrPodXfI4s+xxeafDIoSqrfrc7pVy02T/qcmDM5ZzxgL0jzWWPYefsDx/Nzc1hbnNXql5wNKdB6zuB0vn+RuoFxCCobDSvlNra7+IMlmmaZ8U1J0AShohqFbFWRVRr2GtrOPML7XpOUqKHiiDkjlzztv5a1vuyb/QjGPTeek9J1113Hdddd11reas+tHK5zBISJvel0yXd7xtaU6jXKFTmYXEOXZmHxXmo/BP68BxUFmClkgaODDeFhjtOMLaPYHQvwdA0gR4nCEdYWSkwpyyCaPDTumWJ1FXlrW91OJ7A7rA69juwf8rg1VNFoP3UUQ2SVjbUTPN1LeSRF+ssPdFt5Q3bsuWCaga5m5bGmHvygtw7qaa7aKfUvAkfjzayRAZZKkmS9L2/kY4cOcI//uM/bnmU/HYD9GTorOwGWCyk0/Rk2pAoCLqqw0qtTp+OaaOjoywtLTE+Ps7S0lLraX5iYoLFxcXWdpVKhVKp1Ld+cXGRUqnUtc/ExARJklCv11sB6lMlIQQUh9LpnPMHBvN1FMHSPMbiPFZlnqHFeajMoSs/giMPQWUeOm5GSkjC4SmCyfMIxvYTjuzBL5QJnFFCYwg/dFiqSQJfkwwouSMkOI7A9eSGsY4LxlwOTvT754uj4/z4n492ZUMdXQt5erHBt3+6iuq4z7im6BlrYbcypCYKJsYZFrc4VVqv/PXq6upxl7++5557+MpXvsLKygpPPfXUuhApl8tccMEFrViK7/usrKy0lpXauMKrYRhbHiXvOM6uS3k9KZKS2POIvXZDonK5DKdLP4Qrr7yShx9+mBtvvJGHH36Yq666qrX+z/7sz7jhhhtYWlri6NGjXHjhha3MlGeeeYaDBw/yzW9+k+uvvx6An/u5n+Mb3/gGF110Ef/wD//AK1/5yjPi6VRYFkztg6l9g4GhVNrpaHEOKvOIxXm8yjzu4hzMfQ+enId6tXsnw0SPT5CU9xOWzsEf20dQnCR0x/HNYQLhEYSCRl2xXEkI/MFPi4OsjtKEgaEkL3ddLt1X6LI6oiQbnNcERTVNpT20EvLoSzXiDlqYWZC7fzS3xXTRwjoJg/POFJmmyR/+4R9y2WWXUa1Wuf7667n22mv527/9W173utdxxx13cN99922q/PUb3/hGbrnlFl73utdteNN1XZdzzhlcukJr3QrK92ZyrTcdL1BM0zyhcSg5UE6tjjkw7bOf/SxPPPEEa2trjI6O8uu//utcddVVfOYzn2FhYYFyuczv/M7vtJ7qv/rVr/L1r38dKSXvec97uOKKKwB4/vnn+fznP08Yhlx++eXceuutCCEIw5D77ruPF198kaGhIT784Q8zPT29qZPfysA0XZlnVMWsBBF4BSgUwXFPCYS0X4fFhdSyyCwMFhfQlRQiLFVA9/wAh0ehNAkTU+jSFOH4PsLhaXxvIg2OK5vA1wS+xvdVOt9QW7Y6LFdQUwmznYHujoB3oyMlSgooF8xuV1THaG73JAe5T7dBWrfccgu33HILv//7v89XvvKVVi2jt73tbXzrW99qbfc3f/M3/PCHP+yyEJo6ePAgzz777Lp/YyevuemC68zkOp4SLGEYbhoo6wHDdd0+2OzZs4d6vY5t26fV//dOKh+pPEBbAcL8f/4/mH/ov2CrCEvF2CrG0gm2bWE5NpbrIgpF8AoIr9iGRnPeKyIGrGMHagDpOIblRajMZ8DojWnMQW9tI8dNgVEqIyamoDSJLk0y9LKDzCU2gTVKGAp8XxP4iqDRBIdqgWSQBsY6XEFiampKUYki5sOIo/WImVoav1gNuik07hoDs6H2DtsMO9v/Q+68OX7zm99kfn5+W48/OTnJtddeu6ltDx06xFvf+lYeeughXv3qV/Pkk0+23rv00kt54oknWsunKxBOVL1AOd5R8kEQHDOGYlnWlq0Tx3HOmNL1OwWEMy+CdIL61vQV/PtXvWLDbSydZLCIsP0Iqxp1AGQFSy20YaKi9JUEWwosQ2AZEts0sGwT20ony7GxHRvbddLJc7E8D7vgYRUL2MUhbMfGlO2gujBNKE9DeXqwW0prqK5llsV8alk0LYzFefRPX0jdVkAVKAAFIWG8BKUpRGkSJlJrQ+xL59VYmUi4+I0mIFQKj2zZ9xVLFUXQiPqsjiEsLpIWlzlFnBGJ5UBsgE/CmlIsxRFzQcSzR30ebqzSuXvRln01oppWRsk7s0cf12o1brvtNj7+8Y8zPLw9PbLPRAkhsCwLy7K2FCfUWhNFUR8sbNtmYWFhIFRqtRqVSqW1/WaAstVR8mdDL5RdB4TXXryHf3GJx0JlmSDRRIkiTDSR0ulrcznJlpUijDVhFBNFMWGUUIsTwkSl2yhNpCDUghBJzIAvhAb8bFrpfEMBtWxKn16F1lg6xtYJFgpbaCyhsQUpbKTANiW2KbFMA9s2sS0Lyz6AXboAe9rAMgS2IbANiZOEDNUqTCYN9Oxh3JUFnNVFrOUFzOeexHjs2wiVdI2ctorDWKUywxNtaIiJKcigwfAYAElMal00OsAx0OoAC8kUDlM4/AyACYYJWBBLTQPFWpSwOBvxg0M1HtGKhlbUSdAGPSU/2q/NCrTH0maf5Ldb21H+OleqZuFF2+4u+73Zp+VOoGy2KGQTKM1tjhcox5PpdToAZdcBIVmCtSMNHGEwbAtsJx1IZhcEtiOxnTTYatkCuYVsGqVTmLRgkQEmjGLChk/U8AkbDSI/IPRDwiAgCiPCIEqBEyfp1ARO0gQOREgiabIqTSJpEUqTSJqE0iLK5uN1G4x4wMF0GiGdzgWpFWPhGpP+EpP+ElPBMtPhMpP+MuXnfsKE/zheHHQBI5Ymq8US1aESteEJ6sMl/JEy/kiZaHSCaGwCa8xugakoBaaSyFggYiACHYGKIAk1UQCFQDEcGkwnNr1M1WiihqbRUKweTfiRbvBdajR0go/CLUhGiwalEZO9o21gTBcMTqX3ZLvKX+faHnUCZSuWWrMXymb7ofi+f0LNtTaCx6WXXrqVj+CY2nUxhEMvhvz0+Zh6PSIMNWqDroqWncLBdjrA4ciudbYtu97fCkQ2K50k4NehXoNGDRp1aNTQ9Xo2XyWp14l9n7DuEwYpcMIgJI4TgiAkShgIkuZ8KE0i2yO0XSLLJTIdBODFDYphnaGwxkiwykiwypi/QqmxzFi41nWeCsGyPcS8O86CM8Zc9jrvjqeTM0bdGly6whGCEcNkWBoMCUlRGhSQuEhcLbG1xFYCU4tWtclOBVrRQFHXCVf+rMH+vSNk7YaRQmAYYBqpa8+U6RHSEcO05rdL21n++lOf+hRf+9rXWpbFzTffzEc+8pG+v3k6xxB2SmfKOIT1mmtttkhkZy+UN7/5zZx33nlbOo88qNyjzi9QHGvCQBMGiijM5sN0uT3fXJ+u2xAilsByxIbQsB2J05rfWYj0XrOOoxZIaLThopvrOuCSrusHEBsM9lIIEiHRZtqWUCqFkUStkZZNxaaNXxihURyjPlSiOjTB2kiZ1eFJlkcmWfXGCRHruvGiWCMSMBKBkQgsJbCVxBMSD4OCkLzmZ0327xkZHH8hddhpNEqnDVEU6asWWY8vAboFimxCIDvXITrey0Ya070sOraXdC8LITqOdeJAyoFw9qrZXCsIAvbu3UutVtvScfKg8gYyTYFpCgrFzfvu4lhn8OiHRpRBIwjSjJ21lYQw1CQbDJg1LbqgYdsCq8N91QcWWyCPo9Bep4Rppamrw6Pd64/jGDoKM3jUuuCi6zWMRg2jAyS6UU/HW9RWoVZNLZwgwIxDhlYXGFrd4IcsRBposB1wvTSza3gURsZhvIQYGk2zwbKML+16xG6RyHEJbQ/TMnEsidKglSZRECcapXS2DoRO02VNZH/0R6dTJzyasFBoErLWk635E3+2GgSYFCQ9AKIfKBJYrPo8VYkyd51MY06ZRWQbsiu+1F4vsKTsSmjIdfpJStlyGXmet2UgbKRdB4Qnn3ySH/3oR9i2TaFQwPO81mtzvrm83pNWEyJeYfMQSZJuSyMKBlsjga9ZW1WEQbQxREywHdmyMtrwkAOXk2T7DEFh2WDZ6Y25c/0m99daQxh0WSl6pYJemE0H8i0twuoyVFdT6PiNFCqV7rRR3fMKYGSTCzT+9fuwDl6c+YuMtMhU72QYICRayjRGgyRWglgLlCIdwa1B6NQykDp7yh90tR2uKSGzZZF9MB1Tdsh0lDGgdQacjmWtMwA1gaSb1oxGqwH76/STeGauyv/6g5X+c9uEBLQB0QSG7F5uQUTKjm37AbMRjNL1/fsbIgfSqdauA8K5CH7+goPUopBqGLLWCKiurFKLImaiiFoYUosialFEJAVYVh84Ol+b847jbPhlNgyBVxB4BUhvWcdWkui2GytQ3e6rnuXamiIM1AbenNXsYbsjBtKCSXud1ePiOp6S35uVECIdL+G4MJZm2Bzrr+gkScdkNNNrF+bQCzMwP5vVllqEQc13shslKkkndPuO2zFISpD2QelrW5/BIjasVtA+kiaRMEgwUOmzO5IUFDIBQwiMhPWwkX0GIKRIb4ISpMwsAdkNFXEcN0mtNeeOTPL6g1NdCQ1NV1tnokKYqI7MunQ5HJAM0XLTZcursepaDjveP9FnDilYB0AdsJE9y4ZgdGiNOPAHw6cDXk7vsXrAl5dk2YUxBGd1jTE/IKpWkXGMjJP0dZ0RlEpr/CShFkcpQIKAWpRCoxpGrflGEpMYBtqy8DpAsd7rThURU0mHCytzX4WBxjI9lpZqRL1gCRXxBk3MDJOWpWHZAqcVC+m1RNpgMcxTMOpba6itZQP25tGLc4TnXIAzPpHGPJKI/uHaIrUQDDN9bVoNrTsxtHxLqjkl7flsfSyMNiikSSRMImkQSRMlUnvCIAWEhcZEYzQhkpkQelC6ciYpm1VQm6cm+sDR3OZUxhAStUH6dqIy0PTAp5nanWjCuLn/Rvv2HFtpYqUJYtVVj2srMgR9wOi3hDKISIFttue7LKNjWEJtsHVbVsfTCCsfqTxA29pTWakWHIw4bsMiibvBEaXLxjoA0Vrjq4R6FLMWBlTDsAWNWhhRzeZDIDEMsC2cHmuj1/pw3RMvrbHRF6gJkShMYx9dAfYesIShJgo0UbT+10Ya9AXTB1ojHS4tcwcg0ntz1EqlgyfiGOKoY75juffnII3UP2eaYFjtedNKQSJl29pQSQ88FIlSxAoiBRGCSAsiDCIhSUQ3BAytsLXC0gpTawx02z0lDLQ0UMJAi8HwEGgqc6scfTbAccDxDJyiiTtk4ww7aROonsq5Z4Oa3+2kA0ZBh+XTawm1QbQOfAaMSwqP8X6UHE+35MEyO11sAyyhTmvmba86lwuKG2S3bKA8qLwZSYmyJcq22FTBZK27QZFNRrZciGOG4hiRQcRQal33QZAk1KKItTCgVqtQC0OqUcRclFog9TgmlgJlWugMIBu5sI7X+pCGwPUErgebzc5WSm8IjU6orNRUCzjrnwMDoTHYGmlaIsfncxZSgsziHwOktU6tiC5YRG1o+I0uN1N6UNGGQy8sHBPDMDGlZFAH6/aYFZVNgiiR1BXEPR+VACwUlo6wVIKlEkytkVohNWghUcLAqC2hjlRYzvp4JIZBWmm/3j6WjnGSOo5u4AgfR8Y4ZoJrq7Q8ScHELZo4ww5GMSvNUiiCvbFb9FTLkAJPCjzr5A/u0lpn4F8HMJk1E8aqC0bt7TI4bWAJNaKEFT9dXvVjKG7//0UOhK1KCJRloSxrc9trjUySgRCRcYKbQUSEUcsCWe9rHWYAqdYDaitValHIWjMGEoX4SpEYMj03y8LyvNZo2F6IuK67pdGRUma1jQbd6dZRCyKdcZFAD0z3Xam331v/HOiChNVjiZTKmuKQQDT981lQd72bmhCifVNfRzpJ+mGRZPONeuaWSs/5yOwcH/rk/8x8ZQlpSG7+tbfym+96F0vVKr/9kd/l0JGXOOfAOfzbf/fvGB8fp1Kp8NtZ+eubbrqJuz/5qfTHX6vz4Q+8n0M//QlSGrzm9f8tt3/4dzvPHMtI/e8r5YSlyxL2CJ896nlKUR3ViLNR5JogkviJRaBtAjwassCyMU4ohsCX6Wj65faRzaiGE87iBMs44QqOquPg4wof20hwrQTX1lie2aoB1qr31QRJc94rgLX9Nb9OBwmR/R8YBoVN3hJORDuVapu7jE5XaY1IVMtlZQyAiIiiLoCs5zmOlUpdVWGUBcyzGEgUUY9T95UyjLSHq21jZhbIIOvD2iwAt0laacIoS+ldd4yI6kn9Tb/SF10G03v6a+a0fO+CrsCtbM3Tgkh72mxgV0GcWhmzR48wNzPDZRcdpLqywr98x7v4y3s+xd/+5/+bsZFh7viNd3Dff/gyK9Uqv/+hD1IPI3707HM8/cKLPPX883z6E58A06QRRnz/+9/nta99LWEY8va3v533f+AOXvf6N6QWRvZUGSnNky8t8fnvL7fOJ61Aa7Uqz/Y2Q2pWoE0SRVgNCJbr+GsBQS0iqGcgCQRBbBAkFoF2SEQ/MIVKcMJlnGAlBUcTIM3X5nxSxXCdbkgUOgDSAZJB6/AKaep0h86I3/M2Ky9ut9skBNo0SEyDxHHYIO6bSmtERxykMwZixDFD0sBaW2M8ipBxgqnUuv/5iVIpOJbXqM1XqEUhS1HE4SiikSTEUhAbRjr4zLEx1oHHVq2Pro9BpoFsp7/99PofhUpjHImKsUwjbSCTxYbTBCPdmk+SdPtjtrZcByLp+k6ICIRhIkyTPRdcyJ4LLgRguDzNwUsuYUZY/D//8F3u/49fhlKJm/71zdz07vfw+x/5CAXg1a84yD8/83RqbcwcBsATgmteth89cxjLsPiZgxcy95MX8eLX4Bkm2GbqDgP2FctcfUG5rx/30bWQRw6tsTagAm1nA6Q9wzZ79xbYMzS4Aq3Wet0aVn7DJaiV8RuKlUATRM1c226ZOkwtjaTaBsViBbc2j117HjeDiBXVEIM885bdVYV4aWSUxLTS6sQ9FsmgdXhFxC4bvLdZ7TogeMvfQbz4X5kQLsrw0NJDSQ9tZK/Sa63XhtuzzgVxmn6RhEAbBolhkDj9PnK7XGZlYCB9sPUho5ChIGQ4ijCSBFNp1rMNlNbUo4jawhK1aI5aFLKQpe4GaGIpSQyJtmyEYyNdF29A/MOyrG1xJwgpsrEXRpY2Kxia/z8xg6PH3Fe3/smWdfsd3bM+MPYyX/zlDc6jDZGXjhzin/7pR1xy8eXMzy9QmjpALKD8soMsVJbR5T1tS2RiCopHYHpfd9A7jllZmOPBr3+d9/6rG2D2pfb5GAYYFtH8LCNPPc7IxCQXZ30zOH8ShvYihKAWJl39LJrNkH5wtM5DjdWu8x8aUIE2LV9uMz5kMDS88f+VUqnF1l851ybwi/j+BCsb9esQGsdMcIwYhwCHBk5Sw4nXcMMVHH8Ju7GI9JdhdQbdHFEftmsGrYt5xx1gpTSB0WORDLBScAstCJ9N2nVAiO09MPkaoloFkTQQyscM5xCqgVQNhN44pKyE04ZHB0Ta8x2g6QHOaQcTKVG2jRocY+2XUl1xkGY2lohiCAPcIKQQx0zHCZZWWHp9V0ujEVJdrbVcWHNRRD2OCQXEUqJMEywLMoC4A6yPnUivFK1/smXR9U6XtCMYGTNSq0NlloemwxpJl6trNe6483Y+9tH/CdtKe2DXax3Baa1ZXU5af8/3IU4k9dhNrRFHIFxQKua3P/JR3vPe3+KcK69BqwjRjGdkr7peQ3/z7yHsLkiI7UBpErc0yfkTk5yfwUKUJuHCSRjbT4hkttptVRytRjy76POdn651pXU6hmBPT+XZvVmvi3IhrUArZTNZYeMb50ZWR7Nyru8XWPHHCJrZbVY2ZVkQpkXWRlamGVZmjCMjXPw0eJ7UcKIVrGAN0WiXYtHNwZHVNfT8bHuwZNSuG7QuVJqj5wf2SumxSHrXFYrgeKddPGXXASEqvBxdvprV9fxvKkrBoBrIpPu1e52PUA3MaAGRNGGysWNHCRvdZ5W43fDoeb+5jgF+25MuKVFSHl8gvdP6yGBCGKL9ADMMGY9jypkFYsO6udh+tUFtabUV/5iNInyliARETYDYFsJ2MLI+E5OTkxSLRaSUrJVv2JEfX+tWZ8AgaERRxF2/9T7e9ra38rabfhWtNZOTZer+AlNT08zOzDBRLuMWZAsizQfPNJNVo7M78R/8j/89B/afx9t//VbWatAcSicECFMgLVjeP8ziu76Eo2sUgkXcxgJObRGrOo+5uoBcWYBD7T4ZrZudkJhjJfaXyhyYmErLnJcmEZNT8IpJ4vE9LCRWd8e8asSRtZDvH60RdoxKMwRZm9UOqyKLX0wPWdg9bVaFEJgWDFkGQ8dIcxtkdRjSo7JYbfXrWF7SBA1Ikh5qkALXcQXOmMTd29+TvNk10DYSjLDeV/dLd9b06l23uoyeOZy9X6ez1MBAqAgJntcNiVZAvj8o3xmoV4XBxSFPVKfBXeY0k7RQ0gJGOO4sXx234dB87YSI8rvfjyqYzXkdbnxoYWWQ6HVjeRsCRUkXxMkNBLckBMoy02D1ZqQ1Ikm6rY84RgcB2g8gDBmOY8aSNFffRmAMuskrCFeqvGTZGNJAaU2idVaPiLR8REfEWEiJkBLZMW0HPAaVvxZC8KY3vYmvfvUr3HHHHXztgf/E9df/Eq7bvkk2x2gMjxqt4/ybf/PH+EGVez/zJwhE12DrpiWiFUSRYm5WEQY2Su0F9qYHdbNpKr1+R0YMJxWGogqFcAEvqODWF7BrC1jPPI2x+ghCxa0bmQSmCkWmSlP8i4nJrE/GFExPoi8pUylMMCM8ZqpxBzBCnlpoUI+6R4RPFMy+ftxNYBSsja2+QVZHuVxiYaE7HXgzVsexepOnVscQjjfShsZET9fAdcZ1aK1TK2NAcUg9aF2zLlhlvruoZEcL3c6z9H/rI3DV6zf8rLaiPMvodJFOBlglfgseLZfWIOCojeusawywiiQ4A2Ml3RBxu9xgWtidfpPTS61AejuVV4Qhie+jg4DaUBF3ZBSBRuj24ON1DoXSugMeul1ziDY8kP0ASQvQ9R95u8pfDw0NcdVVV3HhhRe2msPccsst3HzzzX1/szkYr3lD7Bof0pOlNagsSmuYhVY44QpeYwHPX8TzFylEixSDRdzGIk59ATOqd/1tbZio0XJqWUxMIienYGKK6ugkR51xZuQQM3XF0WraYnWmGrLidz92jbpGX8e8ZlbUsGMM/JxP9Pe8fqxDba43edPqGNCTvNPqcBx5XKP4tdYQ+AMtktLlV7Fsb81KyEcq9+i0BMKJSKsuC6TbKknhUbA1QW2px2rx02mDMZYaY6BV0oaIO8AN1oSJc0phMrCMQ/ZoLZpV47RKRzD3rBe0K4wOUlpwTndM2eFE0wppAkQOBMhJveZNSmtNktAHiWjgwENNUq1irC7g1hZwM2ikUwoRJ1ju+25F3hjxcJlktIwen6QxPs386DTzhXEW7CJzsWC2FnN0LWSxHnftXbDkwH7cl547Df7qcZV+2PLns+kugRtZHVmsowmNXphsYjR5XrpigHIgbF7rXrNWCBUMhEivJSISvx8oDC7hAaCR3UH2zAIZBI9+N5iT+lhPQNtS16ddehShdQYPhVYZPJrWBxlENgCIblofutP66HZftVxYhrGh9bGj13ycavYUiXqhUQ/RlQXE0gJyeR5jZQGrOo9dS2Mbnr+IobrjbrHh4nsTBMUy9aEpZsf2Mz9cZt4bY8EusojBYpiw6EddxfRsQzA91N9ide+wzWTRwjzJhet22uo4/+WT+MHWqtrm4xA69JOV/5dvHf4mKpGYwsaQ2SQcTGljZOva893rDWljCifbJ91Oiu1JlzwlEjJ9mjc81PGGGrRG6GAdeGQWS68bLF5qu8E2hIlAS3cAUDZKE24H6U8UJi01b9Q0fbjpzbbzf1u33oOkCRAAlVkfzbSjbE8pdGaBiH43VnNwRJJ0WR/tfgyi47xktwvrFOXWN8vB09dTxCEN6J7ft08ca6JA4VeWiGfnUYvzsDiHWFrAWJnHW11g5PDznPN8tWs/JSS+U6Lqljk6fICXivuYKUww745SSQq8UE34nqoRdzznSmDCNZkqptbFvhGbA2Pp6/SQhWNuf/rodmZYDYp1WGad8p5tP+3dBwSR/RsmVeoqIFERiQ5IVEiiQ5TeSsEogSEsTNkGRQoVB0NYKVS6gJKCph8+zX061zsY0spebeR23ei2Q0KgRXbTZvz49tUaocOe+EivBdJttZjhanvdMUL+SjrMDv0Kxui5KfTIyoOSjirrXE5vst3vb1kdAEHK9WMWpBWG2vBIrQ/dLI6XrRfZIU3IurV1ltTOclwzx7/SUF9YwDh8hEDrLIVXoEwTbVkIx0Y4LmaxgFUs4njeKYaIgVcswzll4JKB22m/AUsLsDiHWphHz81hLc4zvjjHxPLj/OzhhxC6+8EitIeZGT6Hnw6fw0uFPcy4E8wHwyzUXJ5bMAh6/lOGpKRkmpQciynXZKqQxi72jdiMFoxWAUbL3v5y8FvJsAp8xb79RWr15W09F8hdRn1SOiZREbEKSHRIokLi7DWFRkDcmg+z7SISla1vbZuubx6nc5/me1uRFGZmmXSDogsqTQumBR+bkeESfj0aAB+r3woSDlIMDuCdFtIadNSdtTUAIivWRdiFCaB5g1XZzeNYX3mRVRQdDI02TPq32/GYSfZz1S3rQ6XBx8yFVa9UKBw5ig24UuIZJtY6A6gipajHEX6iCLQiFIJEShLTyADiIF0Xq1jAHhrCcE5tTGiQdJJQkprKc8+gF+fSJkqL8+hKanFQmU8Dsx1acUc5UrqAwyMHOFKY5qgzzpw5xIJ0qPY8cDkIRjAZEQYjGIyZJhOWSdmzGHMNnFZDqpPbUySPIQzQmRxD0FplIAk7gBEMgE+UAaQTTr3w6ThGZu3EHfDZSmFegexyiw1yq7Xh02MFtVxtg4DVCx8LsUNWz7r+9AwOqRunAxJapW6s1vp1tttQvZDoXtYtaPTDZTvcXH3XnLmgolqdqFZLM7B8H8IwHaWeKCylsIXAFRLPNHHWsRoSpWgkCQ2VEGhN1AEQbBvhOBiei1koYhUL6cDCkwCQjX7PWuu0214GB93RL4NKanmwutzavmHYzHoTzJRexpGxA8wUJjlqjzMriyxiphlnmSwhGM1AMaTb0BgRJkXayQM70VMkr2V0lkkIiSkcTHkcRXq2oLSOT8JYaYi5+aNd8GlZMF1W0GDLKG661VRIqOok8XIGn7YVpI4xyns9Na2Ubvh0WzDdcOqFT6d7rW0Z2WIMR7q0ml52+t8xWiPHO2/xx0RnHyTay6LDEmkvJwgdtbfbUJ3wSKHRDRPRYYn0wAUx+OabVXC1RkewRkfW/cuKtEB2HUjCkLBaI6rXUA0f5ftpIcUoxlQKS6eDCEekQUFIPGFAlEBUh2odqKTHzJpL+Soh0BDJFCCtQYSum1kgRaTroHcAIEIIKA6n07kvH+jC01HYgkOhMs/5i/OcX5lHLz4NR7+dvpfERMJg3h3nqFdmZnQvM6P7mSlMMmOP8lNcYt0GuilgwrEo2SbjpsmoNBjRBsWGgVc1UCFb7yliSwyxcar5VpUD4SyXEAJDmDjmEJ51nH7+45TSqmXZdFs+He61vvW9QGpbQYmOCJJqh6stbMFnM7ps/F3sGX95xxqRgUF2zLfCu1kjGpH1MssK1TXDv0J0bCOz9c1t0htZe/t0/qWXXuJDH/oQ8/PzSCl5x80385u/eStLlQrv/8AHOHzoMAcO7OcLn/8s46MjVCoVbnv/h3j8hz/i7b/2Zv7oEx9FqBiB4r97953Mzi+QJAlXX3k593z8dzG7nuTT80pWjzDu/38bDFTsKbUyYKyJYdt4JRuvtPH3JQB8rQl8n3CtStyokzQaEISZBZJgqgRLp64Xz5AUTBNPaWQQQRDByhrQ7pXtJzG+UoRAJNpFFLVtIV0X0/MwCh7YDsrMutydoIRlp3WjpvcNBoZSsLqEszjP/ko6sTiHrjwDP/02VOZJ6nUWnVFmvYkUGMUyMyP7mPEmeNEcwe+oNCCBctFk74TNZMFi0k3BUTJNRqSBSEQr9Xe9niIjoz4T0yd86f2fRe4y2h06m645tXqiLrdZpwXTBM6QsY+CO5pVMlVZ0/r2PFqn65o5PNlyOt85NO14lYJhfm6RhfkKr/yZS6hV67ztX72bz33hf+Fr/+n/YmxslNvf/16+8G+/yOrKGh/9vY9Qrzd48omneObp53nm6Wf5xKf+sAWk6lqVkeFh0Irb3/cBfvVX/iU3vvlX0uB8h8USVWeYqD/SU2rlWGNNZAYPdyBENsrw0tI+LldXHMf4jUbbAvH9DCARRpK6sGzAEQJXSoqWRcGyMNb5G2FmfQRapV3ozHYVXum6GF5qhWjTSoPrxs64J3Wj3ueWSqGRLq/UQ466JWa8CWa8cvo6NMWMO8Ga0d1UZNwmLfcx6rYr0GYD9QqWJAo1U1NlVlYrWzrX3GWU66xSavWkrqGNtB05+S1IZIAYBIx0G9U3v3/vEPv2ngtohodNXn7heczMzPFf/8s3+NJ//DyRanDDjddxyzs+wAd/91aEDZdefh7PPP8EkWpQDWfbJ+LASrhKFMXU/TVqyTKL4Qzd7jDBYrTEQ8GhtgvNGsMUNqYwMRCYQmKR/vBNrbHQWChMFWORpB3ZwjqWDrFVhKUCrKzj86Akg2Z68MAyKgMgYkoP2/XQhVG0nNoQJonWLIQhjXqdoFYjrtdRfoAOAkQUYWR9QBwhcQDPMBi2LIqWjRnFmfuqW5FSaQZWqwqvgbZMsB2k52J4HtgpPJRpouXmEgWEV4AD58GB8wZaGaU4prS0wCtbwJiDypPoxTlqyyvM1DVHrVFmvFILGI8Xyjxkd7v5hqRiryd4z9UBP7N3++sZ5UDItSv0vaP/G8v+T7b1mGPuy3jV3nduattDhw7x1BPP8bqrr6Oy+D9w8Nwr0mO87FyWKquMu+eTjTSgYJZwjCIjzv4ui+Zd77yVHzz+Q17/hv+GN9/wVgxDZlZPa5QCluFhywKxDoiSlY6suHY23JaTDISVgkWYmMLAFBITialDrGS1GzI6wdRJCh8hMEknK6s/ZSEwkFl8yMMwCkijiJRFMAstC8QzPEZMD11yUWUPLUt9pehbPZWThDnfp16rEdTrJPUGSTOA3uwDolMLxBWp+6po2RQtCzuIYK3ad92J1mkGFrQAgm2lAHHdVuxDmQaJaaZlyAcARJgmTO6ByT19wBgBhrXmYHU1tTJaWVI/wK9UmFkNmA3gKAVmvBKz3gR6dBn2vua4/x+PpRwIuXLtsGq1Grfddhsf//jHGR4enGzefMJPxx0YCGH0JRz873/9N/i+z5133sn3vvtjrr322r7jeGMTnDtxxbrnkrrb4o6YTDsbbWAcpycLrjOVurltQwdUs/E8rWOcQJJBEx4mogsmJgJLCIwWWExMafPC8w4CC0O62eTh2B7SLWAYRQyjiDSHkcYQ0hhBmiNI6RLHiqP1Oo1GA79WI2k0UhdWGGUWSNIKoDfdV02AuGYAK6t95660JmyNAZFdY0Ck64LjpN0JMwtEmUYr/sTwaDqdd7AFjQJwQTbpwG8Fv0uXXsbSlj7dY332uXLtAm32SX67FUURt912G295y1v45V9Om+mUy2VmZ2eZnp5mdna21e96M3Jdlze+8Y38/d///UAgHEupu83CwAKjeNz7H4+UTnoSAgbHfNrwidoWjQ5JEp9ENbIpIFABdRUQ6yjLbvNJkhpxtJXBpKmzzURiCpnCxTIxbatjfE9zcpHSA20TJyZJLNGhQIYSKzIwIoEZS6xEYikDRxt40qJo2ulk2RQsC+gvNaG1zgLoHX1AbAscB+m4aMskycChTBM1vQ/2HsAol2EHYoI5EHLl2iENKn8N8KY3vYn777+fO+64g/vvv59f+qVf2vA4tVqNarXK9PQ0cRzz0EMPcfXVV+/06Z+wpDCQhofFztTub2piYoLZ+aNdbrFYNVDxGipZI4lrKFUjSeqopJ6+p/wMQm0ApaBpECdVIjQNNLHWxGgi0tcuZ1uz3cImZCoHjyE8VcTVBTxVwE08XO3iahcPj4LwKAiXQsPFk866VQlCnVDZOwF7zjnRj65PeZbRLtFuvOZTUeitU9tV/np8fJx3v/vdhGFIkiS89rWv5e6778Y0+5/nTvU1nwpt+3d7g1L0Oq6RJGspYOIaStWJk3oGmEZq8WTwaMKkBRStiYFISGIEMaIFmlgrIq2IdUJCjNYaB5cCHp4u4FGgoAt4KTpYc8pc+IobtnR5+UjlHu3Gm+NuvObdeHPcjdd8Wn23N1GKfnADre5S9LoDJjGaSGsiBLG0CITF2P5fJXav3NIp5mmnuXLlynUyJCTaKJIYxU27k1raoBS9rRo4LYj42MPnsrC1cmgbKgdCrly5cp0OOo5S9OXRnQkqn0a1lHPlypUr16lUDoRcuXLlygWcRi6jxx9/nL/6q79CKcUv/uIvcuONN57qU8p1hss0TaIoGpiNczYqjmMsy+IMzhPJdYp1WvxSlFL85V/+JX/wB3/AxMQEv/d7v8eVV17JgQMHTvWp5TqDVSqVOHz4MEEQnL7NfrZJWmuklExPT7O4uHiqTyfXGarTAgjPPfcce/bsYXo6red6zTXX8Oijj+ZAyHVCEkLgeTs7KOp009kOvlw7q9MCCJVKpWv4/sTEBM8++2zfdg8++CAPPvggAPfccw/lcnlLf880zS3ve6Yqv+bdofyad4d26ppPCyAM8nkOetK57rrruO6661rLWx2McloNZDlJyq95dyi/5t2hnWqheVpkGU1MTHT5PRcXF1tD+XPlypUr18nRaWEhvPzlL+fo0aPMzc1RKpV45JFH+OAHP3jM/TYi3U7ue6Yqv+bdofyad4d24ppPCwvBMAxuvfVWPv3pT3PXXXfxmte8hnPO2f5Kfk197GMf27Fjn67Kr3l3KL/m3aGduubTwkIAeNWrXsWrXvWqU30auXLlyrVrdVpYCLly5cqV69RrVwKhM1Nptyi/5t2h/Jp3h3bqms/ofgi5cuXKlWv7tCsthFy5cuXK1a+zBgi/8Ru/cVzb//jHP+aee+4B4LHHHuOBBx7YgbPKlStXrjNHp02W0anUlVdeyZVXbq0dXa5cuXKdLTrrgPDjH/+Y+++/n+HhYQ4dOsQFF1zAnXfeiRCCxx9/nC996UsMDw9z/vnnt/b5xje+wfPPP8973/teHnvsMb761a8SxzHDw8PceeedjI2NnboLypUrV66TpLPGZdSpF198kfe85z3ce++9zM7O8vTTTxOGIV/4whf46Ec/yic+8QmWl5cH7nvxxRfz6U9/mj/+4z/mmmuu4e/+7u9O7snnypUr1ynSWWchAFx44YWt6qnnnXcec3NzuK7L1NQUe/fuBeDaa69tVU7tVKVS4bOf/SxLS0vEcczU1NRJPfdcuXLlOlU6K4FgWe0O1VJKlFKb3veLX/wiN9xwA1deeWXL/ZQrV65cu0FnpctokPbt28fc3BwzMzMAfPvb3x64Xb1ep1QqAfDwww+ftPPLlStXrlOts9JCGCTbtrn99tu55557GB4e5uKLL+bQoUN92910003ce++9lEolDh48yNzc3Ck421y5cuU6+cpHKufKlStXLmAXuYxy5cqVK9fGyoGQK1euXLmAHAi5cuXKlStTDoRcuXLlygXkQMiVK1euXJlyIOTKlStXLiAHQq5cuXLlypQDIVeuXLlyAfD/Axf4Ylo6ydNdAAAAAElFTkSuQmCC\n",
      "text/plain": [
       "<Figure size 432x288 with 1 Axes>"
      ]
     },
     "metadata": {},
     "output_type": "display_data"
    }
   ],
   "source": [
    "### type your answer here\n",
    "df_ic.plot(kind = 'line')\n"
   ]
  },
  {
   "cell_type": "markdown",
   "metadata": {
    "button": false,
    "deletable": true,
    "new_sheet": false,
    "run_control": {
     "read_only": false
    }
   },
   "source": [
    "Double-click __here__ for the solution.\n",
    "<!-- The correct answer is:\n",
    "df_CI.plot(kind='line')\n",
    "-->"
   ]
  },
  {
   "cell_type": "markdown",
   "metadata": {
    "button": false,
    "deletable": true,
    "new_sheet": false,
    "run_control": {
     "read_only": false
    }
   },
   "source": [
    "That doesn't look right...\n",
    "\n",
    "Recall that *pandas* plots the indices on the x-axis and the columns as individual lines on the y-axis. Since `df_CI` is a dataframe with the `country` as the index and `years` as the columns, we must first transpose the dataframe using `transpose()` method to swap the row and columns."
   ]
  },
  {
   "cell_type": "code",
   "execution_count": 65,
   "metadata": {
    "button": false,
    "collapsed": false,
    "deletable": true,
    "jupyter": {
     "outputs_hidden": false
    },
    "new_sheet": false,
    "run_control": {
     "read_only": false
    }
   },
   "outputs": [
    {
     "data": {
      "text/html": [
       "<div>\n",
       "<style scoped>\n",
       "    .dataframe tbody tr th:only-of-type {\n",
       "        vertical-align: middle;\n",
       "    }\n",
       "\n",
       "    .dataframe tbody tr th {\n",
       "        vertical-align: top;\n",
       "    }\n",
       "\n",
       "    .dataframe thead th {\n",
       "        text-align: right;\n",
       "    }\n",
       "</style>\n",
       "<table border=\"1\" class=\"dataframe\">\n",
       "  <thead>\n",
       "    <tr style=\"text-align: right;\">\n",
       "      <th></th>\n",
       "      <th>India</th>\n",
       "      <th>China</th>\n",
       "    </tr>\n",
       "  </thead>\n",
       "  <tbody>\n",
       "    <tr>\n",
       "      <th>1980</th>\n",
       "      <td>8880</td>\n",
       "      <td>5123</td>\n",
       "    </tr>\n",
       "    <tr>\n",
       "      <th>1981</th>\n",
       "      <td>8670</td>\n",
       "      <td>6682</td>\n",
       "    </tr>\n",
       "    <tr>\n",
       "      <th>1982</th>\n",
       "      <td>8147</td>\n",
       "      <td>3308</td>\n",
       "    </tr>\n",
       "    <tr>\n",
       "      <th>1983</th>\n",
       "      <td>7338</td>\n",
       "      <td>1863</td>\n",
       "    </tr>\n",
       "    <tr>\n",
       "      <th>1984</th>\n",
       "      <td>5704</td>\n",
       "      <td>1527</td>\n",
       "    </tr>\n",
       "  </tbody>\n",
       "</table>\n",
       "</div>"
      ],
      "text/plain": [
       "      India  China\n",
       "1980   8880   5123\n",
       "1981   8670   6682\n",
       "1982   8147   3308\n",
       "1983   7338   1863\n",
       "1984   5704   1527"
      ]
     },
     "execution_count": 65,
     "metadata": {},
     "output_type": "execute_result"
    }
   ],
   "source": [
    "df_ic = df_ic.transpose()\n",
    "df_ic.head()"
   ]
  },
  {
   "cell_type": "markdown",
   "metadata": {
    "button": false,
    "deletable": true,
    "new_sheet": false,
    "run_control": {
     "read_only": false
    }
   },
   "source": [
    "*pandas* will auomatically graph the two countries on the same graph. Go ahead and plot the new transposed dataframe. Make sure to add a title to the plot and label the axes."
   ]
  },
  {
   "cell_type": "code",
   "execution_count": 76,
   "metadata": {
    "button": false,
    "collapsed": false,
    "deletable": true,
    "jupyter": {
     "outputs_hidden": false
    },
    "new_sheet": false,
    "run_control": {
     "read_only": false
    }
   },
   "outputs": [
    {
     "ename": "TypeError",
     "evalue": "'str' object is not callable",
     "output_type": "error",
     "traceback": [
      "\u001b[0;31m---------------------------------------------------------------------------\u001b[0m",
      "\u001b[0;31mTypeError\u001b[0m                                 Traceback (most recent call last)",
      "\u001b[0;32m<ipython-input-76-39869cd1f6f8>\u001b[0m in \u001b[0;36m<module>\u001b[0;34m\u001b[0m\n\u001b[1;32m      3\u001b[0m \u001b[0mdf_ic\u001b[0m\u001b[0;34m.\u001b[0m\u001b[0mplot\u001b[0m\u001b[0;34m(\u001b[0m\u001b[0mkind\u001b[0m\u001b[0;34m=\u001b[0m\u001b[0;34m'line'\u001b[0m\u001b[0;34m)\u001b[0m\u001b[0;34m\u001b[0m\u001b[0;34m\u001b[0m\u001b[0m\n\u001b[1;32m      4\u001b[0m \u001b[0;34m\u001b[0m\u001b[0m\n\u001b[0;32m----> 5\u001b[0;31m \u001b[0mplt\u001b[0m\u001b[0;34m.\u001b[0m\u001b[0mtitle\u001b[0m\u001b[0;34m(\u001b[0m\u001b[0;34m'Immigrants from China and India'\u001b[0m\u001b[0;34m)\u001b[0m\u001b[0;34m\u001b[0m\u001b[0;34m\u001b[0m\u001b[0m\n\u001b[0m\u001b[1;32m      6\u001b[0m \u001b[0mplt\u001b[0m\u001b[0;34m.\u001b[0m\u001b[0mylabel\u001b[0m\u001b[0;34m(\u001b[0m\u001b[0;34m'Numbers of Immigrants'\u001b[0m\u001b[0;34m)\u001b[0m\u001b[0;34m\u001b[0m\u001b[0;34m\u001b[0m\u001b[0m\n\u001b[1;32m      7\u001b[0m \u001b[0mplt\u001b[0m\u001b[0;34m.\u001b[0m\u001b[0mxlabel\u001b[0m\u001b[0;34m(\u001b[0m\u001b[0;34m'Years'\u001b[0m\u001b[0;34m)\u001b[0m\u001b[0;34m\u001b[0m\u001b[0;34m\u001b[0m\u001b[0m\n",
      "\u001b[0;31mTypeError\u001b[0m: 'str' object is not callable"
     ]
    },
    {
     "data": {
      "image/png": "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\n",
      "text/plain": [
       "<Figure size 432x288 with 1 Axes>"
      ]
     },
     "metadata": {},
     "output_type": "display_data"
    }
   ],
   "source": [
    "### type your answer here\n",
    "df_ic.index = df_ic.index.map(int)\n",
    "df_ic.plot(kind='line')\n",
    "\n",
    "plt.title('Immigrants from China and India')\n",
    "plt.ylabel('Numbers of Immigrants')\n",
    "plt.xlabel('Years')\n",
    "\n",
    "plt.show()\n"
   ]
  },
  {
   "cell_type": "markdown",
   "metadata": {
    "button": false,
    "deletable": true,
    "new_sheet": false,
    "run_control": {
     "read_only": false
    }
   },
   "source": [
    "Double-click __here__ for the solution.\n",
    "<!-- The correct answer is:\n",
    "df_CI.index = df_CI.index.map(int) # let's change the index values of df_CI to type integer for plotting\n",
    "df_CI.plot(kind='line')\n",
    "-->\n",
    "\n",
    "<!--\n",
    "plt.title('Immigrants from China and India')\n",
    "plt.ylabel('Number of Immigrants')\n",
    "plt.xlabel('Years')\n",
    "-->\n",
    "\n",
    "<!--\n",
    "plt.show()\n",
    "--> "
   ]
  },
  {
   "cell_type": "markdown",
   "metadata": {
    "button": false,
    "deletable": true,
    "new_sheet": false,
    "run_control": {
     "read_only": false
    }
   },
   "source": [
    "From the above plot, we can observe that the China and India have very similar immigration trends through the years. "
   ]
  },
  {
   "cell_type": "markdown",
   "metadata": {
    "button": false,
    "deletable": true,
    "new_sheet": false,
    "run_control": {
     "read_only": false
    }
   },
   "source": [
    "*Note*: How come we didn't need to transpose Haiti's dataframe before plotting (like we did for df_CI)?\n",
    "\n",
    "That's because `haiti` is a series as opposed to a dataframe, and has the years as its indices as shown below. \n",
    "```python\n",
    "print(type(haiti))\n",
    "print(haiti.head(5))\n",
    "```\n",
    ">class 'pandas.core.series.Series' <br>\n",
    ">1980    1666 <br>\n",
    ">1981    3692 <br>\n",
    ">1982    3498 <br>\n",
    ">1983    2860 <br>\n",
    ">1984    1418 <br>\n",
    ">Name: Haiti, dtype: int64 <br>"
   ]
  },
  {
   "cell_type": "markdown",
   "metadata": {
    "button": false,
    "deletable": true,
    "new_sheet": false,
    "run_control": {
     "read_only": false
    }
   },
   "source": [
    "Line plot is a handy tool to display several dependent variables against one independent variable. However, it is recommended that no more than 5-10 lines on a single graph; any more than that and it becomes difficult to interpret."
   ]
  },
  {
   "cell_type": "markdown",
   "metadata": {
    "button": false,
    "deletable": true,
    "new_sheet": false,
    "run_control": {
     "read_only": false
    }
   },
   "source": [
    "**Question:** Compare the trend of top 5 countries that contributed the most to immigration to Canada."
   ]
  },
  {
   "cell_type": "code",
   "execution_count": 89,
   "metadata": {
    "button": false,
    "collapsed": false,
    "deletable": true,
    "jupyter": {
     "outputs_hidden": false
    },
    "new_sheet": false,
    "run_control": {
     "read_only": false
    }
   },
   "outputs": [
    {
     "name": "stdout",
     "output_type": "stream",
     "text": [
      "      India  China  United Kingdom of Great Britain and Northern Ireland  \\\n",
      "1980   8880   5123                                              22045      \n",
      "1981   8670   6682                                              24796      \n",
      "1982   8147   3308                                              20620      \n",
      "1983   7338   1863                                              10015      \n",
      "1984   5704   1527                                              10170      \n",
      "1985   4211   1816                                               9564      \n",
      "1986   7150   1960                                               9470      \n",
      "1987  10189   2643                                              21337      \n",
      "1988  11522   2758                                              27359      \n",
      "1989  10343   4323                                              23795      \n",
      "1990  12041   8076                                              31668      \n",
      "1991  13734  14255                                              23380      \n",
      "1992  13673  10846                                              34123      \n",
      "1993  21496   9817                                              33720      \n",
      "1994  18620  13128                                              39231      \n",
      "1995  18489  14398                                              30145      \n",
      "1996  23859  19415                                              29322      \n",
      "1997  22268  20475                                              22965      \n",
      "1998  17241  21049                                              10367      \n",
      "1999  18974  30069                                               7045      \n",
      "2000  28572  35529                                               8840      \n",
      "2001  31223  36434                                              11728      \n",
      "2002  31889  31961                                               8046      \n",
      "2003  27155  36439                                               6797      \n",
      "2004  28235  36619                                               7533      \n",
      "2005  36210  42584                                               7258      \n",
      "2006  33848  33518                                               7140      \n",
      "2007  28742  27642                                               8216      \n",
      "2008  28261  30037                                               8979      \n",
      "2009  29456  29622                                               8876      \n",
      "2010  34235  30391                                               8724      \n",
      "2011  27509  28502                                               6204      \n",
      "2012  30933  33024                                               6195      \n",
      "2013  33087  34129                                               5827      \n",
      "\n",
      "      Philippines  Pakistan  \n",
      "1980         6051       978  \n",
      "1981         5921       972  \n",
      "1982         5249      1201  \n",
      "1983         4562       900  \n",
      "1984         3801       668  \n",
      "1985         3150       514  \n",
      "1986         4166       691  \n",
      "1987         7360      1072  \n",
      "1988         8639      1334  \n",
      "1989        11865      2261  \n",
      "1990        12509      2470  \n",
      "1991        12718      3079  \n",
      "1992        13670      4071  \n",
      "1993        20479      4777  \n",
      "1994        19532      4666  \n",
      "1995        15864      4994  \n",
      "1996        13692      9125  \n",
      "1997        11549     13073  \n",
      "1998         8735      9068  \n",
      "1999         9734      9979  \n",
      "2000        10763     15400  \n",
      "2001        13836     16708  \n",
      "2002        11707     15110  \n",
      "2003        12758     13205  \n",
      "2004        14004     13399  \n",
      "2005        18139     14314  \n",
      "2006        18400     13127  \n",
      "2007        19837     10124  \n",
      "2008        24887      8994  \n",
      "2009        28573      7217  \n",
      "2010        38617      6811  \n",
      "2011        36765      7468  \n",
      "2012        34315     11227  \n",
      "2013        29544     12603  \n"
     ]
    },
    {
     "name": "stderr",
     "output_type": "stream",
     "text": [
      "/home/jupyterlab/conda/envs/python/lib/python3.6/site-packages/pandas/plotting/_matplotlib/core.py:1192: UserWarning: FixedFormatter should only be used together with FixedLocator\n",
      "  ax.set_xticklabels(xticklabels)\n"
     ]
    },
    {
     "data": {
      "image/png": "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\n",
      "text/plain": [
       "<Figure size 1008x576 with 1 Axes>"
      ]
     },
     "metadata": {},
     "output_type": "display_data"
    }
   ],
   "source": [
    "### type your answer here\n",
    "df_can.sort_values(by='Total', ascending=False, axis=0, inplace=True)\n",
    "\n",
    "df_top5 = df_can.head(5)\n",
    "df_top5 = df_top5[years].transpose()\n",
    "\n",
    "print(df_top5)\n",
    "\n",
    "df_top5.plot(kind='line', figsize = (14,8))\n",
    "\n",
    "plt.title = 'Top 5 Countries Immigrating to Canada'\n",
    "plt.xlabel = 'Years'\n",
    "plt.ylabel = 'Number of Immigrants'\n",
    "plt.show()\n"
   ]
  },
  {
   "cell_type": "markdown",
   "metadata": {
    "button": false,
    "deletable": true,
    "new_sheet": false,
    "run_control": {
     "read_only": false
    }
   },
   "source": [
    "Double-click __here__ for the solution.\n",
    "<!-- The correct answer is:\n",
    "\\\\ # Step 1: Get the dataset. Recall that we created a Total column that calculates the cumulative immigration by country. \\\\ We will sort on this column to get our top 5 countries using pandas sort_values() method.\n",
    "\\\\ inplace = True paramemter saves the changes to the original df_can dataframe\n",
    "df_can.sort_values(by='Total', ascending=False, axis=0, inplace=True)\n",
    "-->\n",
    "\n",
    "<!--\n",
    "# get the top 5 entries\n",
    "df_top5 = df_can.head(5)\n",
    "-->\n",
    "\n",
    "<!--\n",
    "# transpose the dataframe\n",
    "df_top5 = df_top5[years].transpose() \n",
    "-->\n",
    "\n",
    "<!--\n",
    "print(df_top5)\n",
    "-->\n",
    "\n",
    "<!--\n",
    "\\\\ # Step 2: Plot the dataframe. To make the plot more readeable, we will change the size using the `figsize` parameter.\n",
    "df_top5.index = df_top5.index.map(int) # let's change the index values of df_top5 to type integer for plotting\n",
    "df_top5.plot(kind='line', figsize=(14, 8)) # pass a tuple (x, y) size\n",
    "-->\n",
    "\n",
    "<!--\n",
    "plt.title('Immigration Trend of Top 5 Countries')\n",
    "plt.ylabel('Number of Immigrants')\n",
    "plt.xlabel('Years')\n",
    "-->\n",
    "\n",
    "<!--\n",
    "plt.show()\n",
    "-->"
   ]
  },
  {
   "cell_type": "markdown",
   "metadata": {
    "button": false,
    "deletable": true,
    "new_sheet": false,
    "run_control": {
     "read_only": false
    }
   },
   "source": [
    "### Other Plots\n",
    "\n",
    "Congratulations! you have learned how to wrangle data with python and create a line plot with Matplotlib. There are many other plotting styles available other than the default Line plot, all of which can be accessed by passing `kind` keyword to `plot()`. The full list of available plots are as follows:\n",
    "\n",
    "* `bar` for vertical bar plots\n",
    "* `barh` for horizontal bar plots\n",
    "* `hist` for histogram\n",
    "* `box` for boxplot\n",
    "* `kde` or `density` for density plots\n",
    "* `area` for area plots\n",
    "* `pie` for pie plots\n",
    "* `scatter` for scatter plots\n",
    "* `hexbin` for hexbin plot"
   ]
  },
  {
   "cell_type": "markdown",
   "metadata": {
    "button": false,
    "deletable": true,
    "new_sheet": false,
    "run_control": {
     "read_only": false
    }
   },
   "source": [
    "### Thank you for completing this lab!\n",
    "\n",
    "This notebook was originally created by [Jay Rajasekharan](https://www.linkedin.com/in/jayrajasekharan) with contributions from [Ehsan M. Kermani](https://www.linkedin.com/in/ehsanmkermani), and [Slobodan Markovic](https://www.linkedin.com/in/slobodan-markovic).\n",
    "\n",
    "This notebook was recently revised by [Alex Aklson](https://www.linkedin.com/in/aklson/). I hope you found this lab session interesting. Feel free to contact me if you have any questions!"
   ]
  },
  {
   "cell_type": "markdown",
   "metadata": {
    "button": false,
    "deletable": true,
    "new_sheet": false,
    "run_control": {
     "read_only": false
    }
   },
   "source": [
    "This notebook is part of a course on **Coursera** called *Data Visualization with Python*. If you accessed this notebook outside the course, you can take this course online by clicking [here](http://cocl.us/DV0101EN_Coursera_Week1_LAB1)."
   ]
  },
  {
   "cell_type": "markdown",
   "metadata": {
    "button": false,
    "deletable": true,
    "new_sheet": false,
    "run_control": {
     "read_only": false
    }
   },
   "source": [
    "<hr>\n",
    "\n",
    "Copyright &copy; 2019 [Cognitive Class](https://cognitiveclass.ai/?utm_source=bducopyrightlink&utm_medium=dswb&utm_campaign=bdu). This notebook and its source code are released under the terms of the [MIT License](https://bigdatauniversity.com/mit-license/)."
   ]
  }
 ],
 "metadata": {
  "kernelspec": {
   "display_name": "Python",
   "language": "python",
   "name": "conda-env-python-py"
  },
  "language_info": {
   "codemirror_mode": {
    "name": "ipython",
    "version": 3
   },
   "file_extension": ".py",
   "mimetype": "text/x-python",
   "name": "python",
   "nbconvert_exporter": "python",
   "pygments_lexer": "ipython3",
   "version": "3.6.11"
  },
  "widgets": {
   "state": {},
   "version": "1.1.2"
  }
 },
 "nbformat": 4,
 "nbformat_minor": 4
}
